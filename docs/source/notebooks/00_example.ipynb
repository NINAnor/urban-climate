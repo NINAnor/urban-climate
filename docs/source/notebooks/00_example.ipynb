{
 "cells": [
  {
   "cell_type": "markdown",
   "metadata": {},
   "source": [
    "<table class=\"ee-notebook-buttons\" align=\"left\">\n",
    "    <td><a target=\"_blank\"  href=\"https://github.com/ac-willeke/urban-climate\"><img width=32px src=\"https://www.tensorflow.org/images/GitHub-Mark-32px.png\" style=\"filter: invert(100%)\"/> View source on GitHub</a></td>\n",
    "    <td><a target=\"_blank\"  href=\"https://colab.research.google.com/github/NINAnor/mapper-soilCondition/blob/main/src/data/GEE_display_data.ipynb\"><img src=\"https://www.tensorflow.org/images/colab_logo_32px.png\" /> Run in Google Colab</a></td>\n",
    "</table>"
   ]
  },
  {
   "cell_type": "markdown",
   "metadata": {},
   "source": [
    "# Test notebook \n",
    "\n",
    "**Author**: Willeke A'Campo\n",
    "\n",
    "**Description:** text here\n",
    "\n",
    "**Documentation:** "
   ]
  },
  {
   "cell_type": "code",
   "execution_count": null,
   "metadata": {},
   "outputs": [],
   "source": [
    "# test \n",
    "#import os "
   ]
  },
  {
   "cell_type": "code",
   "execution_count": null,
   "metadata": {},
   "outputs": [],
   "source": []
  }
 ],
 "metadata": {
  "language_info": {
   "name": "python"
  }
 },
 "nbformat": 4,
 "nbformat_minor": 2
}
