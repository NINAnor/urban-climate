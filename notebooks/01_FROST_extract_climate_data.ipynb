{
 "cells": [
  {
   "cell_type": "markdown",
   "metadata": {},
   "source": [
    "# Extract historical climate data from the Norwegian Meteorological Institute (MET)\n",
    "\n",
    "[![colab](https://colab.research.google.com/assets/colab-badge.svg)](https://colab.research.google.com/github/ac-willeke/urban-climate/blob/main/notebooks/01_FROST_extract_climate_data.ipynb) [![github](https://img.shields.io/badge/GitHub-View%20on%20GitHub-blue?logo=github)](https://github.com/ac-willeke/)\n",
    "\n",
    "**Author**: Willeke A'Campo\n",
    "\n",
    "**Description:** This notebook extracts historical climate data from the Norwegian Meteorological Institute (MET) using the FROST API. The data is stored in a pandas dataframe and saved as a csv file. The data is used to detect the hottest summer on record in Bærum, Bodø, Kristiansand, and Oslo. \n",
    "\n",
    "**Data source:** [Documentation Frost MET](https://frost.met.no/index.html)\n",
    "\n",
    "**Result Summary:** \n",
    "\n",
    "The table shows hottest summer on record in Bærum, Bodø, Kristiansand, and Oslo.\n",
    "\n",
    "| City | Station | SourceID | Coordinates | Hottest Summer during Landsat-8 observation period| Temperature | Hottest Summer on record | Temperature |\n",
    "| --- | --- | --- | --- | --- | --- | --- | --- |\n",
    "| Bærum | Oslo (Blindern) | SN18700 | 10.723072, 59.940625| 2018 | 18.8 | 1997 | 18.8 |\n",
    "| Bodø | Bodø (Lufthavn) | SN82310 | 14.375128, 67.282669| 2023 | 14.1| 2023 | 14.1 |\n",
    "| Kristiansand | Kristiansand (Lufthavn) |  SN39040| 7.995733, 58.14615| 2018 | 17.5 | 2018 | 17.5 |\n",
    "| Oslo | Oslo (Blindern) | SN18700 | 10.723072, 59.940625| 2018 | 18.8 | 1997 | 18.8 |\n"
   ]
  },
  {
   "cell_type": "code",
   "execution_count": 1,
   "metadata": {},
   "outputs": [],
   "source": [
    "import requests\n",
    "import pandas as pd\n",
    "import yaml\n",
    "import os \n",
    "from pathlib import Path\n",
    "\n",
    "project_path= Path.cwd().parents[0]\n",
    "credentials_file = os.path.join(project_path, 'conf/local/credentials.yml') \n",
    "\n",
    "# read client id from conf/local/credentials.yml\n",
    "with open(credentials_file, 'r') as f:\n",
    "    credentials = yaml.safe_load(f)\n",
    "    client_id = credentials['frost_api']['client_id']\n",
    "    client_key = credentials['frost_api']['client_key'] "
   ]
  },
  {
   "cell_type": "markdown",
   "metadata": {},
   "source": [
    "### Stations Request"
   ]
  },
  {
   "cell_type": "code",
   "execution_count": 3,
   "metadata": {},
   "outputs": [],
   "source": [
    "# Define stations endpoint\n",
    "endpoint_stations = 'https://frost.met.no/locations/v0.jsonld'\n",
    "# Issue an HTTP GET request\n",
    "r = requests.get(endpoint_stations, auth=(client_id,''))\n",
    "# Extract JSON data\n",
    "json_stations = r.json()"
   ]
  },
  {
   "cell_type": "code",
   "execution_count": 4,
   "metadata": {},
   "outputs": [
    {
     "name": "stdout",
     "output_type": "stream",
     "text": [
      "Blindern [10.723072, 59.940625]\n",
      "Bodø [14.375128, 67.282669]\n",
      "Kristiansand [7.995733, 58.14615]\n",
      "Oslo [10.746092, 59.912728]\n"
     ]
    }
   ],
   "source": [
    "# search for station with name Oslo, Kristiansand, Bodø and Bæerum\n",
    "for station in json_stations['data']:\n",
    "    # print station name and coordinates\n",
    "    if station['name'] == 'Oslo':\n",
    "        print(station['name'], station['geometry']['coordinates']) \n",
    "    if station['name'] == 'Kristiansand':\n",
    "        print(station['name'], station['geometry']['coordinates'])\n",
    "    if station['name'] == 'Bodø':\n",
    "        print(station['name'], station['geometry']['coordinates'])\n",
    "    if station['name'] == 'Blindern':\n",
    "        print(station['name'], station['geometry']['coordinates'])"
   ]
  },
  {
   "cell_type": "markdown",
   "metadata": {},
   "source": [
    "### Observations Request"
   ]
  },
  {
   "cell_type": "code",
   "execution_count": 5,
   "metadata": {},
   "outputs": [],
   "source": [
    "# Define endpoint and parameters\n",
    "endpoint_observations = 'https://frost.met.no/observations/v0.jsonld'\n",
    "\n",
    "parameters = {\n",
    "    'sources': 'SN18700,SN39040,SN82310', # oslo/bærum, kristiansand, bodø \n",
    "    'elements': 'mean(air_temperature P3M)', # best_estimate_mean(air_temperature P3M) \n",
    "    'referencetime': '1900-01-01/2023-10-01',\n",
    "}\n",
    "r = requests.get(endpoint_observations, parameters, auth=(client_id,''))\n",
    "json = r.json()"
   ]
  },
  {
   "cell_type": "code",
   "execution_count": 6,
   "metadata": {},
   "outputs": [
    {
     "name": "stdout",
     "output_type": "stream",
     "text": [
      "Data retrieved from frost.met.no!\n"
     ]
    }
   ],
   "source": [
    "# Check if the request worked, print out any errors\n",
    "if r.status_code == 200:\n",
    "    data = json['data']\n",
    "    print('Data retrieved from frost.met.no!')\n",
    "else:\n",
    "    print('Error! Returned status code %s' % r.status_code)\n",
    "    print('Message: %s' % json['error']['message'])\n",
    "    print('Reason: %s' % json['error']['reason'])"
   ]
  },
  {
   "cell_type": "code",
   "execution_count": 7,
   "metadata": {},
   "outputs": [],
   "source": [
    "# Return a Dataframe with all of the observations in a table format\n",
    "df = pd.DataFrame()\n",
    "for i in range(len(data)):\n",
    "    row = pd.DataFrame(data[i]['observations'])\n",
    "    row['referenceTime'] = data[i]['referenceTime']\n",
    "    row['sourceId'] = data[i]['sourceId']\n",
    "    df = pd.concat([df, row], ignore_index=True)\n",
    "\n",
    "df = df.reset_index()"
   ]
  },
  {
   "cell_type": "code",
   "execution_count": 8,
   "metadata": {},
   "outputs": [],
   "source": [
    "# These columns will be kept\n",
    "columns = ['sourceId','referenceTime','elementId','value','unit','timeOffset']\n",
    "df2 = df[columns].copy()\n",
    "# Convert the time value to Python standard datetime format\n",
    "df2['referenceTime'] = pd.to_datetime(df2['referenceTime'])"
   ]
  },
  {
   "cell_type": "code",
   "execution_count": 9,
   "metadata": {},
   "outputs": [],
   "source": [
    "# only show the data for the summer months\n",
    "df_summer = df2[(df2['referenceTime'].dt.month >= 6) & (df2['referenceTime'].dt.month <= 8)]"
   ]
  },
  {
   "cell_type": "markdown",
   "metadata": {},
   "source": [
    "### Oslo and Bærums Hottest Summer on Record\n",
    "\n",
    "The hottes summer on record for Bærum and Oslo during Landsat 8 observation period (2013 - present) is 2018."
   ]
  },
  {
   "cell_type": "code",
   "execution_count": 13,
   "metadata": {},
   "outputs": [
    {
     "data": {
      "text/html": [
       "<div>\n",
       "<style scoped>\n",
       "    .dataframe tbody tr th:only-of-type {\n",
       "        vertical-align: middle;\n",
       "    }\n",
       "\n",
       "    .dataframe tbody tr th {\n",
       "        vertical-align: top;\n",
       "    }\n",
       "\n",
       "    .dataframe thead th {\n",
       "        text-align: right;\n",
       "    }\n",
       "</style>\n",
       "<table border=\"1\" class=\"dataframe\">\n",
       "  <thead>\n",
       "    <tr style=\"text-align: right;\">\n",
       "      <th></th>\n",
       "      <th>index</th>\n",
       "      <th>sourceId</th>\n",
       "      <th>referenceTime</th>\n",
       "      <th>elementId</th>\n",
       "      <th>value</th>\n",
       "      <th>unit</th>\n",
       "      <th>timeOffset</th>\n",
       "    </tr>\n",
       "  </thead>\n",
       "  <tbody>\n",
       "    <tr>\n",
       "      <th>60</th>\n",
       "      <td>241</td>\n",
       "      <td>SN18700:0</td>\n",
       "      <td>1997-06-01 00:00:00+00:00</td>\n",
       "      <td>mean(air_temperature P3M)</td>\n",
       "      <td>18.8</td>\n",
       "      <td>degC</td>\n",
       "      <td>PT0H</td>\n",
       "    </tr>\n",
       "    <tr>\n",
       "      <th>81</th>\n",
       "      <td>325</td>\n",
       "      <td>SN18700:0</td>\n",
       "      <td>2018-06-01 00:00:00+00:00</td>\n",
       "      <td>mean(air_temperature P3M)</td>\n",
       "      <td>18.8</td>\n",
       "      <td>degC</td>\n",
       "      <td>PT0H</td>\n",
       "    </tr>\n",
       "    <tr>\n",
       "      <th>10</th>\n",
       "      <td>41</td>\n",
       "      <td>SN18700:0</td>\n",
       "      <td>1947-06-01 00:00:00+00:00</td>\n",
       "      <td>mean(air_temperature P3M)</td>\n",
       "      <td>18.7</td>\n",
       "      <td>degC</td>\n",
       "      <td>PT0H</td>\n",
       "    </tr>\n",
       "  </tbody>\n",
       "</table>\n",
       "</div>"
      ],
      "text/plain": [
       "    index   sourceId             referenceTime                  elementId  \\\n",
       "60    241  SN18700:0 1997-06-01 00:00:00+00:00  mean(air_temperature P3M)   \n",
       "81    325  SN18700:0 2018-06-01 00:00:00+00:00  mean(air_temperature P3M)   \n",
       "10     41  SN18700:0 1947-06-01 00:00:00+00:00  mean(air_temperature P3M)   \n",
       "\n",
       "    value  unit timeOffset  \n",
       "60   18.8  degC       PT0H  \n",
       "81   18.8  degC       PT0H  \n",
       "10   18.7  degC       PT0H  "
      ]
     },
     "metadata": {},
     "output_type": "display_data"
    }
   ],
   "source": [
    "# separate df for oslo\n",
    "df_oslo = df_summer[df_summer['sourceId'] == 'SN18700:0'].copy()\n",
    "df_oslo = df_oslo.reset_index()\n",
    "# sort by warmest summer\n",
    "df_oslo.sort_values(by=['value'], inplace=True, ascending=False)\n",
    "display(df_oslo.head(3))"
   ]
  },
  {
   "cell_type": "markdown",
   "metadata": {},
   "source": [
    "### Kristiansand Hottest summer on record \n",
    "\n",
    "The hottest summer on record for Kristiansand during Landsat 8 observation period (2013 - present) is 2018."
   ]
  },
  {
   "cell_type": "code",
   "execution_count": 14,
   "metadata": {},
   "outputs": [
    {
     "data": {
      "text/html": [
       "<div>\n",
       "<style scoped>\n",
       "    .dataframe tbody tr th:only-of-type {\n",
       "        vertical-align: middle;\n",
       "    }\n",
       "\n",
       "    .dataframe tbody tr th {\n",
       "        vertical-align: top;\n",
       "    }\n",
       "\n",
       "    .dataframe thead th {\n",
       "        text-align: right;\n",
       "    }\n",
       "</style>\n",
       "<table border=\"1\" class=\"dataframe\">\n",
       "  <thead>\n",
       "    <tr style=\"text-align: right;\">\n",
       "      <th></th>\n",
       "      <th>index</th>\n",
       "      <th>sourceId</th>\n",
       "      <th>referenceTime</th>\n",
       "      <th>elementId</th>\n",
       "      <th>value</th>\n",
       "      <th>unit</th>\n",
       "      <th>timeOffset</th>\n",
       "    </tr>\n",
       "  </thead>\n",
       "  <tbody>\n",
       "    <tr>\n",
       "      <th>77</th>\n",
       "      <td>655</td>\n",
       "      <td>SN39040:0</td>\n",
       "      <td>2018-06-01 00:00:00+00:00</td>\n",
       "      <td>mean(air_temperature P3M)</td>\n",
       "      <td>17.5</td>\n",
       "      <td>degC</td>\n",
       "      <td>PT0H</td>\n",
       "    </tr>\n",
       "    <tr>\n",
       "      <th>56</th>\n",
       "      <td>572</td>\n",
       "      <td>SN39040:0</td>\n",
       "      <td>1997-06-01 00:00:00+00:00</td>\n",
       "      <td>mean(air_temperature P3M)</td>\n",
       "      <td>17.4</td>\n",
       "      <td>degC</td>\n",
       "      <td>PT0H</td>\n",
       "    </tr>\n",
       "    <tr>\n",
       "      <th>6</th>\n",
       "      <td>372</td>\n",
       "      <td>SN39040:0</td>\n",
       "      <td>1947-06-01 00:00:00+00:00</td>\n",
       "      <td>mean(air_temperature P3M)</td>\n",
       "      <td>17.2</td>\n",
       "      <td>degC</td>\n",
       "      <td>PT0H</td>\n",
       "    </tr>\n",
       "  </tbody>\n",
       "</table>\n",
       "</div>"
      ],
      "text/plain": [
       "    index   sourceId             referenceTime                  elementId  \\\n",
       "77    655  SN39040:0 2018-06-01 00:00:00+00:00  mean(air_temperature P3M)   \n",
       "56    572  SN39040:0 1997-06-01 00:00:00+00:00  mean(air_temperature P3M)   \n",
       "6     372  SN39040:0 1947-06-01 00:00:00+00:00  mean(air_temperature P3M)   \n",
       "\n",
       "    value  unit timeOffset  \n",
       "77   17.5  degC       PT0H  \n",
       "56   17.4  degC       PT0H  \n",
       "6    17.2  degC       PT0H  "
      ]
     },
     "metadata": {},
     "output_type": "display_data"
    }
   ],
   "source": [
    "# separate df for kristiansand\n",
    "df_kristiansand = df_summer[df_summer['sourceId'] == 'SN39040:0'].copy()\n",
    "df_kristiansand = df_kristiansand.reset_index()\n",
    "# sort by warmest summer\n",
    "df_kristiansand.sort_values(by=['value'], inplace=True, ascending=False)\n",
    "display(df_kristiansand.head(3))\n"
   ]
  },
  {
   "cell_type": "markdown",
   "metadata": {},
   "source": [
    "### Bodø Hottest summer on record \n",
    "\n",
    "The hottest summer on record for Bodø during Landsat 8 observation period (2013 - present) is 2023."
   ]
  },
  {
   "cell_type": "code",
   "execution_count": 15,
   "metadata": {},
   "outputs": [
    {
     "data": {
      "text/html": [
       "<div>\n",
       "<style scoped>\n",
       "    .dataframe tbody tr th:only-of-type {\n",
       "        vertical-align: middle;\n",
       "    }\n",
       "\n",
       "    .dataframe tbody tr th {\n",
       "        vertical-align: top;\n",
       "    }\n",
       "\n",
       "    .dataframe thead th {\n",
       "        text-align: right;\n",
       "    }\n",
       "</style>\n",
       "<table border=\"1\" class=\"dataframe\">\n",
       "  <thead>\n",
       "    <tr style=\"text-align: right;\">\n",
       "      <th></th>\n",
       "      <th>index</th>\n",
       "      <th>sourceId</th>\n",
       "      <th>referenceTime</th>\n",
       "      <th>elementId</th>\n",
       "      <th>value</th>\n",
       "      <th>unit</th>\n",
       "      <th>timeOffset</th>\n",
       "    </tr>\n",
       "  </thead>\n",
       "  <tbody>\n",
       "    <tr>\n",
       "      <th>5</th>\n",
       "      <td>697</td>\n",
       "      <td>SN82310:0</td>\n",
       "      <td>2023-06-01 00:00:00+00:00</td>\n",
       "      <td>mean(air_temperature P3M)</td>\n",
       "      <td>14.1</td>\n",
       "      <td>degC</td>\n",
       "      <td>PT0H</td>\n",
       "    </tr>\n",
       "    <tr>\n",
       "      <th>3</th>\n",
       "      <td>689</td>\n",
       "      <td>SN82310:0</td>\n",
       "      <td>2020-06-01 00:00:00+00:00</td>\n",
       "      <td>mean(air_temperature P3M)</td>\n",
       "      <td>13.5</td>\n",
       "      <td>degC</td>\n",
       "      <td>PT0H</td>\n",
       "    </tr>\n",
       "    <tr>\n",
       "      <th>2</th>\n",
       "      <td>685</td>\n",
       "      <td>SN82310:0</td>\n",
       "      <td>2019-06-01 00:00:00+00:00</td>\n",
       "      <td>mean(air_temperature P3M)</td>\n",
       "      <td>13.2</td>\n",
       "      <td>degC</td>\n",
       "      <td>PT0H</td>\n",
       "    </tr>\n",
       "  </tbody>\n",
       "</table>\n",
       "</div>"
      ],
      "text/plain": [
       "   index   sourceId             referenceTime                  elementId  \\\n",
       "5    697  SN82310:0 2023-06-01 00:00:00+00:00  mean(air_temperature P3M)   \n",
       "3    689  SN82310:0 2020-06-01 00:00:00+00:00  mean(air_temperature P3M)   \n",
       "2    685  SN82310:0 2019-06-01 00:00:00+00:00  mean(air_temperature P3M)   \n",
       "\n",
       "   value  unit timeOffset  \n",
       "5   14.1  degC       PT0H  \n",
       "3   13.5  degC       PT0H  \n",
       "2   13.2  degC       PT0H  "
      ]
     },
     "metadata": {},
     "output_type": "display_data"
    }
   ],
   "source": [
    "# separate df for bodø\n",
    "df_bodø = df_summer[df_summer['sourceId'] == 'SN82310:0'].copy()\n",
    "df_bodø = df_bodø.reset_index()\n",
    "# sort by warmest summer\n",
    "df_bodø.sort_values(by=['value'], inplace=True, ascending=False)\n",
    "display(df_bodø.head(3))"
   ]
  }
 ],
 "metadata": {
  "kernelspec": {
   "display_name": "urban-climate-services",
   "language": "python",
   "name": "python3"
  },
  "language_info": {
   "codemirror_mode": {
    "name": "ipython",
    "version": 3
   },
   "file_extension": ".py",
   "mimetype": "text/x-python",
   "name": "python",
   "nbconvert_exporter": "python",
   "pygments_lexer": "ipython3",
   "version": "3.10.12"
  }
 },
 "nbformat": 4,
 "nbformat_minor": 2
}
