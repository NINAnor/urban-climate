{
 "cells": [
  {
   "cell_type": "markdown",
   "metadata": {},
   "source": [
    "<table class=\"ee-notebook-buttons\" align=\"left\">\n",
    "    <td><a target=\"_blank\"  href=\"https://github.com/ac-willeke/urban-climate\"><img width=32px src=\"https://www.tensorflow.org/images/GitHub-Mark-32px.png\" style=\"filter: invert(100%)\"/> View source on GitHub</a></td>\n",
    "    <td><a target=\"_blank\"  href=\"https://colab.research.google.com/github/NINAnor/mapper-soilCondition/blob/main/src/data/GEE_display_data.ipynb\"><img src=\"https://www.tensorflow.org/images/colab_logo_32px.png\" /> Run in Google Colab</a></td>\n",
    "</table>"
   ]
  },
  {
   "cell_type": "markdown",
   "metadata": {},
   "source": [
    "# Tutorial | Run Kedro Pipelines form a Jupyter Notebook\n",
    "\n",
    "**Author**: Willeke A'Campo\n",
    "\n",
    "**Description:** This notebooks shows how to run the Kedro pipelines defined in `src/urban_climate` from a Jupyter Notebook.\n",
    "\n",
    "**Documentation:** #https://docs.kedro.org/en/stable/notebooks_and_ipython/kedro_and_notebooks.html#useful-to-know"
   ]
  },
  {
   "cell_type": "code",
   "execution_count": 1,
   "metadata": {},
   "outputs": [
    {
     "data": {
      "text/html": [
       "<pre style=\"white-space:pre;overflow-x:auto;line-height:normal;font-family:Menlo,'DejaVu Sans Mono',consolas,'Courier New',monospace\"><span style=\"color: #7fbfbf; text-decoration-color: #7fbfbf\">[09/23/23 14:49:08] </span><span style=\"color: #000080; text-decoration-color: #000080\">INFO    </span> Resolved project path as:                                              <a href=\"file:///home/willeke.acampo/miniconda3/envs/urban-climate-services/lib/python3.10/site-packages/kedro/ipython/__init__.py\" target=\"_blank\"><span style=\"color: #7f7f7f; text-decoration-color: #7f7f7f\">__init__.py</span></a><span style=\"color: #7f7f7f; text-decoration-color: #7f7f7f\">:</span><a href=\"file:///home/willeke.acampo/miniconda3/envs/urban-climate-services/lib/python3.10/site-packages/kedro/ipython/__init__.py#139\" target=\"_blank\"><span style=\"color: #7f7f7f; text-decoration-color: #7f7f7f\">139</span></a>\n",
       "<span style=\"color: #7fbfbf; text-decoration-color: #7fbfbf\">                    </span>         <span style=\"color: #800080; text-decoration-color: #800080\">/home/willeke.acampo/git/ac-willeke/</span><span style=\"color: #ff00ff; text-decoration-color: #ff00ff\">urban-climate-services.</span>            <span style=\"color: #7f7f7f; text-decoration-color: #7f7f7f\">               </span>\n",
       "<span style=\"color: #7fbfbf; text-decoration-color: #7fbfbf\">                    </span>         To set a different path, run <span style=\"color: #008000; text-decoration-color: #008000\">'%reload_kedro &lt;project_root&gt;'</span>            <span style=\"color: #7f7f7f; text-decoration-color: #7f7f7f\">               </span>\n",
       "</pre>\n"
      ],
      "text/plain": [
       "\u001b[2;36m[09/23/23 14:49:08]\u001b[0m\u001b[2;36m \u001b[0m\u001b[34mINFO    \u001b[0m Resolved project path as:                                              \u001b]8;id=12946;file:///home/willeke.acampo/miniconda3/envs/urban-climate-services/lib/python3.10/site-packages/kedro/ipython/__init__.py\u001b\\\u001b[2m__init__.py\u001b[0m\u001b]8;;\u001b\\\u001b[2m:\u001b[0m\u001b]8;id=45539;file:///home/willeke.acampo/miniconda3/envs/urban-climate-services/lib/python3.10/site-packages/kedro/ipython/__init__.py#139\u001b\\\u001b[2m139\u001b[0m\u001b]8;;\u001b\\\n",
       "\u001b[2;36m                    \u001b[0m         \u001b[35m/home/willeke.acampo/git/ac-willeke/\u001b[0m\u001b[95murban-climate-services.\u001b[0m            \u001b[2m               \u001b[0m\n",
       "\u001b[2;36m                    \u001b[0m         To set a different path, run \u001b[32m'%reload_kedro \u001b[0m\u001b[32m<\u001b[0m\u001b[32mproject_root\u001b[0m\u001b[32m>\u001b[0m\u001b[32m'\u001b[0m            \u001b[2m               \u001b[0m\n"
      ]
     },
     "metadata": {},
     "output_type": "display_data"
    },
    {
     "data": {
      "text/html": [
       "<pre style=\"white-space:pre;overflow-x:auto;line-height:normal;font-family:Menlo,'DejaVu Sans Mono',consolas,'Courier New',monospace\"><span style=\"color: #7fbfbf; text-decoration-color: #7fbfbf\">[09/23/23 14:49:09] </span><span style=\"color: #000080; text-decoration-color: #000080\">INFO    </span> Kedro project Urban Climate Services                                   <a href=\"file:///home/willeke.acampo/miniconda3/envs/urban-climate-services/lib/python3.10/site-packages/kedro/ipython/__init__.py\" target=\"_blank\"><span style=\"color: #7f7f7f; text-decoration-color: #7f7f7f\">__init__.py</span></a><span style=\"color: #7f7f7f; text-decoration-color: #7f7f7f\">:</span><a href=\"file:///home/willeke.acampo/miniconda3/envs/urban-climate-services/lib/python3.10/site-packages/kedro/ipython/__init__.py#108\" target=\"_blank\"><span style=\"color: #7f7f7f; text-decoration-color: #7f7f7f\">108</span></a>\n",
       "</pre>\n"
      ],
      "text/plain": [
       "\u001b[2;36m[09/23/23 14:49:09]\u001b[0m\u001b[2;36m \u001b[0m\u001b[34mINFO    \u001b[0m Kedro project Urban Climate Services                                   \u001b]8;id=37543;file:///home/willeke.acampo/miniconda3/envs/urban-climate-services/lib/python3.10/site-packages/kedro/ipython/__init__.py\u001b\\\u001b[2m__init__.py\u001b[0m\u001b]8;;\u001b\\\u001b[2m:\u001b[0m\u001b]8;id=350970;file:///home/willeke.acampo/miniconda3/envs/urban-climate-services/lib/python3.10/site-packages/kedro/ipython/__init__.py#108\u001b\\\u001b[2m108\u001b[0m\u001b]8;;\u001b\\\n"
      ]
     },
     "metadata": {},
     "output_type": "display_data"
    },
    {
     "data": {
      "text/html": [
       "<pre style=\"white-space:pre;overflow-x:auto;line-height:normal;font-family:Menlo,'DejaVu Sans Mono',consolas,'Courier New',monospace\"><span style=\"color: #7fbfbf; text-decoration-color: #7fbfbf\">                    </span><span style=\"color: #000080; text-decoration-color: #000080\">INFO    </span> Defined global variable <span style=\"color: #008000; text-decoration-color: #008000\">'context'</span>, <span style=\"color: #008000; text-decoration-color: #008000\">'session'</span>, <span style=\"color: #008000; text-decoration-color: #008000\">'catalog'</span> and            <a href=\"file:///home/willeke.acampo/miniconda3/envs/urban-climate-services/lib/python3.10/site-packages/kedro/ipython/__init__.py\" target=\"_blank\"><span style=\"color: #7f7f7f; text-decoration-color: #7f7f7f\">__init__.py</span></a><span style=\"color: #7f7f7f; text-decoration-color: #7f7f7f\">:</span><a href=\"file:///home/willeke.acampo/miniconda3/envs/urban-climate-services/lib/python3.10/site-packages/kedro/ipython/__init__.py#109\" target=\"_blank\"><span style=\"color: #7f7f7f; text-decoration-color: #7f7f7f\">109</span></a>\n",
       "<span style=\"color: #7fbfbf; text-decoration-color: #7fbfbf\">                    </span>         <span style=\"color: #008000; text-decoration-color: #008000\">'pipelines'</span>                                                            <span style=\"color: #7f7f7f; text-decoration-color: #7f7f7f\">               </span>\n",
       "</pre>\n"
      ],
      "text/plain": [
       "\u001b[2;36m                   \u001b[0m\u001b[2;36m \u001b[0m\u001b[34mINFO    \u001b[0m Defined global variable \u001b[32m'context'\u001b[0m, \u001b[32m'session'\u001b[0m, \u001b[32m'catalog'\u001b[0m and            \u001b]8;id=965079;file:///home/willeke.acampo/miniconda3/envs/urban-climate-services/lib/python3.10/site-packages/kedro/ipython/__init__.py\u001b\\\u001b[2m__init__.py\u001b[0m\u001b]8;;\u001b\\\u001b[2m:\u001b[0m\u001b]8;id=702960;file:///home/willeke.acampo/miniconda3/envs/urban-climate-services/lib/python3.10/site-packages/kedro/ipython/__init__.py#109\u001b\\\u001b[2m109\u001b[0m\u001b]8;;\u001b\\\n",
       "\u001b[2;36m                    \u001b[0m         \u001b[32m'pipelines'\u001b[0m                                                            \u001b[2m               \u001b[0m\n"
      ]
     },
     "metadata": {},
     "output_type": "display_data"
    },
    {
     "data": {
      "text/html": [
       "<pre style=\"white-space:pre;overflow-x:auto;line-height:normal;font-family:Menlo,'DejaVu Sans Mono',consolas,'Courier New',monospace\"><span style=\"color: #7fbfbf; text-decoration-color: #7fbfbf\">[09/23/23 14:49:10] </span><span style=\"color: #000080; text-decoration-color: #000080\">INFO    </span> Registered line magic <span style=\"color: #008000; text-decoration-color: #008000\">'run_viz'</span>                                        <a href=\"file:///home/willeke.acampo/miniconda3/envs/urban-climate-services/lib/python3.10/site-packages/kedro/ipython/__init__.py\" target=\"_blank\"><span style=\"color: #7f7f7f; text-decoration-color: #7f7f7f\">__init__.py</span></a><span style=\"color: #7f7f7f; text-decoration-color: #7f7f7f\">:</span><a href=\"file:///home/willeke.acampo/miniconda3/envs/urban-climate-services/lib/python3.10/site-packages/kedro/ipython/__init__.py#115\" target=\"_blank\"><span style=\"color: #7f7f7f; text-decoration-color: #7f7f7f\">115</span></a>\n",
       "</pre>\n"
      ],
      "text/plain": [
       "\u001b[2;36m[09/23/23 14:49:10]\u001b[0m\u001b[2;36m \u001b[0m\u001b[34mINFO    \u001b[0m Registered line magic \u001b[32m'run_viz'\u001b[0m                                        \u001b]8;id=66289;file:///home/willeke.acampo/miniconda3/envs/urban-climate-services/lib/python3.10/site-packages/kedro/ipython/__init__.py\u001b\\\u001b[2m__init__.py\u001b[0m\u001b]8;;\u001b\\\u001b[2m:\u001b[0m\u001b]8;id=587320;file:///home/willeke.acampo/miniconda3/envs/urban-climate-services/lib/python3.10/site-packages/kedro/ipython/__init__.py#115\u001b\\\u001b[2m115\u001b[0m\u001b]8;;\u001b\\\n"
      ]
     },
     "metadata": {},
     "output_type": "display_data"
    }
   ],
   "source": [
    "# explicitly load the Kedro IPython extension\n",
    "%load_ext kedro.ipython"
   ]
  },
  {
   "cell_type": "code",
   "execution_count": 2,
   "metadata": {},
   "outputs": [
    {
     "name": "stdout",
     "output_type": "stream",
     "text": [
      "/home/willeke.acampo/git/ac-willeke/urban-climate-services urban-climate-services\n"
     ]
    }
   ],
   "source": [
    "from kedro.io import DataCatalog\n",
    "from kedro_datasets.pandas import CSVDataSet\n",
    "from kedro_datasets.geopandas import GeoJSONDataSet\n",
    "\n",
    "# context import resolve kedro\n",
    "from pathlib import Path\n",
    "\n",
    "project_path= Path.cwd().parents[0]\n",
    "package_name = Path.cwd().parent.name\n",
    "print(project_path, package_name)"
   ]
  },
  {
   "cell_type": "code",
   "execution_count": 3,
   "metadata": {},
   "outputs": [
    {
     "data": {
      "text/html": [
       "<pre style=\"white-space:pre;overflow-x:auto;line-height:normal;font-family:Menlo,'DejaVu Sans Mono',consolas,'Courier New',monospace\"></pre>\n"
      ],
      "text/plain": []
     },
     "metadata": {},
     "output_type": "display_data"
    },
    {
     "data": {
      "text/plain": [
       "\u001b[32m'kristiansand'\u001b[0m"
      ]
     },
     "execution_count": 3,
     "metadata": {},
     "output_type": "execute_result"
    }
   ],
   "source": [
    "# accessing parameters in kedro ipython \n",
    "context.params['municipality']"
   ]
  },
  {
   "cell_type": "code",
   "execution_count": 4,
   "metadata": {},
   "outputs": [
    {
     "name": "stdout",
     "output_type": "stream",
     "text": [
      "{'municipality': 'kristiansand', 'dst_crs': 'EPSG:25832', 'scaling_factor': 100}\n"
     ]
    }
   ],
   "source": [
    "from kedro.config import OmegaConfigLoader\n",
    "from kedro.framework.project import settings\n",
    "\n",
    "# Instantiate a ConfigLoader with the location of your project configuration.\n",
    "conf_path = str(project_path / settings.CONF_SOURCE)\n",
    "conf_loader = OmegaConfigLoader(conf_source=conf_path)\n",
    "\n",
    "# This line shows how to access the catalog configuration. You can access other configuration in the same way.\n",
    "conf_catalog = conf_loader[\"catalog\"]\n",
    "params = conf_loader[\"parameters\"]\n",
    "print(params)"
   ]
  },
  {
   "cell_type": "code",
   "execution_count": 8,
   "metadata": {},
   "outputs": [
    {
     "data": {
      "text/html": [
       "<pre style=\"white-space:pre;overflow-x:auto;line-height:normal;font-family:Menlo,'DejaVu Sans Mono',consolas,'Courier New',monospace\"><span style=\"color: #7fbfbf; text-decoration-color: #7fbfbf\">[09/23/23 14:50:38] </span><span style=\"color: #000080; text-decoration-color: #000080\">INFO    </span> Loading data from <span style=\"color: #008000; text-decoration-color: #008000\">'test_data'</span> <span style=\"font-weight: bold\">(</span>GeoTIFFDataSet<span style=\"font-weight: bold\">)</span><span style=\"color: #808000; text-decoration-color: #808000\">...</span>                  <a href=\"file:///home/willeke.acampo/miniconda3/envs/urban-climate-services/lib/python3.10/site-packages/kedro/io/data_catalog.py\" target=\"_blank\"><span style=\"color: #7f7f7f; text-decoration-color: #7f7f7f\">data_catalog.py</span></a><span style=\"color: #7f7f7f; text-decoration-color: #7f7f7f\">:</span><a href=\"file:///home/willeke.acampo/miniconda3/envs/urban-climate-services/lib/python3.10/site-packages/kedro/io/data_catalog.py#492\" target=\"_blank\"><span style=\"color: #7f7f7f; text-decoration-color: #7f7f7f\">492</span></a>\n",
       "</pre>\n"
      ],
      "text/plain": [
       "\u001b[2;36m[09/23/23 14:50:38]\u001b[0m\u001b[2;36m \u001b[0m\u001b[34mINFO    \u001b[0m Loading data from \u001b[32m'test_data'\u001b[0m \u001b[1m(\u001b[0mGeoTIFFDataSet\u001b[1m)\u001b[0m\u001b[33m...\u001b[0m                  \u001b]8;id=626365;file:///home/willeke.acampo/miniconda3/envs/urban-climate-services/lib/python3.10/site-packages/kedro/io/data_catalog.py\u001b\\\u001b[2mdata_catalog.py\u001b[0m\u001b]8;;\u001b\\\u001b[2m:\u001b[0m\u001b]8;id=342166;file:///home/willeke.acampo/miniconda3/envs/urban-climate-services/lib/python3.10/site-packages/kedro/io/data_catalog.py#492\u001b\\\u001b[2m492\u001b[0m\u001b]8;;\u001b\\\n"
      ]
     },
     "metadata": {},
     "output_type": "display_data"
    },
    {
     "data": {
      "text/html": [
       "<pre style=\"white-space:pre;overflow-x:auto;line-height:normal;font-family:Menlo,'DejaVu Sans Mono',consolas,'Courier New',monospace\"><span style=\"color: #7fbfbf; text-decoration-color: #7fbfbf\">                    </span><span style=\"color: #000080; text-decoration-color: #000080\">INFO    </span> <span style=\"font-weight: bold\">{</span><span style=\"color: #008000; text-decoration-color: #008000\">'mask'</span>: <span style=\"color: #00ff00; text-decoration-color: #00ff00; font-style: italic\">True</span>, <span style=\"color: #008000; text-decoration-color: #008000\">'mask_path'</span>: <span style=\"color: #008000; text-decoration-color: #008000\">'data/01_raw/study_area.geojson'</span><span style=\"font-weight: bold\">}</span>    <a href=\"file:///home/willeke.acampo/git/ac-willeke/urban-climate-services/src/urban_climate_services/custom_datasets/geotiff_dataset.py\" target=\"_blank\"><span style=\"color: #7f7f7f; text-decoration-color: #7f7f7f\">geotiff_dataset.py</span></a><span style=\"color: #7f7f7f; text-decoration-color: #7f7f7f\">:</span><a href=\"file:///home/willeke.acampo/git/ac-willeke/urban-climate-services/src/urban_climate_services/custom_datasets/geotiff_dataset.py#62\" target=\"_blank\"><span style=\"color: #7f7f7f; text-decoration-color: #7f7f7f\">62</span></a>\n",
       "</pre>\n"
      ],
      "text/plain": [
       "\u001b[2;36m                   \u001b[0m\u001b[2;36m \u001b[0m\u001b[34mINFO    \u001b[0m \u001b[1m{\u001b[0m\u001b[32m'mask'\u001b[0m: \u001b[3;92mTrue\u001b[0m, \u001b[32m'mask_path'\u001b[0m: \u001b[32m'data/01_raw/study_area.geojson'\u001b[0m\u001b[1m}\u001b[0m    \u001b]8;id=747797;file:///home/willeke.acampo/git/ac-willeke/urban-climate-services/src/urban_climate_services/custom_datasets/geotiff_dataset.py\u001b\\\u001b[2mgeotiff_dataset.py\u001b[0m\u001b]8;;\u001b\\\u001b[2m:\u001b[0m\u001b]8;id=654021;file:///home/willeke.acampo/git/ac-willeke/urban-climate-services/src/urban_climate_services/custom_datasets/geotiff_dataset.py#62\u001b\\\u001b[2m62\u001b[0m\u001b]8;;\u001b\\\n"
      ]
     },
     "metadata": {},
     "output_type": "display_data"
    },
    {
     "data": {
      "text/html": [
       "<pre style=\"white-space:pre;overflow-x:auto;line-height:normal;font-family:Menlo,'DejaVu Sans Mono',consolas,'Courier New',monospace\"><span style=\"color: #7fbfbf; text-decoration-color: #7fbfbf\">                    </span><span style=\"color: #000080; text-decoration-color: #000080\">INFO    </span> Loading data with mask<span style=\"color: #808000; text-decoration-color: #808000\">...</span>                                        <a href=\"file:///home/willeke.acampo/git/ac-willeke/urban-climate-services/src/urban_climate_services/custom_datasets/geotiff_dataset.py\" target=\"_blank\"><span style=\"color: #7f7f7f; text-decoration-color: #7f7f7f\">geotiff_dataset.py</span></a><span style=\"color: #7f7f7f; text-decoration-color: #7f7f7f\">:</span><a href=\"file:///home/willeke.acampo/git/ac-willeke/urban-climate-services/src/urban_climate_services/custom_datasets/geotiff_dataset.py#66\" target=\"_blank\"><span style=\"color: #7f7f7f; text-decoration-color: #7f7f7f\">66</span></a>\n",
       "</pre>\n"
      ],
      "text/plain": [
       "\u001b[2;36m                   \u001b[0m\u001b[2;36m \u001b[0m\u001b[34mINFO    \u001b[0m Loading data with mask\u001b[33m...\u001b[0m                                        \u001b]8;id=459221;file:///home/willeke.acampo/git/ac-willeke/urban-climate-services/src/urban_climate_services/custom_datasets/geotiff_dataset.py\u001b\\\u001b[2mgeotiff_dataset.py\u001b[0m\u001b]8;;\u001b\\\u001b[2m:\u001b[0m\u001b]8;id=561362;file:///home/willeke.acampo/git/ac-willeke/urban-climate-services/src/urban_climate_services/custom_datasets/geotiff_dataset.py#66\u001b\\\u001b[2m66\u001b[0m\u001b]8;;\u001b\\\n"
      ]
     },
     "metadata": {},
     "output_type": "display_data"
    },
    {
     "data": {
      "text/html": [
       "<pre style=\"white-space:pre;overflow-x:auto;line-height:normal;font-family:Menlo,'DejaVu Sans Mono',consolas,'Courier New',monospace\"><span style=\"color: #7fbfbf; text-decoration-color: #7fbfbf\">                    </span><span style=\"color: #000080; text-decoration-color: #000080\">INFO    </span> <span style=\"color: #800080; text-decoration-color: #800080\">/home/willeke.acampo/git/ac-willeke/</span><span style=\"color: #ff00ff; text-decoration-color: #ff00ff\">urban-climate-services</span>       <a href=\"file:///home/willeke.acampo/git/ac-willeke/urban-climate-services/src/urban_climate_services/custom_datasets/geotiff_dataset.py\" target=\"_blank\"><span style=\"color: #7f7f7f; text-decoration-color: #7f7f7f\">geotiff_dataset.py</span></a><span style=\"color: #7f7f7f; text-decoration-color: #7f7f7f\">:</span><a href=\"file:///home/willeke.acampo/git/ac-willeke/urban-climate-services/src/urban_climate_services/custom_datasets/geotiff_dataset.py#67\" target=\"_blank\"><span style=\"color: #7f7f7f; text-decoration-color: #7f7f7f\">67</span></a>\n",
       "</pre>\n"
      ],
      "text/plain": [
       "\u001b[2;36m                   \u001b[0m\u001b[2;36m \u001b[0m\u001b[34mINFO    \u001b[0m \u001b[35m/home/willeke.acampo/git/ac-willeke/\u001b[0m\u001b[95murban-climate-services\u001b[0m       \u001b]8;id=963694;file:///home/willeke.acampo/git/ac-willeke/urban-climate-services/src/urban_climate_services/custom_datasets/geotiff_dataset.py\u001b\\\u001b[2mgeotiff_dataset.py\u001b[0m\u001b]8;;\u001b\\\u001b[2m:\u001b[0m\u001b]8;id=364875;file:///home/willeke.acampo/git/ac-willeke/urban-climate-services/src/urban_climate_services/custom_datasets/geotiff_dataset.py#67\u001b\\\u001b[2m67\u001b[0m\u001b]8;;\u001b\\\n"
      ]
     },
     "metadata": {},
     "output_type": "display_data"
    },
    {
     "data": {
      "text/html": [
       "<pre style=\"white-space:pre;overflow-x:auto;line-height:normal;font-family:Menlo,'DejaVu Sans Mono',consolas,'Courier New',monospace\"><span style=\"color: #7fbfbf; text-decoration-color: #7fbfbf\">                    </span><span style=\"color: #000080; text-decoration-color: #000080\">INFO    </span> <span style=\"color: #800080; text-decoration-color: #800080\">/home/willeke.acampo/git/ac-willeke/urban-climate-services/data/</span> <a href=\"file:///home/willeke.acampo/git/ac-willeke/urban-climate-services/src/urban_climate_services/custom_datasets/geotiff_dataset.py\" target=\"_blank\"><span style=\"color: #7f7f7f; text-decoration-color: #7f7f7f\">geotiff_dataset.py</span></a><span style=\"color: #7f7f7f; text-decoration-color: #7f7f7f\">:</span><a href=\"file:///home/willeke.acampo/git/ac-willeke/urban-climate-services/src/urban_climate_services/custom_datasets/geotiff_dataset.py#71\" target=\"_blank\"><span style=\"color: #7f7f7f; text-decoration-color: #7f7f7f\">71</span></a>\n",
       "<span style=\"color: #7fbfbf; text-decoration-color: #7fbfbf\">                    </span>         <span style=\"color: #800080; text-decoration-color: #800080\">01_raw/</span><span style=\"color: #ff00ff; text-decoration-color: #ff00ff\">study_area.geojson</span>                                        <span style=\"color: #7f7f7f; text-decoration-color: #7f7f7f\">                     </span>\n",
       "</pre>\n"
      ],
      "text/plain": [
       "\u001b[2;36m                   \u001b[0m\u001b[2;36m \u001b[0m\u001b[34mINFO    \u001b[0m \u001b[35m/home/willeke.acampo/git/ac-willeke/urban-climate-services/data/\u001b[0m \u001b]8;id=164366;file:///home/willeke.acampo/git/ac-willeke/urban-climate-services/src/urban_climate_services/custom_datasets/geotiff_dataset.py\u001b\\\u001b[2mgeotiff_dataset.py\u001b[0m\u001b]8;;\u001b\\\u001b[2m:\u001b[0m\u001b]8;id=852532;file:///home/willeke.acampo/git/ac-willeke/urban-climate-services/src/urban_climate_services/custom_datasets/geotiff_dataset.py#71\u001b\\\u001b[2m71\u001b[0m\u001b]8;;\u001b\\\n",
       "\u001b[2;36m                    \u001b[0m         \u001b[35m01_raw/\u001b[0m\u001b[95mstudy_area.geojson\u001b[0m                                        \u001b[2m                     \u001b[0m\n"
      ]
     },
     "metadata": {},
     "output_type": "display_data"
    },
    {
     "data": {
      "text/html": [
       "<pre style=\"white-space:pre;overflow-x:auto;line-height:normal;font-family:Menlo,'DejaVu Sans Mono',consolas,'Courier New',monospace\"><span style=\"color: #7fbfbf; text-decoration-color: #7fbfbf\">                    </span><span style=\"color: #000080; text-decoration-color: #000080\">INFO    </span> Shapes: <span style=\"font-weight: bold\">[&lt;</span><span style=\"color: #ff00ff; text-decoration-color: #ff00ff; font-weight: bold\">fiona.model.Geometry</span><span style=\"color: #000000; text-decoration-color: #000000\"> object at </span><span style=\"color: #008080; text-decoration-color: #008080; font-weight: bold\">0x7fa844eca170</span><span style=\"font-weight: bold\">&gt;]</span>        <a href=\"file:///home/willeke.acampo/git/ac-willeke/urban-climate-services/src/urban_climate_services/custom_datasets/geotiff_dataset.py\" target=\"_blank\"><span style=\"color: #7f7f7f; text-decoration-color: #7f7f7f\">geotiff_dataset.py</span></a><span style=\"color: #7f7f7f; text-decoration-color: #7f7f7f\">:</span><a href=\"file:///home/willeke.acampo/git/ac-willeke/urban-climate-services/src/urban_climate_services/custom_datasets/geotiff_dataset.py#75\" target=\"_blank\"><span style=\"color: #7f7f7f; text-decoration-color: #7f7f7f\">75</span></a>\n",
       "</pre>\n"
      ],
      "text/plain": [
       "\u001b[2;36m                   \u001b[0m\u001b[2;36m \u001b[0m\u001b[34mINFO    \u001b[0m Shapes: \u001b[1m[\u001b[0m\u001b[1m<\u001b[0m\u001b[1;95mfiona.model.Geometry\u001b[0m\u001b[39m object at \u001b[0m\u001b[1;36m0x7fa844eca170\u001b[0m\u001b[1m>\u001b[0m\u001b[1m]\u001b[0m        \u001b]8;id=814090;file:///home/willeke.acampo/git/ac-willeke/urban-climate-services/src/urban_climate_services/custom_datasets/geotiff_dataset.py\u001b\\\u001b[2mgeotiff_dataset.py\u001b[0m\u001b]8;;\u001b\\\u001b[2m:\u001b[0m\u001b]8;id=63115;file:///home/willeke.acampo/git/ac-willeke/urban-climate-services/src/urban_climate_services/custom_datasets/geotiff_dataset.py#75\u001b\\\u001b[2m75\u001b[0m\u001b]8;;\u001b\\\n"
      ]
     },
     "metadata": {},
     "output_type": "display_data"
    },
    {
     "data": {
      "text/html": [
       "<pre style=\"white-space:pre;overflow-x:auto;line-height:normal;font-family:Menlo,'DejaVu Sans Mono',consolas,'Courier New',monospace\"><span style=\"color: #7fbfbf; text-decoration-color: #7fbfbf\">                    </span><span style=\"color: #000080; text-decoration-color: #000080\">INFO    </span> Object not found in virtual filesystem:                                      <a href=\"file:///home/willeke.acampo/miniconda3/envs/urban-climate-services/lib/python3.10/site-packages/rasterio/io.py\" target=\"_blank\"><span style=\"color: #7f7f7f; text-decoration-color: #7f7f7f\">io.py</span></a><span style=\"color: #7f7f7f; text-decoration-color: #7f7f7f\">:</span><a href=\"file:///home/willeke.acampo/miniconda3/envs/urban-climate-services/lib/python3.10/site-packages/rasterio/io.py#236\" target=\"_blank\"><span style=\"color: #7f7f7f; text-decoration-color: #7f7f7f\">236</span></a>\n",
       "<span style=\"color: #7fbfbf; text-decoration-color: #7fbfbf\">                    </span>         <span style=\"color: #808000; text-decoration-color: #808000\">filename</span>=<span style=\"color: #008000; text-decoration-color: #008000\">b'627eda99-264e-4bbc-8b88-1fdff0f3d213/627eda99-264e-4bbc-8b88-1fdf</span> <span style=\"color: #7f7f7f; text-decoration-color: #7f7f7f\">         </span>\n",
       "<span style=\"color: #7fbfbf; text-decoration-color: #7fbfbf\">                    </span>         <span style=\"color: #008000; text-decoration-color: #008000\">f0f3d213.aux'</span>                                                                <span style=\"color: #7f7f7f; text-decoration-color: #7f7f7f\">         </span>\n",
       "</pre>\n"
      ],
      "text/plain": [
       "\u001b[2;36m                   \u001b[0m\u001b[2;36m \u001b[0m\u001b[34mINFO    \u001b[0m Object not found in virtual filesystem:                                      \u001b]8;id=802388;file:///home/willeke.acampo/miniconda3/envs/urban-climate-services/lib/python3.10/site-packages/rasterio/io.py\u001b\\\u001b[2mio.py\u001b[0m\u001b]8;;\u001b\\\u001b[2m:\u001b[0m\u001b]8;id=168201;file:///home/willeke.acampo/miniconda3/envs/urban-climate-services/lib/python3.10/site-packages/rasterio/io.py#236\u001b\\\u001b[2m236\u001b[0m\u001b]8;;\u001b\\\n",
       "\u001b[2;36m                    \u001b[0m         \u001b[33mfilename\u001b[0m=\u001b[32mb\u001b[0m\u001b[32m'627eda99-264e-4bbc-8b88-1fdff0f3d213/627eda99-264e-4bbc-8b88-1fdf\u001b[0m \u001b[2m         \u001b[0m\n",
       "\u001b[2;36m                    \u001b[0m         \u001b[32mf0f3d213.aux'\u001b[0m                                                                \u001b[2m         \u001b[0m\n"
      ]
     },
     "metadata": {},
     "output_type": "display_data"
    },
    {
     "data": {
      "text/html": [
       "<pre style=\"white-space:pre;overflow-x:auto;line-height:normal;font-family:Menlo,'DejaVu Sans Mono',consolas,'Courier New',monospace\"><span style=\"color: #7fbfbf; text-decoration-color: #7fbfbf\">                    </span><span style=\"color: #000080; text-decoration-color: #000080\">INFO    </span> Object not found in virtual filesystem:                                      <a href=\"file:///home/willeke.acampo/miniconda3/envs/urban-climate-services/lib/python3.10/site-packages/rasterio/io.py\" target=\"_blank\"><span style=\"color: #7f7f7f; text-decoration-color: #7f7f7f\">io.py</span></a><span style=\"color: #7f7f7f; text-decoration-color: #7f7f7f\">:</span><a href=\"file:///home/willeke.acampo/miniconda3/envs/urban-climate-services/lib/python3.10/site-packages/rasterio/io.py#236\" target=\"_blank\"><span style=\"color: #7f7f7f; text-decoration-color: #7f7f7f\">236</span></a>\n",
       "<span style=\"color: #7fbfbf; text-decoration-color: #7fbfbf\">                    </span>         <span style=\"color: #808000; text-decoration-color: #808000\">filename</span>=<span style=\"color: #008000; text-decoration-color: #008000\">b'627eda99-264e-4bbc-8b88-1fdff0f3d213/627eda99-264e-4bbc-8b88-1fdf</span> <span style=\"color: #7f7f7f; text-decoration-color: #7f7f7f\">         </span>\n",
       "<span style=\"color: #7fbfbf; text-decoration-color: #7fbfbf\">                    </span>         <span style=\"color: #008000; text-decoration-color: #008000\">f0f3d213.AUX'</span>                                                                <span style=\"color: #7f7f7f; text-decoration-color: #7f7f7f\">         </span>\n",
       "</pre>\n"
      ],
      "text/plain": [
       "\u001b[2;36m                   \u001b[0m\u001b[2;36m \u001b[0m\u001b[34mINFO    \u001b[0m Object not found in virtual filesystem:                                      \u001b]8;id=104854;file:///home/willeke.acampo/miniconda3/envs/urban-climate-services/lib/python3.10/site-packages/rasterio/io.py\u001b\\\u001b[2mio.py\u001b[0m\u001b]8;;\u001b\\\u001b[2m:\u001b[0m\u001b]8;id=229604;file:///home/willeke.acampo/miniconda3/envs/urban-climate-services/lib/python3.10/site-packages/rasterio/io.py#236\u001b\\\u001b[2m236\u001b[0m\u001b]8;;\u001b\\\n",
       "\u001b[2;36m                    \u001b[0m         \u001b[33mfilename\u001b[0m=\u001b[32mb\u001b[0m\u001b[32m'627eda99-264e-4bbc-8b88-1fdff0f3d213/627eda99-264e-4bbc-8b88-1fdf\u001b[0m \u001b[2m         \u001b[0m\n",
       "\u001b[2;36m                    \u001b[0m         \u001b[32mf0f3d213.AUX'\u001b[0m                                                                \u001b[2m         \u001b[0m\n"
      ]
     },
     "metadata": {},
     "output_type": "display_data"
    },
    {
     "data": {
      "text/html": [
       "<pre style=\"white-space:pre;overflow-x:auto;line-height:normal;font-family:Menlo,'DejaVu Sans Mono',consolas,'Courier New',monospace\"><span style=\"color: #7fbfbf; text-decoration-color: #7fbfbf\">                    </span><span style=\"color: #000080; text-decoration-color: #000080\">INFO    </span> Object not found in virtual filesystem:                                      <a href=\"file:///home/willeke.acampo/miniconda3/envs/urban-climate-services/lib/python3.10/site-packages/rasterio/io.py\" target=\"_blank\"><span style=\"color: #7f7f7f; text-decoration-color: #7f7f7f\">io.py</span></a><span style=\"color: #7f7f7f; text-decoration-color: #7f7f7f\">:</span><a href=\"file:///home/willeke.acampo/miniconda3/envs/urban-climate-services/lib/python3.10/site-packages/rasterio/io.py#236\" target=\"_blank\"><span style=\"color: #7f7f7f; text-decoration-color: #7f7f7f\">236</span></a>\n",
       "<span style=\"color: #7fbfbf; text-decoration-color: #7fbfbf\">                    </span>         <span style=\"color: #808000; text-decoration-color: #808000\">filename</span>=<span style=\"color: #008000; text-decoration-color: #008000\">b'627eda99-264e-4bbc-8b88-1fdff0f3d213/627eda99-264e-4bbc-8b88-1fdf</span> <span style=\"color: #7f7f7f; text-decoration-color: #7f7f7f\">         </span>\n",
       "<span style=\"color: #7fbfbf; text-decoration-color: #7fbfbf\">                    </span>         <span style=\"color: #008000; text-decoration-color: #008000\">f0f3d213.aux'</span>                                                                <span style=\"color: #7f7f7f; text-decoration-color: #7f7f7f\">         </span>\n",
       "</pre>\n"
      ],
      "text/plain": [
       "\u001b[2;36m                   \u001b[0m\u001b[2;36m \u001b[0m\u001b[34mINFO    \u001b[0m Object not found in virtual filesystem:                                      \u001b]8;id=672797;file:///home/willeke.acampo/miniconda3/envs/urban-climate-services/lib/python3.10/site-packages/rasterio/io.py\u001b\\\u001b[2mio.py\u001b[0m\u001b]8;;\u001b\\\u001b[2m:\u001b[0m\u001b]8;id=547054;file:///home/willeke.acampo/miniconda3/envs/urban-climate-services/lib/python3.10/site-packages/rasterio/io.py#236\u001b\\\u001b[2m236\u001b[0m\u001b]8;;\u001b\\\n",
       "\u001b[2;36m                    \u001b[0m         \u001b[33mfilename\u001b[0m=\u001b[32mb\u001b[0m\u001b[32m'627eda99-264e-4bbc-8b88-1fdff0f3d213/627eda99-264e-4bbc-8b88-1fdf\u001b[0m \u001b[2m         \u001b[0m\n",
       "\u001b[2;36m                    \u001b[0m         \u001b[32mf0f3d213.aux'\u001b[0m                                                                \u001b[2m         \u001b[0m\n"
      ]
     },
     "metadata": {},
     "output_type": "display_data"
    },
    {
     "data": {
      "text/html": [
       "<pre style=\"white-space:pre;overflow-x:auto;line-height:normal;font-family:Menlo,'DejaVu Sans Mono',consolas,'Courier New',monospace\"><span style=\"color: #7fbfbf; text-decoration-color: #7fbfbf\">                    </span><span style=\"color: #000080; text-decoration-color: #000080\">INFO    </span> Object not found in virtual filesystem:                                      <a href=\"file:///home/willeke.acampo/miniconda3/envs/urban-climate-services/lib/python3.10/site-packages/rasterio/io.py\" target=\"_blank\"><span style=\"color: #7f7f7f; text-decoration-color: #7f7f7f\">io.py</span></a><span style=\"color: #7f7f7f; text-decoration-color: #7f7f7f\">:</span><a href=\"file:///home/willeke.acampo/miniconda3/envs/urban-climate-services/lib/python3.10/site-packages/rasterio/io.py#236\" target=\"_blank\"><span style=\"color: #7f7f7f; text-decoration-color: #7f7f7f\">236</span></a>\n",
       "<span style=\"color: #7fbfbf; text-decoration-color: #7fbfbf\">                    </span>         <span style=\"color: #808000; text-decoration-color: #808000\">filename</span>=<span style=\"color: #008000; text-decoration-color: #008000\">b'627eda99-264e-4bbc-8b88-1fdff0f3d213/627eda99-264e-4bbc-8b88-1fdf</span> <span style=\"color: #7f7f7f; text-decoration-color: #7f7f7f\">         </span>\n",
       "<span style=\"color: #7fbfbf; text-decoration-color: #7fbfbf\">                    </span>         <span style=\"color: #008000; text-decoration-color: #008000\">f0f3d213.AUX'</span>                                                                <span style=\"color: #7f7f7f; text-decoration-color: #7f7f7f\">         </span>\n",
       "</pre>\n"
      ],
      "text/plain": [
       "\u001b[2;36m                   \u001b[0m\u001b[2;36m \u001b[0m\u001b[34mINFO    \u001b[0m Object not found in virtual filesystem:                                      \u001b]8;id=95980;file:///home/willeke.acampo/miniconda3/envs/urban-climate-services/lib/python3.10/site-packages/rasterio/io.py\u001b\\\u001b[2mio.py\u001b[0m\u001b]8;;\u001b\\\u001b[2m:\u001b[0m\u001b]8;id=874743;file:///home/willeke.acampo/miniconda3/envs/urban-climate-services/lib/python3.10/site-packages/rasterio/io.py#236\u001b\\\u001b[2m236\u001b[0m\u001b]8;;\u001b\\\n",
       "\u001b[2;36m                    \u001b[0m         \u001b[33mfilename\u001b[0m=\u001b[32mb\u001b[0m\u001b[32m'627eda99-264e-4bbc-8b88-1fdff0f3d213/627eda99-264e-4bbc-8b88-1fdf\u001b[0m \u001b[2m         \u001b[0m\n",
       "\u001b[2;36m                    \u001b[0m         \u001b[32mf0f3d213.AUX'\u001b[0m                                                                \u001b[2m         \u001b[0m\n"
      ]
     },
     "metadata": {},
     "output_type": "display_data"
    },
    {
     "data": {
      "text/html": [
       "<pre style=\"white-space:pre;overflow-x:auto;line-height:normal;font-family:Menlo,'DejaVu Sans Mono',consolas,'Courier New',monospace\"><span style=\"color: #7fbfbf; text-decoration-color: #7fbfbf\">                    </span><span style=\"color: #000080; text-decoration-color: #000080\">INFO    </span> Number of bands: <span style=\"color: #008080; text-decoration-color: #008080; font-weight: bold\">6</span>                                              <a href=\"file:///home/willeke.acampo/git/ac-willeke/urban-climate-services/src/urban_climate_services/custom_datasets/geotiff_dataset.py\" target=\"_blank\"><span style=\"color: #7f7f7f; text-decoration-color: #7f7f7f\">geotiff_dataset.py</span></a><span style=\"color: #7f7f7f; text-decoration-color: #7f7f7f\">:</span><a href=\"file:///home/willeke.acampo/git/ac-willeke/urban-climate-services/src/urban_climate_services/custom_datasets/geotiff_dataset.py#108\" target=\"_blank\"><span style=\"color: #7f7f7f; text-decoration-color: #7f7f7f\">108</span></a>\n",
       "</pre>\n"
      ],
      "text/plain": [
       "\u001b[2;36m                   \u001b[0m\u001b[2;36m \u001b[0m\u001b[34mINFO    \u001b[0m Number of bands: \u001b[1;36m6\u001b[0m                                              \u001b]8;id=951656;file:///home/willeke.acampo/git/ac-willeke/urban-climate-services/src/urban_climate_services/custom_datasets/geotiff_dataset.py\u001b\\\u001b[2mgeotiff_dataset.py\u001b[0m\u001b]8;;\u001b\\\u001b[2m:\u001b[0m\u001b]8;id=543982;file:///home/willeke.acampo/git/ac-willeke/urban-climate-services/src/urban_climate_services/custom_datasets/geotiff_dataset.py#108\u001b\\\u001b[2m108\u001b[0m\u001b]8;;\u001b\\\n"
      ]
     },
     "metadata": {},
     "output_type": "display_data"
    },
    {
     "data": {
      "text/html": [
       "<pre style=\"white-space:pre;overflow-x:auto;line-height:normal;font-family:Menlo,'DejaVu Sans Mono',consolas,'Courier New',monospace\"><span style=\"color: #7fbfbf; text-decoration-color: #7fbfbf\">                    </span><span style=\"color: #000080; text-decoration-color: #000080\">INFO    </span> Band names: <span style=\"font-weight: bold\">(</span><span style=\"color: #008000; text-decoration-color: #008000\">'DTM'</span>, <span style=\"color: #008000; text-decoration-color: #008000\">'fractionGrass'</span>, <span style=\"color: #008000; text-decoration-color: #008000\">'fractionCropland'</span>,        <a href=\"file:///home/willeke.acampo/git/ac-willeke/urban-climate-services/src/urban_climate_services/custom_datasets/geotiff_dataset.py\" target=\"_blank\"><span style=\"color: #7f7f7f; text-decoration-color: #7f7f7f\">geotiff_dataset.py</span></a><span style=\"color: #7f7f7f; text-decoration-color: #7f7f7f\">:</span><a href=\"file:///home/willeke.acampo/git/ac-willeke/urban-climate-services/src/urban_climate_services/custom_datasets/geotiff_dataset.py#109\" target=\"_blank\"><span style=\"color: #7f7f7f; text-decoration-color: #7f7f7f\">109</span></a>\n",
       "<span style=\"color: #7fbfbf; text-decoration-color: #7fbfbf\">                    </span>         <span style=\"color: #008000; text-decoration-color: #008000\">'fractionBuilt'</span>, <span style=\"color: #008000; text-decoration-color: #008000\">'fractionWater'</span>, <span style=\"color: #008000; text-decoration-color: #008000\">'LST'</span><span style=\"font-weight: bold\">)</span>                        <span style=\"color: #7f7f7f; text-decoration-color: #7f7f7f\">                      </span>\n",
       "</pre>\n"
      ],
      "text/plain": [
       "\u001b[2;36m                   \u001b[0m\u001b[2;36m \u001b[0m\u001b[34mINFO    \u001b[0m Band names: \u001b[1m(\u001b[0m\u001b[32m'DTM'\u001b[0m, \u001b[32m'fractionGrass'\u001b[0m, \u001b[32m'fractionCropland'\u001b[0m,        \u001b]8;id=851600;file:///home/willeke.acampo/git/ac-willeke/urban-climate-services/src/urban_climate_services/custom_datasets/geotiff_dataset.py\u001b\\\u001b[2mgeotiff_dataset.py\u001b[0m\u001b]8;;\u001b\\\u001b[2m:\u001b[0m\u001b]8;id=660145;file:///home/willeke.acampo/git/ac-willeke/urban-climate-services/src/urban_climate_services/custom_datasets/geotiff_dataset.py#109\u001b\\\u001b[2m109\u001b[0m\u001b]8;;\u001b\\\n",
       "\u001b[2;36m                    \u001b[0m         \u001b[32m'fractionBuilt'\u001b[0m, \u001b[32m'fractionWater'\u001b[0m, \u001b[32m'LST'\u001b[0m\u001b[1m)\u001b[0m                        \u001b[2m                      \u001b[0m\n"
      ]
     },
     "metadata": {},
     "output_type": "display_data"
    },
    {
     "data": {
      "text/html": [
       "<pre style=\"white-space:pre;overflow-x:auto;line-height:normal;font-family:Menlo,'DejaVu Sans Mono',consolas,'Courier New',monospace\"><span style=\"color: #7fbfbf; text-decoration-color: #7fbfbf\">                    </span><span style=\"color: #000080; text-decoration-color: #000080\">INFO    </span> CRS: EPSG:<span style=\"color: #008080; text-decoration-color: #008080; font-weight: bold\">25832</span>                                                 <a href=\"file:///home/willeke.acampo/git/ac-willeke/urban-climate-services/src/urban_climate_services/custom_datasets/geotiff_dataset.py\" target=\"_blank\"><span style=\"color: #7f7f7f; text-decoration-color: #7f7f7f\">geotiff_dataset.py</span></a><span style=\"color: #7f7f7f; text-decoration-color: #7f7f7f\">:</span><a href=\"file:///home/willeke.acampo/git/ac-willeke/urban-climate-services/src/urban_climate_services/custom_datasets/geotiff_dataset.py#110\" target=\"_blank\"><span style=\"color: #7f7f7f; text-decoration-color: #7f7f7f\">110</span></a>\n",
       "</pre>\n"
      ],
      "text/plain": [
       "\u001b[2;36m                   \u001b[0m\u001b[2;36m \u001b[0m\u001b[34mINFO    \u001b[0m CRS: EPSG:\u001b[1;36m25832\u001b[0m                                                 \u001b]8;id=259807;file:///home/willeke.acampo/git/ac-willeke/urban-climate-services/src/urban_climate_services/custom_datasets/geotiff_dataset.py\u001b\\\u001b[2mgeotiff_dataset.py\u001b[0m\u001b]8;;\u001b\\\u001b[2m:\u001b[0m\u001b]8;id=762918;file:///home/willeke.acampo/git/ac-willeke/urban-climate-services/src/urban_climate_services/custom_datasets/geotiff_dataset.py#110\u001b\\\u001b[2m110\u001b[0m\u001b]8;;\u001b\\\n"
      ]
     },
     "metadata": {},
     "output_type": "display_data"
    },
    {
     "data": {
      "text/html": [
       "<pre style=\"white-space:pre;overflow-x:auto;line-height:normal;font-family:Menlo,'DejaVu Sans Mono',consolas,'Courier New',monospace\"><span style=\"color: #7fbfbf; text-decoration-color: #7fbfbf\">                    </span><span style=\"color: #000080; text-decoration-color: #000080\">INFO    </span> time: <span style=\"color: #800080; text-decoration-color: #800080; font-style: italic\">None</span>                                                      <a href=\"file:///home/willeke.acampo/git/ac-willeke/urban-climate-services/src/urban_climate_services/custom_datasets/geotiff_dataset.py\" target=\"_blank\"><span style=\"color: #7f7f7f; text-decoration-color: #7f7f7f\">geotiff_dataset.py</span></a><span style=\"color: #7f7f7f; text-decoration-color: #7f7f7f\">:</span><a href=\"file:///home/willeke.acampo/git/ac-willeke/urban-climate-services/src/urban_climate_services/custom_datasets/geotiff_dataset.py#111\" target=\"_blank\"><span style=\"color: #7f7f7f; text-decoration-color: #7f7f7f\">111</span></a>\n",
       "</pre>\n"
      ],
      "text/plain": [
       "\u001b[2;36m                   \u001b[0m\u001b[2;36m \u001b[0m\u001b[34mINFO    \u001b[0m time: \u001b[3;35mNone\u001b[0m                                                      \u001b]8;id=508990;file:///home/willeke.acampo/git/ac-willeke/urban-climate-services/src/urban_climate_services/custom_datasets/geotiff_dataset.py\u001b\\\u001b[2mgeotiff_dataset.py\u001b[0m\u001b]8;;\u001b\\\u001b[2m:\u001b[0m\u001b]8;id=235917;file:///home/willeke.acampo/git/ac-willeke/urban-climate-services/src/urban_climate_services/custom_datasets/geotiff_dataset.py#111\u001b\\\u001b[2m111\u001b[0m\u001b]8;;\u001b\\\n"
      ]
     },
     "metadata": {},
     "output_type": "display_data"
    },
    {
     "data": {
      "text/html": [
       "<pre style=\"white-space:pre;overflow-x:auto;line-height:normal;font-family:Menlo,'DejaVu Sans Mono',consolas,'Courier New',monospace\"><span style=\"color: #7fbfbf; text-decoration-color: #7fbfbf\">                    </span><span style=\"color: #000080; text-decoration-color: #000080\">INFO    </span> Geotransform: | <span style=\"color: #008080; text-decoration-color: #008080; font-weight: bold\">100.00</span>, <span style=\"color: #008080; text-decoration-color: #008080; font-weight: bold\">0.00</span>, <span style=\"color: #008080; text-decoration-color: #008080; font-weight: bold\">438885.00</span>|                        <a href=\"file:///home/willeke.acampo/git/ac-willeke/urban-climate-services/src/urban_climate_services/custom_datasets/geotiff_dataset.py\" target=\"_blank\"><span style=\"color: #7f7f7f; text-decoration-color: #7f7f7f\">geotiff_dataset.py</span></a><span style=\"color: #7f7f7f; text-decoration-color: #7f7f7f\">:</span><a href=\"file:///home/willeke.acampo/git/ac-willeke/urban-climate-services/src/urban_climate_services/custom_datasets/geotiff_dataset.py#112\" target=\"_blank\"><span style=\"color: #7f7f7f; text-decoration-color: #7f7f7f\">112</span></a>\n",
       "<span style=\"color: #7fbfbf; text-decoration-color: #7fbfbf\">                    </span>         | <span style=\"color: #008080; text-decoration-color: #008080; font-weight: bold\">0.00</span>,<span style=\"color: #008080; text-decoration-color: #008080; font-weight: bold\">-100.00</span>, <span style=\"color: #008080; text-decoration-color: #008080; font-weight: bold\">6447815.00</span>|                                     <span style=\"color: #7f7f7f; text-decoration-color: #7f7f7f\">                      </span>\n",
       "<span style=\"color: #7fbfbf; text-decoration-color: #7fbfbf\">                    </span>         | <span style=\"color: #008080; text-decoration-color: #008080; font-weight: bold\">0.00</span>, <span style=\"color: #008080; text-decoration-color: #008080; font-weight: bold\">0.00</span>, <span style=\"color: #008080; text-decoration-color: #008080; font-weight: bold\">1.00</span>|                                             <span style=\"color: #7f7f7f; text-decoration-color: #7f7f7f\">                      </span>\n",
       "</pre>\n"
      ],
      "text/plain": [
       "\u001b[2;36m                   \u001b[0m\u001b[2;36m \u001b[0m\u001b[34mINFO    \u001b[0m Geotransform: | \u001b[1;36m100.00\u001b[0m, \u001b[1;36m0.00\u001b[0m, \u001b[1;36m438885.00\u001b[0m|                        \u001b]8;id=855944;file:///home/willeke.acampo/git/ac-willeke/urban-climate-services/src/urban_climate_services/custom_datasets/geotiff_dataset.py\u001b\\\u001b[2mgeotiff_dataset.py\u001b[0m\u001b]8;;\u001b\\\u001b[2m:\u001b[0m\u001b]8;id=399234;file:///home/willeke.acampo/git/ac-willeke/urban-climate-services/src/urban_climate_services/custom_datasets/geotiff_dataset.py#112\u001b\\\u001b[2m112\u001b[0m\u001b]8;;\u001b\\\n",
       "\u001b[2;36m                    \u001b[0m         | \u001b[1;36m0.00\u001b[0m,\u001b[1;36m-100.00\u001b[0m, \u001b[1;36m6447815.00\u001b[0m|                                     \u001b[2m                      \u001b[0m\n",
       "\u001b[2;36m                    \u001b[0m         | \u001b[1;36m0.00\u001b[0m, \u001b[1;36m0.00\u001b[0m, \u001b[1;36m1.00\u001b[0m|                                             \u001b[2m                      \u001b[0m\n"
      ]
     },
     "metadata": {},
     "output_type": "display_data"
    },
    {
     "data": {
      "text/html": [
       "<pre style=\"white-space:pre;overflow-x:auto;line-height:normal;font-family:Menlo,'DejaVu Sans Mono',consolas,'Courier New',monospace\"><span style=\"color: #7fbfbf; text-decoration-color: #7fbfbf\">                    </span><span style=\"color: #000080; text-decoration-color: #000080\">INFO    </span> Bounds: <span style=\"color: #800080; text-decoration-color: #800080; font-weight: bold\">BoundingBox</span><span style=\"font-weight: bold\">(</span><span style=\"color: #808000; text-decoration-color: #808000\">left</span>=<span style=\"color: #008080; text-decoration-color: #008080; font-weight: bold\">412384.9999989545</span>,                     <a href=\"file:///home/willeke.acampo/git/ac-willeke/urban-climate-services/src/urban_climate_services/custom_datasets/geotiff_dataset.py\" target=\"_blank\"><span style=\"color: #7f7f7f; text-decoration-color: #7f7f7f\">geotiff_dataset.py</span></a><span style=\"color: #7f7f7f; text-decoration-color: #7f7f7f\">:</span><a href=\"file:///home/willeke.acampo/git/ac-willeke/urban-climate-services/src/urban_climate_services/custom_datasets/geotiff_dataset.py#113\" target=\"_blank\"><span style=\"color: #7f7f7f; text-decoration-color: #7f7f7f\">113</span></a>\n",
       "<span style=\"color: #7fbfbf; text-decoration-color: #7fbfbf\">                    </span>         <span style=\"color: #808000; text-decoration-color: #808000\">bottom</span>=<span style=\"color: #008080; text-decoration-color: #008080; font-weight: bold\">6406814.999875964</span>, <span style=\"color: #808000; text-decoration-color: #808000\">right</span>=<span style=\"color: #008080; text-decoration-color: #008080; font-weight: bold\">463284.9999992772</span>,              <span style=\"color: #7f7f7f; text-decoration-color: #7f7f7f\">                      </span>\n",
       "<span style=\"color: #7fbfbf; text-decoration-color: #7fbfbf\">                    </span>         <span style=\"color: #808000; text-decoration-color: #808000\">top</span>=<span style=\"color: #008080; text-decoration-color: #008080; font-weight: bold\">6470814.99987637</span><span style=\"font-weight: bold\">)</span>                                           <span style=\"color: #7f7f7f; text-decoration-color: #7f7f7f\">                      </span>\n",
       "</pre>\n"
      ],
      "text/plain": [
       "\u001b[2;36m                   \u001b[0m\u001b[2;36m \u001b[0m\u001b[34mINFO    \u001b[0m Bounds: \u001b[1;35mBoundingBox\u001b[0m\u001b[1m(\u001b[0m\u001b[33mleft\u001b[0m=\u001b[1;36m412384\u001b[0m\u001b[1;36m.9999989545\u001b[0m,                     \u001b]8;id=701883;file:///home/willeke.acampo/git/ac-willeke/urban-climate-services/src/urban_climate_services/custom_datasets/geotiff_dataset.py\u001b\\\u001b[2mgeotiff_dataset.py\u001b[0m\u001b]8;;\u001b\\\u001b[2m:\u001b[0m\u001b]8;id=463905;file:///home/willeke.acampo/git/ac-willeke/urban-climate-services/src/urban_climate_services/custom_datasets/geotiff_dataset.py#113\u001b\\\u001b[2m113\u001b[0m\u001b]8;;\u001b\\\n",
       "\u001b[2;36m                    \u001b[0m         \u001b[33mbottom\u001b[0m=\u001b[1;36m6406814\u001b[0m\u001b[1;36m.999875964\u001b[0m, \u001b[33mright\u001b[0m=\u001b[1;36m463284\u001b[0m\u001b[1;36m.9999992772\u001b[0m,              \u001b[2m                      \u001b[0m\n",
       "\u001b[2;36m                    \u001b[0m         \u001b[33mtop\u001b[0m=\u001b[1;36m6470814\u001b[0m\u001b[1;36m.99987637\u001b[0m\u001b[1m)\u001b[0m                                           \u001b[2m                      \u001b[0m\n"
      ]
     },
     "metadata": {},
     "output_type": "display_data"
    },
    {
     "name": "stdout",
     "output_type": "stream",
     "text": [
      "{'driver': 'GTiff', 'dtype': 'float32', 'nodata': None, 'width': 42, 'height': 33, 'count': 6, 'crs': CRS.from_epsg(25832), 'transform': Affine(100.00000000063403, 0.0, 438884.9999991225,\n",
      "       0.0, -100.00000000063403, 6447814.9998762235), 'bounds': BoundingBox(left=412384.9999989545, bottom=6406814.999875964, right=463284.9999992772, top=6470814.99987637), 'descriptions': ('DTM', 'fractionGrass', 'fractionCropland', 'fractionBuilt', 'fractionWater', 'LST'), 'creation_time': None}\n"
     ]
    },
    {
     "data": {
      "text/html": [
       "<pre style=\"white-space:pre;overflow-x:auto;line-height:normal;font-family:Menlo,'DejaVu Sans Mono',consolas,'Courier New',monospace\"><span style=\"color: #7fbfbf; text-decoration-color: #7fbfbf\">[09/23/23 14:50:39] </span><span style=\"color: #000080; text-decoration-color: #000080\">INFO    </span> Saving data to <span style=\"color: #008000; text-decoration-color: #008000\">'test_save'</span> <span style=\"font-weight: bold\">(</span>GeoTIFFDataSet<span style=\"font-weight: bold\">)</span><span style=\"color: #808000; text-decoration-color: #808000\">...</span>                     <a href=\"file:///home/willeke.acampo/miniconda3/envs/urban-climate-services/lib/python3.10/site-packages/kedro/io/data_catalog.py\" target=\"_blank\"><span style=\"color: #7f7f7f; text-decoration-color: #7f7f7f\">data_catalog.py</span></a><span style=\"color: #7f7f7f; text-decoration-color: #7f7f7f\">:</span><a href=\"file:///home/willeke.acampo/miniconda3/envs/urban-climate-services/lib/python3.10/site-packages/kedro/io/data_catalog.py#531\" target=\"_blank\"><span style=\"color: #7f7f7f; text-decoration-color: #7f7f7f\">531</span></a>\n",
       "</pre>\n"
      ],
      "text/plain": [
       "\u001b[2;36m[09/23/23 14:50:39]\u001b[0m\u001b[2;36m \u001b[0m\u001b[34mINFO    \u001b[0m Saving data to \u001b[32m'test_save'\u001b[0m \u001b[1m(\u001b[0mGeoTIFFDataSet\u001b[1m)\u001b[0m\u001b[33m...\u001b[0m                     \u001b]8;id=592578;file:///home/willeke.acampo/miniconda3/envs/urban-climate-services/lib/python3.10/site-packages/kedro/io/data_catalog.py\u001b\\\u001b[2mdata_catalog.py\u001b[0m\u001b]8;;\u001b\\\u001b[2m:\u001b[0m\u001b]8;id=923882;file:///home/willeke.acampo/miniconda3/envs/urban-climate-services/lib/python3.10/site-packages/kedro/io/data_catalog.py#531\u001b\\\u001b[2m531\u001b[0m\u001b]8;;\u001b\\\n"
      ]
     },
     "metadata": {},
     "output_type": "display_data"
    },
    {
     "data": {
      "text/html": [
       "<pre style=\"white-space:pre;overflow-x:auto;line-height:normal;font-family:Menlo,'DejaVu Sans Mono',consolas,'Courier New',monospace\"><span style=\"color: #7fbfbf; text-decoration-color: #7fbfbf\">                    </span><span style=\"color: #000080; text-decoration-color: #000080\">INFO    </span> Band names: <span style=\"font-weight: bold\">(</span><span style=\"color: #008000; text-decoration-color: #008000\">'DTM'</span>, <span style=\"color: #008000; text-decoration-color: #008000\">'fractionGrass'</span>, <span style=\"color: #008000; text-decoration-color: #008000\">'fractionCropland'</span>,        <a href=\"file:///home/willeke.acampo/git/ac-willeke/urban-climate-services/src/urban_climate_services/custom_datasets/geotiff_dataset.py\" target=\"_blank\"><span style=\"color: #7f7f7f; text-decoration-color: #7f7f7f\">geotiff_dataset.py</span></a><span style=\"color: #7f7f7f; text-decoration-color: #7f7f7f\">:</span><a href=\"file:///home/willeke.acampo/git/ac-willeke/urban-climate-services/src/urban_climate_services/custom_datasets/geotiff_dataset.py#124\" target=\"_blank\"><span style=\"color: #7f7f7f; text-decoration-color: #7f7f7f\">124</span></a>\n",
       "<span style=\"color: #7fbfbf; text-decoration-color: #7fbfbf\">                    </span>         <span style=\"color: #008000; text-decoration-color: #008000\">'fractionBuilt'</span>, <span style=\"color: #008000; text-decoration-color: #008000\">'fractionWater'</span>, <span style=\"color: #008000; text-decoration-color: #008000\">'LST'</span><span style=\"font-weight: bold\">)</span>                        <span style=\"color: #7f7f7f; text-decoration-color: #7f7f7f\">                      </span>\n",
       "</pre>\n"
      ],
      "text/plain": [
       "\u001b[2;36m                   \u001b[0m\u001b[2;36m \u001b[0m\u001b[34mINFO    \u001b[0m Band names: \u001b[1m(\u001b[0m\u001b[32m'DTM'\u001b[0m, \u001b[32m'fractionGrass'\u001b[0m, \u001b[32m'fractionCropland'\u001b[0m,        \u001b]8;id=835784;file:///home/willeke.acampo/git/ac-willeke/urban-climate-services/src/urban_climate_services/custom_datasets/geotiff_dataset.py\u001b\\\u001b[2mgeotiff_dataset.py\u001b[0m\u001b]8;;\u001b\\\u001b[2m:\u001b[0m\u001b]8;id=809845;file:///home/willeke.acampo/git/ac-willeke/urban-climate-services/src/urban_climate_services/custom_datasets/geotiff_dataset.py#124\u001b\\\u001b[2m124\u001b[0m\u001b]8;;\u001b\\\n",
       "\u001b[2;36m                    \u001b[0m         \u001b[32m'fractionBuilt'\u001b[0m, \u001b[32m'fractionWater'\u001b[0m, \u001b[32m'LST'\u001b[0m\u001b[1m)\u001b[0m                        \u001b[2m                      \u001b[0m\n"
      ]
     },
     "metadata": {},
     "output_type": "display_data"
    },
    {
     "data": {
      "text/html": [
       "<pre style=\"white-space:pre;overflow-x:auto;line-height:normal;font-family:Menlo,'DejaVu Sans Mono',consolas,'Courier New',monospace\"><span style=\"color: #7fbfbf; text-decoration-color: #7fbfbf\">                    </span><span style=\"color: #000080; text-decoration-color: #000080\">INFO    </span> CRS: EPSG:<span style=\"color: #008080; text-decoration-color: #008080; font-weight: bold\">25832</span>                                                 <a href=\"file:///home/willeke.acampo/git/ac-willeke/urban-climate-services/src/urban_climate_services/custom_datasets/geotiff_dataset.py\" target=\"_blank\"><span style=\"color: #7f7f7f; text-decoration-color: #7f7f7f\">geotiff_dataset.py</span></a><span style=\"color: #7f7f7f; text-decoration-color: #7f7f7f\">:</span><a href=\"file:///home/willeke.acampo/git/ac-willeke/urban-climate-services/src/urban_climate_services/custom_datasets/geotiff_dataset.py#125\" target=\"_blank\"><span style=\"color: #7f7f7f; text-decoration-color: #7f7f7f\">125</span></a>\n",
       "</pre>\n"
      ],
      "text/plain": [
       "\u001b[2;36m                   \u001b[0m\u001b[2;36m \u001b[0m\u001b[34mINFO    \u001b[0m CRS: EPSG:\u001b[1;36m25832\u001b[0m                                                 \u001b]8;id=124334;file:///home/willeke.acampo/git/ac-willeke/urban-climate-services/src/urban_climate_services/custom_datasets/geotiff_dataset.py\u001b\\\u001b[2mgeotiff_dataset.py\u001b[0m\u001b]8;;\u001b\\\u001b[2m:\u001b[0m\u001b]8;id=57045;file:///home/willeke.acampo/git/ac-willeke/urban-climate-services/src/urban_climate_services/custom_datasets/geotiff_dataset.py#125\u001b\\\u001b[2m125\u001b[0m\u001b]8;;\u001b\\\n"
      ]
     },
     "metadata": {},
     "output_type": "display_data"
    },
    {
     "data": {
      "text/html": [
       "<pre style=\"white-space:pre;overflow-x:auto;line-height:normal;font-family:Menlo,'DejaVu Sans Mono',consolas,'Courier New',monospace\"><span style=\"color: #7fbfbf; text-decoration-color: #7fbfbf\">                    </span><span style=\"color: #000080; text-decoration-color: #000080\">INFO    </span> Geotransform: | <span style=\"color: #008080; text-decoration-color: #008080; font-weight: bold\">100.00</span>, <span style=\"color: #008080; text-decoration-color: #008080; font-weight: bold\">0.00</span>, <span style=\"color: #008080; text-decoration-color: #008080; font-weight: bold\">438885.00</span>|                        <a href=\"file:///home/willeke.acampo/git/ac-willeke/urban-climate-services/src/urban_climate_services/custom_datasets/geotiff_dataset.py\" target=\"_blank\"><span style=\"color: #7f7f7f; text-decoration-color: #7f7f7f\">geotiff_dataset.py</span></a><span style=\"color: #7f7f7f; text-decoration-color: #7f7f7f\">:</span><a href=\"file:///home/willeke.acampo/git/ac-willeke/urban-climate-services/src/urban_climate_services/custom_datasets/geotiff_dataset.py#126\" target=\"_blank\"><span style=\"color: #7f7f7f; text-decoration-color: #7f7f7f\">126</span></a>\n",
       "<span style=\"color: #7fbfbf; text-decoration-color: #7fbfbf\">                    </span>         | <span style=\"color: #008080; text-decoration-color: #008080; font-weight: bold\">0.00</span>,<span style=\"color: #008080; text-decoration-color: #008080; font-weight: bold\">-100.00</span>, <span style=\"color: #008080; text-decoration-color: #008080; font-weight: bold\">6447815.00</span>|                                     <span style=\"color: #7f7f7f; text-decoration-color: #7f7f7f\">                      </span>\n",
       "<span style=\"color: #7fbfbf; text-decoration-color: #7fbfbf\">                    </span>         | <span style=\"color: #008080; text-decoration-color: #008080; font-weight: bold\">0.00</span>, <span style=\"color: #008080; text-decoration-color: #008080; font-weight: bold\">0.00</span>, <span style=\"color: #008080; text-decoration-color: #008080; font-weight: bold\">1.00</span>|                                             <span style=\"color: #7f7f7f; text-decoration-color: #7f7f7f\">                      </span>\n",
       "</pre>\n"
      ],
      "text/plain": [
       "\u001b[2;36m                   \u001b[0m\u001b[2;36m \u001b[0m\u001b[34mINFO    \u001b[0m Geotransform: | \u001b[1;36m100.00\u001b[0m, \u001b[1;36m0.00\u001b[0m, \u001b[1;36m438885.00\u001b[0m|                        \u001b]8;id=866931;file:///home/willeke.acampo/git/ac-willeke/urban-climate-services/src/urban_climate_services/custom_datasets/geotiff_dataset.py\u001b\\\u001b[2mgeotiff_dataset.py\u001b[0m\u001b]8;;\u001b\\\u001b[2m:\u001b[0m\u001b]8;id=446339;file:///home/willeke.acampo/git/ac-willeke/urban-climate-services/src/urban_climate_services/custom_datasets/geotiff_dataset.py#126\u001b\\\u001b[2m126\u001b[0m\u001b]8;;\u001b\\\n",
       "\u001b[2;36m                    \u001b[0m         | \u001b[1;36m0.00\u001b[0m,\u001b[1;36m-100.00\u001b[0m, \u001b[1;36m6447815.00\u001b[0m|                                     \u001b[2m                      \u001b[0m\n",
       "\u001b[2;36m                    \u001b[0m         | \u001b[1;36m0.00\u001b[0m, \u001b[1;36m0.00\u001b[0m, \u001b[1;36m1.00\u001b[0m|                                             \u001b[2m                      \u001b[0m\n"
      ]
     },
     "metadata": {},
     "output_type": "display_data"
    },
    {
     "data": {
      "text/html": [
       "<pre style=\"white-space:pre;overflow-x:auto;line-height:normal;font-family:Menlo,'DejaVu Sans Mono',consolas,'Courier New',monospace\"><span style=\"color: #7fbfbf; text-decoration-color: #7fbfbf\">                    </span><span style=\"color: #000080; text-decoration-color: #000080\">INFO    </span> Bounds: <span style=\"color: #800080; text-decoration-color: #800080; font-weight: bold\">BoundingBox</span><span style=\"font-weight: bold\">(</span><span style=\"color: #808000; text-decoration-color: #808000\">left</span>=<span style=\"color: #008080; text-decoration-color: #008080; font-weight: bold\">412384.9999989545</span>,                     <a href=\"file:///home/willeke.acampo/git/ac-willeke/urban-climate-services/src/urban_climate_services/custom_datasets/geotiff_dataset.py\" target=\"_blank\"><span style=\"color: #7f7f7f; text-decoration-color: #7f7f7f\">geotiff_dataset.py</span></a><span style=\"color: #7f7f7f; text-decoration-color: #7f7f7f\">:</span><a href=\"file:///home/willeke.acampo/git/ac-willeke/urban-climate-services/src/urban_climate_services/custom_datasets/geotiff_dataset.py#133\" target=\"_blank\"><span style=\"color: #7f7f7f; text-decoration-color: #7f7f7f\">133</span></a>\n",
       "<span style=\"color: #7fbfbf; text-decoration-color: #7fbfbf\">                    </span>         <span style=\"color: #808000; text-decoration-color: #808000\">bottom</span>=<span style=\"color: #008080; text-decoration-color: #008080; font-weight: bold\">6406814.999875964</span>, <span style=\"color: #808000; text-decoration-color: #808000\">right</span>=<span style=\"color: #008080; text-decoration-color: #008080; font-weight: bold\">463284.9999992772</span>,              <span style=\"color: #7f7f7f; text-decoration-color: #7f7f7f\">                      </span>\n",
       "<span style=\"color: #7fbfbf; text-decoration-color: #7fbfbf\">                    </span>         <span style=\"color: #808000; text-decoration-color: #808000\">top</span>=<span style=\"color: #008080; text-decoration-color: #008080; font-weight: bold\">6470814.99987637</span><span style=\"font-weight: bold\">)</span>                                           <span style=\"color: #7f7f7f; text-decoration-color: #7f7f7f\">                      </span>\n",
       "</pre>\n"
      ],
      "text/plain": [
       "\u001b[2;36m                   \u001b[0m\u001b[2;36m \u001b[0m\u001b[34mINFO    \u001b[0m Bounds: \u001b[1;35mBoundingBox\u001b[0m\u001b[1m(\u001b[0m\u001b[33mleft\u001b[0m=\u001b[1;36m412384\u001b[0m\u001b[1;36m.9999989545\u001b[0m,                     \u001b]8;id=583353;file:///home/willeke.acampo/git/ac-willeke/urban-climate-services/src/urban_climate_services/custom_datasets/geotiff_dataset.py\u001b\\\u001b[2mgeotiff_dataset.py\u001b[0m\u001b]8;;\u001b\\\u001b[2m:\u001b[0m\u001b]8;id=445992;file:///home/willeke.acampo/git/ac-willeke/urban-climate-services/src/urban_climate_services/custom_datasets/geotiff_dataset.py#133\u001b\\\u001b[2m133\u001b[0m\u001b]8;;\u001b\\\n",
       "\u001b[2;36m                    \u001b[0m         \u001b[33mbottom\u001b[0m=\u001b[1;36m6406814\u001b[0m\u001b[1;36m.999875964\u001b[0m, \u001b[33mright\u001b[0m=\u001b[1;36m463284\u001b[0m\u001b[1;36m.9999992772\u001b[0m,              \u001b[2m                      \u001b[0m\n",
       "\u001b[2;36m                    \u001b[0m         \u001b[33mtop\u001b[0m=\u001b[1;36m6470814\u001b[0m\u001b[1;36m.99987637\u001b[0m\u001b[1m)\u001b[0m                                           \u001b[2m                      \u001b[0m\n"
      ]
     },
     "metadata": {},
     "output_type": "display_data"
    },
    {
     "data": {
      "text/html": [
       "<pre style=\"white-space:pre;overflow-x:auto;line-height:normal;font-family:Menlo,'DejaVu Sans Mono',consolas,'Courier New',monospace\"><span style=\"color: #7fbfbf; text-decoration-color: #7fbfbf\">                    </span><span style=\"color: #000080; text-decoration-color: #000080\">INFO    </span> Creation time: <span style=\"color: #008080; text-decoration-color: #008080; font-weight: bold\">2023</span>-<span style=\"color: #008080; text-decoration-color: #008080; font-weight: bold\">09</span>-<span style=\"color: #008080; text-decoration-color: #008080; font-weight: bold\">23</span> <span style=\"color: #00ff00; text-decoration-color: #00ff00; font-weight: bold\">14:50:39</span>                              <a href=\"file:///home/willeke.acampo/git/ac-willeke/urban-climate-services/src/urban_climate_services/custom_datasets/geotiff_dataset.py\" target=\"_blank\"><span style=\"color: #7f7f7f; text-decoration-color: #7f7f7f\">geotiff_dataset.py</span></a><span style=\"color: #7f7f7f; text-decoration-color: #7f7f7f\">:</span><a href=\"file:///home/willeke.acampo/git/ac-willeke/urban-climate-services/src/urban_climate_services/custom_datasets/geotiff_dataset.py#134\" target=\"_blank\"><span style=\"color: #7f7f7f; text-decoration-color: #7f7f7f\">134</span></a>\n",
       "</pre>\n"
      ],
      "text/plain": [
       "\u001b[2;36m                   \u001b[0m\u001b[2;36m \u001b[0m\u001b[34mINFO    \u001b[0m Creation time: \u001b[1;36m2023\u001b[0m-\u001b[1;36m09\u001b[0m-\u001b[1;36m23\u001b[0m \u001b[1;92m14:50:39\u001b[0m                              \u001b]8;id=153545;file:///home/willeke.acampo/git/ac-willeke/urban-climate-services/src/urban_climate_services/custom_datasets/geotiff_dataset.py\u001b\\\u001b[2mgeotiff_dataset.py\u001b[0m\u001b]8;;\u001b\\\u001b[2m:\u001b[0m\u001b]8;id=195233;file:///home/willeke.acampo/git/ac-willeke/urban-climate-services/src/urban_climate_services/custom_datasets/geotiff_dataset.py#134\u001b\\\u001b[2m134\u001b[0m\u001b]8;;\u001b\\\n"
      ]
     },
     "metadata": {},
     "output_type": "display_data"
    }
   ],
   "source": [
    "# load raster data\n",
    "image = context.catalog.load('test_data')\n",
    "raster, metadata = image \n",
    "\n",
    "print(metadata)\n",
    "context.catalog.save('test_save', data=image)"
   ]
  },
  {
   "cell_type": "code",
   "execution_count": 7,
   "metadata": {},
   "outputs": [],
   "source": [
    "#%kedro viz"
   ]
  }
 ],
 "metadata": {
  "kernelspec": {
   "display_name": "kedro-spaceflight",
   "language": "python",
   "name": "python3"
  },
  "language_info": {
   "codemirror_mode": {
    "name": "ipython",
    "version": 3
   },
   "file_extension": ".py",
   "mimetype": "text/x-python",
   "name": "python",
   "nbconvert_exporter": "python",
   "pygments_lexer": "ipython3",
   "version": "3.10.12"
  },
  "orig_nbformat": 4
 },
 "nbformat": 4,
 "nbformat_minor": 2
}
