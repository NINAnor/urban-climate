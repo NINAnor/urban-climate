{
 "cells": [
  {
   "cell_type": "markdown",
   "metadata": {},
   "source": [
    "# Tutorial | Run Kedro Pipelines form a Jupyter Notebook\n",
    "\n",
    "**Author**: Willeke A'Campo\n",
    "\n",
    "**Description:** This notebooks shows how to run the Kedro pipelines defined in `src/urban_climate` from a Jupyter Notebook.\n",
    "\n",
    "**Documentation:** #https://docs.kedro.org/en/stable/notebooks_and_ipython/kedro_and_notebooks.html#useful-to-know"
   ]
  },
  {
   "cell_type": "code",
   "execution_count": 1,
   "metadata": {},
   "outputs": [
    {
     "data": {
      "text/html": [
       "<pre style=\"white-space:pre;overflow-x:auto;line-height:normal;font-family:Menlo,'DejaVu Sans Mono',consolas,'Courier New',monospace\"><span style=\"color: #7fbfbf; text-decoration-color: #7fbfbf\">[12/02/23 23:39:33] </span><span style=\"color: #000080; text-decoration-color: #000080\">INFO    </span> Resolved project path as: <span style=\"color: #800080; text-decoration-color: #800080\">/workspaces/</span><span style=\"color: #ff00ff; text-decoration-color: #ff00ff\">urban-climate.</span>                   <a href=\"file:///usr/local/lib/python3.10/dist-packages/kedro/ipython/__init__.py\" target=\"_blank\"><span style=\"color: #7f7f7f; text-decoration-color: #7f7f7f\">__init__.py</span></a><span style=\"color: #7f7f7f; text-decoration-color: #7f7f7f\">:</span><a href=\"file:///usr/local/lib/python3.10/dist-packages/kedro/ipython/__init__.py#139\" target=\"_blank\"><span style=\"color: #7f7f7f; text-decoration-color: #7f7f7f\">139</span></a>\n",
       "<span style=\"color: #7fbfbf; text-decoration-color: #7fbfbf\">                    </span>         To set a different path, run <span style=\"color: #008000; text-decoration-color: #008000\">'%reload_kedro &lt;project_root&gt;'</span>            <span style=\"color: #7f7f7f; text-decoration-color: #7f7f7f\">               </span>\n",
       "</pre>\n"
      ],
      "text/plain": [
       "\u001b[2;36m[12/02/23 23:39:33]\u001b[0m\u001b[2;36m \u001b[0m\u001b[34mINFO    \u001b[0m Resolved project path as: \u001b[35m/workspaces/\u001b[0m\u001b[95murban-climate.\u001b[0m                   \u001b]8;id=220119;file:///usr/local/lib/python3.10/dist-packages/kedro/ipython/__init__.py\u001b\\\u001b[2m__init__.py\u001b[0m\u001b]8;;\u001b\\\u001b[2m:\u001b[0m\u001b]8;id=328418;file:///usr/local/lib/python3.10/dist-packages/kedro/ipython/__init__.py#139\u001b\\\u001b[2m139\u001b[0m\u001b]8;;\u001b\\\n",
       "\u001b[2;36m                    \u001b[0m         To set a different path, run \u001b[32m'%reload_kedro \u001b[0m\u001b[32m<\u001b[0m\u001b[32mproject_root\u001b[0m\u001b[32m>\u001b[0m\u001b[32m'\u001b[0m            \u001b[2m               \u001b[0m\n"
      ]
     },
     "metadata": {},
     "output_type": "display_data"
    },
    {
     "data": {
      "text/html": [
       "<pre style=\"white-space:pre;overflow-x:auto;line-height:normal;font-family:Menlo,'DejaVu Sans Mono',consolas,'Courier New',monospace\"><span style=\"color: #7fbfbf; text-decoration-color: #7fbfbf\">[12/02/23 23:39:35] </span><span style=\"color: #000080; text-decoration-color: #000080\">INFO    </span> Kedro project urban-climate                                            <a href=\"file:///usr/local/lib/python3.10/dist-packages/kedro/ipython/__init__.py\" target=\"_blank\"><span style=\"color: #7f7f7f; text-decoration-color: #7f7f7f\">__init__.py</span></a><span style=\"color: #7f7f7f; text-decoration-color: #7f7f7f\">:</span><a href=\"file:///usr/local/lib/python3.10/dist-packages/kedro/ipython/__init__.py#108\" target=\"_blank\"><span style=\"color: #7f7f7f; text-decoration-color: #7f7f7f\">108</span></a>\n",
       "</pre>\n"
      ],
      "text/plain": [
       "\u001b[2;36m[12/02/23 23:39:35]\u001b[0m\u001b[2;36m \u001b[0m\u001b[34mINFO    \u001b[0m Kedro project urban-climate                                            \u001b]8;id=549051;file:///usr/local/lib/python3.10/dist-packages/kedro/ipython/__init__.py\u001b\\\u001b[2m__init__.py\u001b[0m\u001b]8;;\u001b\\\u001b[2m:\u001b[0m\u001b]8;id=785999;file:///usr/local/lib/python3.10/dist-packages/kedro/ipython/__init__.py#108\u001b\\\u001b[2m108\u001b[0m\u001b]8;;\u001b\\\n"
      ]
     },
     "metadata": {},
     "output_type": "display_data"
    },
    {
     "data": {
      "text/html": [
       "<pre style=\"white-space:pre;overflow-x:auto;line-height:normal;font-family:Menlo,'DejaVu Sans Mono',consolas,'Courier New',monospace\"><span style=\"color: #7fbfbf; text-decoration-color: #7fbfbf\">                    </span><span style=\"color: #000080; text-decoration-color: #000080\">INFO    </span> Defined global variable <span style=\"color: #008000; text-decoration-color: #008000\">'context'</span>, <span style=\"color: #008000; text-decoration-color: #008000\">'session'</span>, <span style=\"color: #008000; text-decoration-color: #008000\">'catalog'</span> and            <a href=\"file:///usr/local/lib/python3.10/dist-packages/kedro/ipython/__init__.py\" target=\"_blank\"><span style=\"color: #7f7f7f; text-decoration-color: #7f7f7f\">__init__.py</span></a><span style=\"color: #7f7f7f; text-decoration-color: #7f7f7f\">:</span><a href=\"file:///usr/local/lib/python3.10/dist-packages/kedro/ipython/__init__.py#109\" target=\"_blank\"><span style=\"color: #7f7f7f; text-decoration-color: #7f7f7f\">109</span></a>\n",
       "<span style=\"color: #7fbfbf; text-decoration-color: #7fbfbf\">                    </span>         <span style=\"color: #008000; text-decoration-color: #008000\">'pipelines'</span>                                                            <span style=\"color: #7f7f7f; text-decoration-color: #7f7f7f\">               </span>\n",
       "</pre>\n"
      ],
      "text/plain": [
       "\u001b[2;36m                   \u001b[0m\u001b[2;36m \u001b[0m\u001b[34mINFO    \u001b[0m Defined global variable \u001b[32m'context'\u001b[0m, \u001b[32m'session'\u001b[0m, \u001b[32m'catalog'\u001b[0m and            \u001b]8;id=565242;file:///usr/local/lib/python3.10/dist-packages/kedro/ipython/__init__.py\u001b\\\u001b[2m__init__.py\u001b[0m\u001b]8;;\u001b\\\u001b[2m:\u001b[0m\u001b]8;id=252081;file:///usr/local/lib/python3.10/dist-packages/kedro/ipython/__init__.py#109\u001b\\\u001b[2m109\u001b[0m\u001b]8;;\u001b\\\n",
       "\u001b[2;36m                    \u001b[0m         \u001b[32m'pipelines'\u001b[0m                                                            \u001b[2m               \u001b[0m\n"
      ]
     },
     "metadata": {},
     "output_type": "display_data"
    },
    {
     "data": {
      "text/html": [
       "<pre style=\"white-space:pre;overflow-x:auto;line-height:normal;font-family:Menlo,'DejaVu Sans Mono',consolas,'Courier New',monospace\"><span style=\"color: #7fbfbf; text-decoration-color: #7fbfbf\">[12/02/23 23:39:37] </span><span style=\"color: #000080; text-decoration-color: #000080\">INFO    </span> Registered line magic <span style=\"color: #008000; text-decoration-color: #008000\">'run_viz'</span>                                        <a href=\"file:///usr/local/lib/python3.10/dist-packages/kedro/ipython/__init__.py\" target=\"_blank\"><span style=\"color: #7f7f7f; text-decoration-color: #7f7f7f\">__init__.py</span></a><span style=\"color: #7f7f7f; text-decoration-color: #7f7f7f\">:</span><a href=\"file:///usr/local/lib/python3.10/dist-packages/kedro/ipython/__init__.py#115\" target=\"_blank\"><span style=\"color: #7f7f7f; text-decoration-color: #7f7f7f\">115</span></a>\n",
       "</pre>\n"
      ],
      "text/plain": [
       "\u001b[2;36m[12/02/23 23:39:37]\u001b[0m\u001b[2;36m \u001b[0m\u001b[34mINFO    \u001b[0m Registered line magic \u001b[32m'run_viz'\u001b[0m                                        \u001b]8;id=747003;file:///usr/local/lib/python3.10/dist-packages/kedro/ipython/__init__.py\u001b\\\u001b[2m__init__.py\u001b[0m\u001b]8;;\u001b\\\u001b[2m:\u001b[0m\u001b]8;id=734164;file:///usr/local/lib/python3.10/dist-packages/kedro/ipython/__init__.py#115\u001b\\\u001b[2m115\u001b[0m\u001b]8;;\u001b\\\n"
      ]
     },
     "metadata": {},
     "output_type": "display_data"
    }
   ],
   "source": [
    "# explicitly load the Kedro IPython extension\n",
    "%load_ext kedro.ipython"
   ]
  },
  {
   "cell_type": "code",
   "execution_count": 2,
   "metadata": {},
   "outputs": [
    {
     "data": {
      "text/html": [
       "<pre style=\"white-space:pre;overflow-x:auto;line-height:normal;font-family:Menlo,'DejaVu Sans Mono',consolas,'Courier New',monospace\"><span style=\"color: #7fbfbf; text-decoration-color: #7fbfbf\">                    </span><span style=\"color: #800000; text-decoration-color: #800000\">WARNING </span> <span style=\"color: #800080; text-decoration-color: #800080\">/usr/local/lib/python3.10/dist-packages/lazy_loader/</span><span style=\"color: #ff00ff; text-decoration-color: #ff00ff\">__init__.py</span>:<span style=\"color: #008080; text-decoration-color: #008080; font-weight: bold\">78</span>:    <a href=\"file:///usr/lib/python3.10/warnings.py\" target=\"_blank\"><span style=\"color: #7f7f7f; text-decoration-color: #7f7f7f\">warnings.py</span></a><span style=\"color: #7f7f7f; text-decoration-color: #7f7f7f\">:</span><a href=\"file:///usr/lib/python3.10/warnings.py#109\" target=\"_blank\"><span style=\"color: #7f7f7f; text-decoration-color: #7f7f7f\">109</span></a>\n",
       "<span style=\"color: #7fbfbf; text-decoration-color: #7fbfbf\">                    </span>         KedroDeprecationWarning: <span style=\"color: #008000; text-decoration-color: #008000\">'CSVDataSet'</span> has been renamed to              <span style=\"color: #7f7f7f; text-decoration-color: #7f7f7f\">               </span>\n",
       "<span style=\"color: #7fbfbf; text-decoration-color: #7fbfbf\">                    </span>         <span style=\"color: #008000; text-decoration-color: #008000\">'CSVDataset'</span>, and the alias will be removed in Kedro-Datasets <span style=\"color: #008080; text-decoration-color: #008080; font-weight: bold\">2.0</span>.<span style=\"color: #008080; text-decoration-color: #008080; font-weight: bold\">0</span>    <span style=\"color: #7f7f7f; text-decoration-color: #7f7f7f\">               </span>\n",
       "<span style=\"color: #7fbfbf; text-decoration-color: #7fbfbf\">                    </span>           attr = <span style=\"color: #800080; text-decoration-color: #800080; font-weight: bold\">getattr</span><span style=\"font-weight: bold\">(</span>submod, name<span style=\"font-weight: bold\">)</span>                                         <span style=\"color: #7f7f7f; text-decoration-color: #7f7f7f\">               </span>\n",
       "<span style=\"color: #7fbfbf; text-decoration-color: #7fbfbf\">                    </span>                                                                                <span style=\"color: #7f7f7f; text-decoration-color: #7f7f7f\">               </span>\n",
       "</pre>\n"
      ],
      "text/plain": [
       "\u001b[2;36m                   \u001b[0m\u001b[2;36m \u001b[0m\u001b[31mWARNING \u001b[0m \u001b[35m/usr/local/lib/python3.10/dist-packages/lazy_loader/\u001b[0m\u001b[95m__init__.py\u001b[0m:\u001b[1;36m78\u001b[0m:    \u001b]8;id=17467;file:///usr/lib/python3.10/warnings.py\u001b\\\u001b[2mwarnings.py\u001b[0m\u001b]8;;\u001b\\\u001b[2m:\u001b[0m\u001b]8;id=29060;file:///usr/lib/python3.10/warnings.py#109\u001b\\\u001b[2m109\u001b[0m\u001b]8;;\u001b\\\n",
       "\u001b[2;36m                    \u001b[0m         KedroDeprecationWarning: \u001b[32m'CSVDataSet'\u001b[0m has been renamed to              \u001b[2m               \u001b[0m\n",
       "\u001b[2;36m                    \u001b[0m         \u001b[32m'CSVDataset'\u001b[0m, and the alias will be removed in Kedro-Datasets \u001b[1;36m2.0\u001b[0m.\u001b[1;36m0\u001b[0m    \u001b[2m               \u001b[0m\n",
       "\u001b[2;36m                    \u001b[0m           attr = \u001b[1;35mgetattr\u001b[0m\u001b[1m(\u001b[0msubmod, name\u001b[1m)\u001b[0m                                         \u001b[2m               \u001b[0m\n",
       "\u001b[2;36m                    \u001b[0m                                                                                \u001b[2m               \u001b[0m\n"
      ]
     },
     "metadata": {},
     "output_type": "display_data"
    },
    {
     "data": {
      "text/html": [
       "<pre style=\"white-space:pre;overflow-x:auto;line-height:normal;font-family:Menlo,'DejaVu Sans Mono',consolas,'Courier New',monospace\"><span style=\"color: #7fbfbf; text-decoration-color: #7fbfbf\">                    </span><span style=\"color: #800000; text-decoration-color: #800000\">WARNING </span> <span style=\"color: #800080; text-decoration-color: #800080\">/usr/local/lib/python3.10/dist-packages/lazy_loader/</span><span style=\"color: #ff00ff; text-decoration-color: #ff00ff\">__init__.py</span>:<span style=\"color: #008080; text-decoration-color: #008080; font-weight: bold\">78</span>:    <a href=\"file:///usr/lib/python3.10/warnings.py\" target=\"_blank\"><span style=\"color: #7f7f7f; text-decoration-color: #7f7f7f\">warnings.py</span></a><span style=\"color: #7f7f7f; text-decoration-color: #7f7f7f\">:</span><a href=\"file:///usr/lib/python3.10/warnings.py#109\" target=\"_blank\"><span style=\"color: #7f7f7f; text-decoration-color: #7f7f7f\">109</span></a>\n",
       "<span style=\"color: #7fbfbf; text-decoration-color: #7fbfbf\">                    </span>         KedroDeprecationWarning: <span style=\"color: #008000; text-decoration-color: #008000\">'GeoJSONDataSet'</span> has been renamed to          <span style=\"color: #7f7f7f; text-decoration-color: #7f7f7f\">               </span>\n",
       "<span style=\"color: #7fbfbf; text-decoration-color: #7fbfbf\">                    </span>         <span style=\"color: #008000; text-decoration-color: #008000\">'GeoJSONDataset'</span>, and the alias will be removed in Kedro-Datasets      <span style=\"color: #7f7f7f; text-decoration-color: #7f7f7f\">               </span>\n",
       "<span style=\"color: #7fbfbf; text-decoration-color: #7fbfbf\">                    </span>         <span style=\"color: #008080; text-decoration-color: #008080; font-weight: bold\">2.0</span>.<span style=\"color: #008080; text-decoration-color: #008080; font-weight: bold\">0</span>                                                                  <span style=\"color: #7f7f7f; text-decoration-color: #7f7f7f\">               </span>\n",
       "<span style=\"color: #7fbfbf; text-decoration-color: #7fbfbf\">                    </span>           attr = <span style=\"color: #800080; text-decoration-color: #800080; font-weight: bold\">getattr</span><span style=\"font-weight: bold\">(</span>submod, name<span style=\"font-weight: bold\">)</span>                                         <span style=\"color: #7f7f7f; text-decoration-color: #7f7f7f\">               </span>\n",
       "<span style=\"color: #7fbfbf; text-decoration-color: #7fbfbf\">                    </span>                                                                                <span style=\"color: #7f7f7f; text-decoration-color: #7f7f7f\">               </span>\n",
       "</pre>\n"
      ],
      "text/plain": [
       "\u001b[2;36m                   \u001b[0m\u001b[2;36m \u001b[0m\u001b[31mWARNING \u001b[0m \u001b[35m/usr/local/lib/python3.10/dist-packages/lazy_loader/\u001b[0m\u001b[95m__init__.py\u001b[0m:\u001b[1;36m78\u001b[0m:    \u001b]8;id=615145;file:///usr/lib/python3.10/warnings.py\u001b\\\u001b[2mwarnings.py\u001b[0m\u001b]8;;\u001b\\\u001b[2m:\u001b[0m\u001b]8;id=229691;file:///usr/lib/python3.10/warnings.py#109\u001b\\\u001b[2m109\u001b[0m\u001b]8;;\u001b\\\n",
       "\u001b[2;36m                    \u001b[0m         KedroDeprecationWarning: \u001b[32m'GeoJSONDataSet'\u001b[0m has been renamed to          \u001b[2m               \u001b[0m\n",
       "\u001b[2;36m                    \u001b[0m         \u001b[32m'GeoJSONDataset'\u001b[0m, and the alias will be removed in Kedro-Datasets      \u001b[2m               \u001b[0m\n",
       "\u001b[2;36m                    \u001b[0m         \u001b[1;36m2.0\u001b[0m.\u001b[1;36m0\u001b[0m                                                                  \u001b[2m               \u001b[0m\n",
       "\u001b[2;36m                    \u001b[0m           attr = \u001b[1;35mgetattr\u001b[0m\u001b[1m(\u001b[0msubmod, name\u001b[1m)\u001b[0m                                         \u001b[2m               \u001b[0m\n",
       "\u001b[2;36m                    \u001b[0m                                                                                \u001b[2m               \u001b[0m\n"
      ]
     },
     "metadata": {},
     "output_type": "display_data"
    },
    {
     "name": "stdout",
     "output_type": "stream",
     "text": [
      "/workspaces/urban-climate urban-climate\n"
     ]
    }
   ],
   "source": [
    "from kedro.io import DataCatalog\n",
    "from kedro_datasets.pandas import CSVDataSet\n",
    "from kedro_datasets.geopandas import GeoJSONDataSet\n",
    "\n",
    "# context import resolve kedro\n",
    "from pathlib import Path\n",
    "\n",
    "project_path= Path.cwd().parents[0]\n",
    "package_name = Path.cwd().parent.name\n",
    "print(project_path, package_name)"
   ]
  },
  {
   "cell_type": "code",
   "execution_count": 3,
   "metadata": {},
   "outputs": [
    {
     "data": {
      "text/html": [
       "<pre style=\"white-space:pre;overflow-x:auto;line-height:normal;font-family:Menlo,'DejaVu Sans Mono',consolas,'Courier New',monospace\"></pre>\n"
      ],
      "text/plain": []
     },
     "metadata": {},
     "output_type": "display_data"
    },
    {
     "data": {
      "text/plain": [
       "\u001b[32m'kristiansand'\u001b[0m"
      ]
     },
     "execution_count": 3,
     "metadata": {},
     "output_type": "execute_result"
    }
   ],
   "source": [
    "# accessing parameters in kedro ipython \n",
    "context.params['municipality']"
   ]
  },
  {
   "cell_type": "code",
   "execution_count": 4,
   "metadata": {},
   "outputs": [
    {
     "name": "stdout",
     "output_type": "stream",
     "text": [
      "{'active_modelling_pipeline': {'model_options': {'test_size': 0.2, 'random_state': 3, 'features': ['DTM', 'fractionGrass', 'fractionCropland', 'fractionBuilt', 'fractionWater', 'fractionCanopy']}}, 'candidate_modelling_pipeline': {'model_options': {'test_size': 0.2, 'random_state': 8, 'features': ['DTM', 'fractionGrass', 'fractionCropland', 'fractionBuilt', 'fractionWater', 'fractionCanopy']}}, 'municipality': 'kristiansand', 'dst_crs': 'EPSG:25832', 'scaling_factor': 100, 'path_to_stack': '/workspaces/urban-climate/data/02_intermediate/kristiansand_raster_stack_100m_25832_copy.tif', 'lst_acquisition_year': {'baerum': 2018, 'bodo': 2023, 'kristiansand': 2018, 'oslo': 2018}}\n"
     ]
    }
   ],
   "source": [
    "from kedro.config import OmegaConfigLoader\n",
    "from kedro.framework.project import settings\n",
    "\n",
    "# Instantiate a ConfigLoader with the location of your project configuration.\n",
    "conf_path = str(project_path / settings.CONF_SOURCE)\n",
    "conf_loader = OmegaConfigLoader(conf_source=conf_path)\n",
    "\n",
    "# This line shows how to access the catalog configuration. You can access other configuration in the same way.\n",
    "conf_catalog = conf_loader[\"catalog\"]\n",
    "params = conf_loader[\"parameters\"]\n",
    "print(params)"
   ]
  },
  {
   "cell_type": "code",
   "execution_count": 6,
   "metadata": {},
   "outputs": [
    {
     "data": {
      "text/html": [
       "<pre style=\"white-space:pre;overflow-x:auto;line-height:normal;font-family:Menlo,'DejaVu Sans Mono',consolas,'Courier New',monospace\"><span style=\"color: #7fbfbf; text-decoration-color: #7fbfbf\">[12/02/23 23:40:23] </span><span style=\"color: #000080; text-decoration-color: #000080\">INFO    </span> Loading data from <span style=\"color: #008000; text-decoration-color: #008000\">'terrain'</span> <span style=\"font-weight: bold\">(</span>GeoTIFFDataSet<span style=\"font-weight: bold\">)</span><span style=\"color: #808000; text-decoration-color: #808000\">...</span>                    <a href=\"file:///usr/local/lib/python3.10/dist-packages/kedro/io/data_catalog.py\" target=\"_blank\"><span style=\"color: #7f7f7f; text-decoration-color: #7f7f7f\">data_catalog.py</span></a><span style=\"color: #7f7f7f; text-decoration-color: #7f7f7f\">:</span><a href=\"file:///usr/local/lib/python3.10/dist-packages/kedro/io/data_catalog.py#502\" target=\"_blank\"><span style=\"color: #7f7f7f; text-decoration-color: #7f7f7f\">502</span></a>\n",
       "</pre>\n"
      ],
      "text/plain": [
       "\u001b[2;36m[12/02/23 23:40:23]\u001b[0m\u001b[2;36m \u001b[0m\u001b[34mINFO    \u001b[0m Loading data from \u001b[32m'terrain'\u001b[0m \u001b[1m(\u001b[0mGeoTIFFDataSet\u001b[1m)\u001b[0m\u001b[33m...\u001b[0m                    \u001b]8;id=944755;file:///usr/local/lib/python3.10/dist-packages/kedro/io/data_catalog.py\u001b\\\u001b[2mdata_catalog.py\u001b[0m\u001b]8;;\u001b\\\u001b[2m:\u001b[0m\u001b]8;id=615847;file:///usr/local/lib/python3.10/dist-packages/kedro/io/data_catalog.py#502\u001b\\\u001b[2m502\u001b[0m\u001b]8;;\u001b\\\n"
      ]
     },
     "metadata": {},
     "output_type": "display_data"
    },
    {
     "data": {
      "text/html": [
       "<pre style=\"white-space:pre;overflow-x:auto;line-height:normal;font-family:Menlo,'DejaVu Sans Mono',consolas,'Courier New',monospace\"><span style=\"color: #7fbfbf; text-decoration-color: #7fbfbf\">                    </span><span style=\"color: #000080; text-decoration-color: #000080\">INFO    </span> <span style=\"font-weight: bold\">{</span><span style=\"color: #008000; text-decoration-color: #008000\">'mask'</span>: <span style=\"color: #00ff00; text-decoration-color: #00ff00; font-style: italic\">True</span>, <span style=\"color: #008000; text-decoration-color: #008000\">'mask_path'</span>:                                      <a href=\"file:///workspaces/urban-climate/src/urban_climate/custom_datasets/geotiff_dataset.py\" target=\"_blank\"><span style=\"color: #7f7f7f; text-decoration-color: #7f7f7f\">geotiff_dataset.py</span></a><span style=\"color: #7f7f7f; text-decoration-color: #7f7f7f\">:</span><a href=\"file:///workspaces/urban-climate/src/urban_climate/custom_datasets/geotiff_dataset.py#69\" target=\"_blank\"><span style=\"color: #7f7f7f; text-decoration-color: #7f7f7f\">69</span></a>\n",
       "<span style=\"color: #7fbfbf; text-decoration-color: #7fbfbf\">                    </span>         <span style=\"color: #008000; text-decoration-color: #008000\">'data/01_raw/kristiansand_study_area_bb.geojson'</span><span style=\"font-weight: bold\">}</span>                <span style=\"color: #7f7f7f; text-decoration-color: #7f7f7f\">                     </span>\n",
       "</pre>\n"
      ],
      "text/plain": [
       "\u001b[2;36m                   \u001b[0m\u001b[2;36m \u001b[0m\u001b[34mINFO    \u001b[0m \u001b[1m{\u001b[0m\u001b[32m'mask'\u001b[0m: \u001b[3;92mTrue\u001b[0m, \u001b[32m'mask_path'\u001b[0m:                                      \u001b]8;id=130830;file:///workspaces/urban-climate/src/urban_climate/custom_datasets/geotiff_dataset.py\u001b\\\u001b[2mgeotiff_dataset.py\u001b[0m\u001b]8;;\u001b\\\u001b[2m:\u001b[0m\u001b]8;id=584742;file:///workspaces/urban-climate/src/urban_climate/custom_datasets/geotiff_dataset.py#69\u001b\\\u001b[2m69\u001b[0m\u001b]8;;\u001b\\\n",
       "\u001b[2;36m                    \u001b[0m         \u001b[32m'data/01_raw/kristiansand_study_area_bb.geojson'\u001b[0m\u001b[1m}\u001b[0m                \u001b[2m                     \u001b[0m\n"
      ]
     },
     "metadata": {},
     "output_type": "display_data"
    },
    {
     "data": {
      "text/html": [
       "<pre style=\"white-space:pre;overflow-x:auto;line-height:normal;font-family:Menlo,'DejaVu Sans Mono',consolas,'Courier New',monospace\"><span style=\"color: #7fbfbf; text-decoration-color: #7fbfbf\">                    </span><span style=\"color: #000080; text-decoration-color: #000080\">INFO    </span> Loading data with mask<span style=\"color: #808000; text-decoration-color: #808000\">...</span>                                        <a href=\"file:///workspaces/urban-climate/src/urban_climate/custom_datasets/geotiff_dataset.py\" target=\"_blank\"><span style=\"color: #7f7f7f; text-decoration-color: #7f7f7f\">geotiff_dataset.py</span></a><span style=\"color: #7f7f7f; text-decoration-color: #7f7f7f\">:</span><a href=\"file:///workspaces/urban-climate/src/urban_climate/custom_datasets/geotiff_dataset.py#72\" target=\"_blank\"><span style=\"color: #7f7f7f; text-decoration-color: #7f7f7f\">72</span></a>\n",
       "</pre>\n"
      ],
      "text/plain": [
       "\u001b[2;36m                   \u001b[0m\u001b[2;36m \u001b[0m\u001b[34mINFO    \u001b[0m Loading data with mask\u001b[33m...\u001b[0m                                        \u001b]8;id=846211;file:///workspaces/urban-climate/src/urban_climate/custom_datasets/geotiff_dataset.py\u001b\\\u001b[2mgeotiff_dataset.py\u001b[0m\u001b]8;;\u001b\\\u001b[2m:\u001b[0m\u001b]8;id=84956;file:///workspaces/urban-climate/src/urban_climate/custom_datasets/geotiff_dataset.py#72\u001b\\\u001b[2m72\u001b[0m\u001b]8;;\u001b\\\n"
      ]
     },
     "metadata": {},
     "output_type": "display_data"
    },
    {
     "data": {
      "text/html": [
       "<pre style=\"white-space:pre;overflow-x:auto;line-height:normal;font-family:Menlo,'DejaVu Sans Mono',consolas,'Courier New',monospace\"><span style=\"color: #7fbfbf; text-decoration-color: #7fbfbf\">                    </span><span style=\"color: #000080; text-decoration-color: #000080\">INFO    </span> <span style=\"color: #800080; text-decoration-color: #800080\">/workspaces/</span><span style=\"color: #ff00ff; text-decoration-color: #ff00ff\">urban-climate</span>                                        <a href=\"file:///workspaces/urban-climate/src/urban_climate/custom_datasets/geotiff_dataset.py\" target=\"_blank\"><span style=\"color: #7f7f7f; text-decoration-color: #7f7f7f\">geotiff_dataset.py</span></a><span style=\"color: #7f7f7f; text-decoration-color: #7f7f7f\">:</span><a href=\"file:///workspaces/urban-climate/src/urban_climate/custom_datasets/geotiff_dataset.py#73\" target=\"_blank\"><span style=\"color: #7f7f7f; text-decoration-color: #7f7f7f\">73</span></a>\n",
       "</pre>\n"
      ],
      "text/plain": [
       "\u001b[2;36m                   \u001b[0m\u001b[2;36m \u001b[0m\u001b[34mINFO    \u001b[0m \u001b[35m/workspaces/\u001b[0m\u001b[95murban-climate\u001b[0m                                        \u001b]8;id=726403;file:///workspaces/urban-climate/src/urban_climate/custom_datasets/geotiff_dataset.py\u001b\\\u001b[2mgeotiff_dataset.py\u001b[0m\u001b]8;;\u001b\\\u001b[2m:\u001b[0m\u001b]8;id=197666;file:///workspaces/urban-climate/src/urban_climate/custom_datasets/geotiff_dataset.py#73\u001b\\\u001b[2m73\u001b[0m\u001b]8;;\u001b\\\n"
      ]
     },
     "metadata": {},
     "output_type": "display_data"
    },
    {
     "data": {
      "text/html": [
       "<pre style=\"white-space:pre;overflow-x:auto;line-height:normal;font-family:Menlo,'DejaVu Sans Mono',consolas,'Courier New',monospace\"><span style=\"color: #7fbfbf; text-decoration-color: #7fbfbf\">                    </span><span style=\"color: #000080; text-decoration-color: #000080\">INFO    </span> <span style=\"color: #800080; text-decoration-color: #800080\">/workspaces/urban-climate/data/01_raw/</span><span style=\"color: #ff00ff; text-decoration-color: #ff00ff\">kristiansand_study_area_bb</span> <a href=\"file:///workspaces/urban-climate/src/urban_climate/custom_datasets/geotiff_dataset.py\" target=\"_blank\"><span style=\"color: #7f7f7f; text-decoration-color: #7f7f7f\">geotiff_dataset.py</span></a><span style=\"color: #7f7f7f; text-decoration-color: #7f7f7f\">:</span><a href=\"file:///workspaces/urban-climate/src/urban_climate/custom_datasets/geotiff_dataset.py#77\" target=\"_blank\"><span style=\"color: #7f7f7f; text-decoration-color: #7f7f7f\">77</span></a>\n",
       "<span style=\"color: #7fbfbf; text-decoration-color: #7fbfbf\">                    </span>         <span style=\"color: #ff00ff; text-decoration-color: #ff00ff\">.geojson</span>                                                         <span style=\"color: #7f7f7f; text-decoration-color: #7f7f7f\">                     </span>\n",
       "</pre>\n"
      ],
      "text/plain": [
       "\u001b[2;36m                   \u001b[0m\u001b[2;36m \u001b[0m\u001b[34mINFO    \u001b[0m \u001b[35m/workspaces/urban-climate/data/01_raw/\u001b[0m\u001b[95mkristiansand_study_area_bb\u001b[0m \u001b]8;id=934156;file:///workspaces/urban-climate/src/urban_climate/custom_datasets/geotiff_dataset.py\u001b\\\u001b[2mgeotiff_dataset.py\u001b[0m\u001b]8;;\u001b\\\u001b[2m:\u001b[0m\u001b]8;id=723359;file:///workspaces/urban-climate/src/urban_climate/custom_datasets/geotiff_dataset.py#77\u001b\\\u001b[2m77\u001b[0m\u001b]8;;\u001b\\\n",
       "\u001b[2;36m                    \u001b[0m         \u001b[95m.geojson\u001b[0m                                                         \u001b[2m                     \u001b[0m\n"
      ]
     },
     "metadata": {},
     "output_type": "display_data"
    },
    {
     "data": {
      "text/html": [
       "<pre style=\"white-space:pre;overflow-x:auto;line-height:normal;font-family:Menlo,'DejaVu Sans Mono',consolas,'Courier New',monospace\"><span style=\"color: #7fbfbf; text-decoration-color: #7fbfbf\">                    </span><span style=\"color: #000080; text-decoration-color: #000080\">INFO    </span> Shapes: <span style=\"font-weight: bold\">[&lt;</span><span style=\"color: #ff00ff; text-decoration-color: #ff00ff; font-weight: bold\">fiona.model.Geometry</span><span style=\"color: #000000; text-decoration-color: #000000\"> object at </span><span style=\"color: #008080; text-decoration-color: #008080; font-weight: bold\">0x7fc77315d930</span><span style=\"font-weight: bold\">&gt;]</span>        <a href=\"file:///workspaces/urban-climate/src/urban_climate/custom_datasets/geotiff_dataset.py\" target=\"_blank\"><span style=\"color: #7f7f7f; text-decoration-color: #7f7f7f\">geotiff_dataset.py</span></a><span style=\"color: #7f7f7f; text-decoration-color: #7f7f7f\">:</span><a href=\"file:///workspaces/urban-climate/src/urban_climate/custom_datasets/geotiff_dataset.py#81\" target=\"_blank\"><span style=\"color: #7f7f7f; text-decoration-color: #7f7f7f\">81</span></a>\n",
       "</pre>\n"
      ],
      "text/plain": [
       "\u001b[2;36m                   \u001b[0m\u001b[2;36m \u001b[0m\u001b[34mINFO    \u001b[0m Shapes: \u001b[1m[\u001b[0m\u001b[1m<\u001b[0m\u001b[1;95mfiona.model.Geometry\u001b[0m\u001b[39m object at \u001b[0m\u001b[1;36m0x7fc77315d930\u001b[0m\u001b[1m>\u001b[0m\u001b[1m]\u001b[0m        \u001b]8;id=565547;file:///workspaces/urban-climate/src/urban_climate/custom_datasets/geotiff_dataset.py\u001b\\\u001b[2mgeotiff_dataset.py\u001b[0m\u001b]8;;\u001b\\\u001b[2m:\u001b[0m\u001b]8;id=83109;file:///workspaces/urban-climate/src/urban_climate/custom_datasets/geotiff_dataset.py#81\u001b\\\u001b[2m81\u001b[0m\u001b]8;;\u001b\\\n"
      ]
     },
     "metadata": {},
     "output_type": "display_data"
    },
    {
     "data": {
      "text/html": [
       "<pre style=\"white-space:pre;overflow-x:auto;line-height:normal;font-family:Menlo,'DejaVu Sans Mono',consolas,'Courier New',monospace\"><span style=\"color: #7fbfbf; text-decoration-color: #7fbfbf\">[12/02/23 23:40:24] </span><span style=\"color: #000080; text-decoration-color: #000080\">INFO    </span> Object not found in virtual filesystem:                                      <a href=\"file:///usr/local/lib/python3.10/dist-packages/rasterio/io.py\" target=\"_blank\"><span style=\"color: #7f7f7f; text-decoration-color: #7f7f7f\">io.py</span></a><span style=\"color: #7f7f7f; text-decoration-color: #7f7f7f\">:</span><a href=\"file:///usr/local/lib/python3.10/dist-packages/rasterio/io.py#236\" target=\"_blank\"><span style=\"color: #7f7f7f; text-decoration-color: #7f7f7f\">236</span></a>\n",
       "<span style=\"color: #7fbfbf; text-decoration-color: #7fbfbf\">                    </span>         <span style=\"color: #808000; text-decoration-color: #808000\">filename</span>=<span style=\"color: #008000; text-decoration-color: #008000\">b'24c79c1f-5a47-455d-a666-8e0b25ef2e67/24c79c1f-5a47-455d-a666-8e0b</span> <span style=\"color: #7f7f7f; text-decoration-color: #7f7f7f\">         </span>\n",
       "<span style=\"color: #7fbfbf; text-decoration-color: #7fbfbf\">                    </span>         <span style=\"color: #008000; text-decoration-color: #008000\">25ef2e67.aux'</span>                                                                <span style=\"color: #7f7f7f; text-decoration-color: #7f7f7f\">         </span>\n",
       "</pre>\n"
      ],
      "text/plain": [
       "\u001b[2;36m[12/02/23 23:40:24]\u001b[0m\u001b[2;36m \u001b[0m\u001b[34mINFO    \u001b[0m Object not found in virtual filesystem:                                      \u001b]8;id=117144;file:///usr/local/lib/python3.10/dist-packages/rasterio/io.py\u001b\\\u001b[2mio.py\u001b[0m\u001b]8;;\u001b\\\u001b[2m:\u001b[0m\u001b]8;id=91089;file:///usr/local/lib/python3.10/dist-packages/rasterio/io.py#236\u001b\\\u001b[2m236\u001b[0m\u001b]8;;\u001b\\\n",
       "\u001b[2;36m                    \u001b[0m         \u001b[33mfilename\u001b[0m=\u001b[32mb\u001b[0m\u001b[32m'24c79c1f-5a47-455d-a666-8e0b25ef2e67/24c79c1f-5a47-455d-a666-8e0b\u001b[0m \u001b[2m         \u001b[0m\n",
       "\u001b[2;36m                    \u001b[0m         \u001b[32m25ef2e67.aux'\u001b[0m                                                                \u001b[2m         \u001b[0m\n"
      ]
     },
     "metadata": {},
     "output_type": "display_data"
    },
    {
     "data": {
      "text/html": [
       "<pre style=\"white-space:pre;overflow-x:auto;line-height:normal;font-family:Menlo,'DejaVu Sans Mono',consolas,'Courier New',monospace\"><span style=\"color: #7fbfbf; text-decoration-color: #7fbfbf\">                    </span><span style=\"color: #000080; text-decoration-color: #000080\">INFO    </span> Object not found in virtual filesystem:                                      <a href=\"file:///usr/local/lib/python3.10/dist-packages/rasterio/io.py\" target=\"_blank\"><span style=\"color: #7f7f7f; text-decoration-color: #7f7f7f\">io.py</span></a><span style=\"color: #7f7f7f; text-decoration-color: #7f7f7f\">:</span><a href=\"file:///usr/local/lib/python3.10/dist-packages/rasterio/io.py#236\" target=\"_blank\"><span style=\"color: #7f7f7f; text-decoration-color: #7f7f7f\">236</span></a>\n",
       "<span style=\"color: #7fbfbf; text-decoration-color: #7fbfbf\">                    </span>         <span style=\"color: #808000; text-decoration-color: #808000\">filename</span>=<span style=\"color: #008000; text-decoration-color: #008000\">b'24c79c1f-5a47-455d-a666-8e0b25ef2e67/24c79c1f-5a47-455d-a666-8e0b</span> <span style=\"color: #7f7f7f; text-decoration-color: #7f7f7f\">         </span>\n",
       "<span style=\"color: #7fbfbf; text-decoration-color: #7fbfbf\">                    </span>         <span style=\"color: #008000; text-decoration-color: #008000\">25ef2e67.AUX'</span>                                                                <span style=\"color: #7f7f7f; text-decoration-color: #7f7f7f\">         </span>\n",
       "</pre>\n"
      ],
      "text/plain": [
       "\u001b[2;36m                   \u001b[0m\u001b[2;36m \u001b[0m\u001b[34mINFO    \u001b[0m Object not found in virtual filesystem:                                      \u001b]8;id=745328;file:///usr/local/lib/python3.10/dist-packages/rasterio/io.py\u001b\\\u001b[2mio.py\u001b[0m\u001b]8;;\u001b\\\u001b[2m:\u001b[0m\u001b]8;id=865353;file:///usr/local/lib/python3.10/dist-packages/rasterio/io.py#236\u001b\\\u001b[2m236\u001b[0m\u001b]8;;\u001b\\\n",
       "\u001b[2;36m                    \u001b[0m         \u001b[33mfilename\u001b[0m=\u001b[32mb\u001b[0m\u001b[32m'24c79c1f-5a47-455d-a666-8e0b25ef2e67/24c79c1f-5a47-455d-a666-8e0b\u001b[0m \u001b[2m         \u001b[0m\n",
       "\u001b[2;36m                    \u001b[0m         \u001b[32m25ef2e67.AUX'\u001b[0m                                                                \u001b[2m         \u001b[0m\n"
      ]
     },
     "metadata": {},
     "output_type": "display_data"
    },
    {
     "data": {
      "text/html": [
       "<pre style=\"white-space:pre;overflow-x:auto;line-height:normal;font-family:Menlo,'DejaVu Sans Mono',consolas,'Courier New',monospace\"><span style=\"color: #7fbfbf; text-decoration-color: #7fbfbf\">                    </span><span style=\"color: #000080; text-decoration-color: #000080\">INFO    </span> Object not found in virtual filesystem:                                      <a href=\"file:///usr/local/lib/python3.10/dist-packages/rasterio/io.py\" target=\"_blank\"><span style=\"color: #7f7f7f; text-decoration-color: #7f7f7f\">io.py</span></a><span style=\"color: #7f7f7f; text-decoration-color: #7f7f7f\">:</span><a href=\"file:///usr/local/lib/python3.10/dist-packages/rasterio/io.py#236\" target=\"_blank\"><span style=\"color: #7f7f7f; text-decoration-color: #7f7f7f\">236</span></a>\n",
       "<span style=\"color: #7fbfbf; text-decoration-color: #7fbfbf\">                    </span>         <span style=\"color: #808000; text-decoration-color: #808000\">filename</span>=<span style=\"color: #008000; text-decoration-color: #008000\">b'24c79c1f-5a47-455d-a666-8e0b25ef2e67/24c79c1f-5a47-455d-a666-8e0b</span> <span style=\"color: #7f7f7f; text-decoration-color: #7f7f7f\">         </span>\n",
       "<span style=\"color: #7fbfbf; text-decoration-color: #7fbfbf\">                    </span>         <span style=\"color: #008000; text-decoration-color: #008000\">25ef2e67.aux'</span>                                                                <span style=\"color: #7f7f7f; text-decoration-color: #7f7f7f\">         </span>\n",
       "</pre>\n"
      ],
      "text/plain": [
       "\u001b[2;36m                   \u001b[0m\u001b[2;36m \u001b[0m\u001b[34mINFO    \u001b[0m Object not found in virtual filesystem:                                      \u001b]8;id=663826;file:///usr/local/lib/python3.10/dist-packages/rasterio/io.py\u001b\\\u001b[2mio.py\u001b[0m\u001b]8;;\u001b\\\u001b[2m:\u001b[0m\u001b]8;id=417015;file:///usr/local/lib/python3.10/dist-packages/rasterio/io.py#236\u001b\\\u001b[2m236\u001b[0m\u001b]8;;\u001b\\\n",
       "\u001b[2;36m                    \u001b[0m         \u001b[33mfilename\u001b[0m=\u001b[32mb\u001b[0m\u001b[32m'24c79c1f-5a47-455d-a666-8e0b25ef2e67/24c79c1f-5a47-455d-a666-8e0b\u001b[0m \u001b[2m         \u001b[0m\n",
       "\u001b[2;36m                    \u001b[0m         \u001b[32m25ef2e67.aux'\u001b[0m                                                                \u001b[2m         \u001b[0m\n"
      ]
     },
     "metadata": {},
     "output_type": "display_data"
    },
    {
     "data": {
      "text/html": [
       "<pre style=\"white-space:pre;overflow-x:auto;line-height:normal;font-family:Menlo,'DejaVu Sans Mono',consolas,'Courier New',monospace\"><span style=\"color: #7fbfbf; text-decoration-color: #7fbfbf\">                    </span><span style=\"color: #000080; text-decoration-color: #000080\">INFO    </span> Object not found in virtual filesystem:                                      <a href=\"file:///usr/local/lib/python3.10/dist-packages/rasterio/io.py\" target=\"_blank\"><span style=\"color: #7f7f7f; text-decoration-color: #7f7f7f\">io.py</span></a><span style=\"color: #7f7f7f; text-decoration-color: #7f7f7f\">:</span><a href=\"file:///usr/local/lib/python3.10/dist-packages/rasterio/io.py#236\" target=\"_blank\"><span style=\"color: #7f7f7f; text-decoration-color: #7f7f7f\">236</span></a>\n",
       "<span style=\"color: #7fbfbf; text-decoration-color: #7fbfbf\">                    </span>         <span style=\"color: #808000; text-decoration-color: #808000\">filename</span>=<span style=\"color: #008000; text-decoration-color: #008000\">b'24c79c1f-5a47-455d-a666-8e0b25ef2e67/24c79c1f-5a47-455d-a666-8e0b</span> <span style=\"color: #7f7f7f; text-decoration-color: #7f7f7f\">         </span>\n",
       "<span style=\"color: #7fbfbf; text-decoration-color: #7fbfbf\">                    </span>         <span style=\"color: #008000; text-decoration-color: #008000\">25ef2e67.AUX'</span>                                                                <span style=\"color: #7f7f7f; text-decoration-color: #7f7f7f\">         </span>\n",
       "</pre>\n"
      ],
      "text/plain": [
       "\u001b[2;36m                   \u001b[0m\u001b[2;36m \u001b[0m\u001b[34mINFO    \u001b[0m Object not found in virtual filesystem:                                      \u001b]8;id=121704;file:///usr/local/lib/python3.10/dist-packages/rasterio/io.py\u001b\\\u001b[2mio.py\u001b[0m\u001b]8;;\u001b\\\u001b[2m:\u001b[0m\u001b]8;id=534798;file:///usr/local/lib/python3.10/dist-packages/rasterio/io.py#236\u001b\\\u001b[2m236\u001b[0m\u001b]8;;\u001b\\\n",
       "\u001b[2;36m                    \u001b[0m         \u001b[33mfilename\u001b[0m=\u001b[32mb\u001b[0m\u001b[32m'24c79c1f-5a47-455d-a666-8e0b25ef2e67/24c79c1f-5a47-455d-a666-8e0b\u001b[0m \u001b[2m         \u001b[0m\n",
       "\u001b[2;36m                    \u001b[0m         \u001b[32m25ef2e67.AUX'\u001b[0m                                                                \u001b[2m         \u001b[0m\n"
      ]
     },
     "metadata": {},
     "output_type": "display_data"
    },
    {
     "data": {
      "text/html": [
       "<pre style=\"white-space:pre;overflow-x:auto;line-height:normal;font-family:Menlo,'DejaVu Sans Mono',consolas,'Courier New',monospace\"><span style=\"color: #7fbfbf; text-decoration-color: #7fbfbf\">                    </span><span style=\"color: #000080; text-decoration-color: #000080\">INFO    </span> Number of bands: <span style=\"color: #008080; text-decoration-color: #008080; font-weight: bold\">1</span>                                              <a href=\"file:///workspaces/urban-climate/src/urban_climate/custom_datasets/geotiff_dataset.py\" target=\"_blank\"><span style=\"color: #7f7f7f; text-decoration-color: #7f7f7f\">geotiff_dataset.py</span></a><span style=\"color: #7f7f7f; text-decoration-color: #7f7f7f\">:</span><a href=\"file:///workspaces/urban-climate/src/urban_climate/custom_datasets/geotiff_dataset.py#118\" target=\"_blank\"><span style=\"color: #7f7f7f; text-decoration-color: #7f7f7f\">118</span></a>\n",
       "</pre>\n"
      ],
      "text/plain": [
       "\u001b[2;36m                   \u001b[0m\u001b[2;36m \u001b[0m\u001b[34mINFO    \u001b[0m Number of bands: \u001b[1;36m1\u001b[0m                                              \u001b]8;id=179289;file:///workspaces/urban-climate/src/urban_climate/custom_datasets/geotiff_dataset.py\u001b\\\u001b[2mgeotiff_dataset.py\u001b[0m\u001b]8;;\u001b\\\u001b[2m:\u001b[0m\u001b]8;id=570262;file:///workspaces/urban-climate/src/urban_climate/custom_datasets/geotiff_dataset.py#118\u001b\\\u001b[2m118\u001b[0m\u001b]8;;\u001b\\\n"
      ]
     },
     "metadata": {},
     "output_type": "display_data"
    },
    {
     "data": {
      "text/html": [
       "<pre style=\"white-space:pre;overflow-x:auto;line-height:normal;font-family:Menlo,'DejaVu Sans Mono',consolas,'Courier New',monospace\"><span style=\"color: #7fbfbf; text-decoration-color: #7fbfbf\">                    </span><span style=\"color: #000080; text-decoration-color: #000080\">INFO    </span> Band names: <span style=\"font-weight: bold\">(</span><span style=\"color: #008000; text-decoration-color: #008000\">'DTM'</span>,<span style=\"font-weight: bold\">)</span>                                            <a href=\"file:///workspaces/urban-climate/src/urban_climate/custom_datasets/geotiff_dataset.py\" target=\"_blank\"><span style=\"color: #7f7f7f; text-decoration-color: #7f7f7f\">geotiff_dataset.py</span></a><span style=\"color: #7f7f7f; text-decoration-color: #7f7f7f\">:</span><a href=\"file:///workspaces/urban-climate/src/urban_climate/custom_datasets/geotiff_dataset.py#119\" target=\"_blank\"><span style=\"color: #7f7f7f; text-decoration-color: #7f7f7f\">119</span></a>\n",
       "</pre>\n"
      ],
      "text/plain": [
       "\u001b[2;36m                   \u001b[0m\u001b[2;36m \u001b[0m\u001b[34mINFO    \u001b[0m Band names: \u001b[1m(\u001b[0m\u001b[32m'DTM'\u001b[0m,\u001b[1m)\u001b[0m                                            \u001b]8;id=27225;file:///workspaces/urban-climate/src/urban_climate/custom_datasets/geotiff_dataset.py\u001b\\\u001b[2mgeotiff_dataset.py\u001b[0m\u001b]8;;\u001b\\\u001b[2m:\u001b[0m\u001b]8;id=348640;file:///workspaces/urban-climate/src/urban_climate/custom_datasets/geotiff_dataset.py#119\u001b\\\u001b[2m119\u001b[0m\u001b]8;;\u001b\\\n"
      ]
     },
     "metadata": {},
     "output_type": "display_data"
    },
    {
     "data": {
      "text/html": [
       "<pre style=\"white-space:pre;overflow-x:auto;line-height:normal;font-family:Menlo,'DejaVu Sans Mono',consolas,'Courier New',monospace\"><span style=\"color: #7fbfbf; text-decoration-color: #7fbfbf\">                    </span><span style=\"color: #000080; text-decoration-color: #000080\">INFO    </span> CRS: EPSG:<span style=\"color: #008080; text-decoration-color: #008080; font-weight: bold\">32632</span>                                                 <a href=\"file:///workspaces/urban-climate/src/urban_climate/custom_datasets/geotiff_dataset.py\" target=\"_blank\"><span style=\"color: #7f7f7f; text-decoration-color: #7f7f7f\">geotiff_dataset.py</span></a><span style=\"color: #7f7f7f; text-decoration-color: #7f7f7f\">:</span><a href=\"file:///workspaces/urban-climate/src/urban_climate/custom_datasets/geotiff_dataset.py#120\" target=\"_blank\"><span style=\"color: #7f7f7f; text-decoration-color: #7f7f7f\">120</span></a>\n",
       "</pre>\n"
      ],
      "text/plain": [
       "\u001b[2;36m                   \u001b[0m\u001b[2;36m \u001b[0m\u001b[34mINFO    \u001b[0m CRS: EPSG:\u001b[1;36m32632\u001b[0m                                                 \u001b]8;id=40436;file:///workspaces/urban-climate/src/urban_climate/custom_datasets/geotiff_dataset.py\u001b\\\u001b[2mgeotiff_dataset.py\u001b[0m\u001b]8;;\u001b\\\u001b[2m:\u001b[0m\u001b]8;id=234203;file:///workspaces/urban-climate/src/urban_climate/custom_datasets/geotiff_dataset.py#120\u001b\\\u001b[2m120\u001b[0m\u001b]8;;\u001b\\\n"
      ]
     },
     "metadata": {},
     "output_type": "display_data"
    },
    {
     "data": {
      "text/html": [
       "<pre style=\"white-space:pre;overflow-x:auto;line-height:normal;font-family:Menlo,'DejaVu Sans Mono',consolas,'Courier New',monospace\"><span style=\"color: #7fbfbf; text-decoration-color: #7fbfbf\">                    </span><span style=\"color: #000080; text-decoration-color: #000080\">INFO    </span> time: <span style=\"color: #800080; text-decoration-color: #800080; font-style: italic\">None</span>                                                      <a href=\"file:///workspaces/urban-climate/src/urban_climate/custom_datasets/geotiff_dataset.py\" target=\"_blank\"><span style=\"color: #7f7f7f; text-decoration-color: #7f7f7f\">geotiff_dataset.py</span></a><span style=\"color: #7f7f7f; text-decoration-color: #7f7f7f\">:</span><a href=\"file:///workspaces/urban-climate/src/urban_climate/custom_datasets/geotiff_dataset.py#121\" target=\"_blank\"><span style=\"color: #7f7f7f; text-decoration-color: #7f7f7f\">121</span></a>\n",
       "</pre>\n"
      ],
      "text/plain": [
       "\u001b[2;36m                   \u001b[0m\u001b[2;36m \u001b[0m\u001b[34mINFO    \u001b[0m time: \u001b[3;35mNone\u001b[0m                                                      \u001b]8;id=358807;file:///workspaces/urban-climate/src/urban_climate/custom_datasets/geotiff_dataset.py\u001b\\\u001b[2mgeotiff_dataset.py\u001b[0m\u001b]8;;\u001b\\\u001b[2m:\u001b[0m\u001b]8;id=164498;file:///workspaces/urban-climate/src/urban_climate/custom_datasets/geotiff_dataset.py#121\u001b\\\u001b[2m121\u001b[0m\u001b]8;;\u001b\\\n"
      ]
     },
     "metadata": {},
     "output_type": "display_data"
    },
    {
     "data": {
      "text/html": [
       "<pre style=\"white-space:pre;overflow-x:auto;line-height:normal;font-family:Menlo,'DejaVu Sans Mono',consolas,'Courier New',monospace\"><span style=\"color: #7fbfbf; text-decoration-color: #7fbfbf\">                    </span><span style=\"color: #000080; text-decoration-color: #000080\">INFO    </span> Geotransform: | <span style=\"color: #008080; text-decoration-color: #008080; font-weight: bold\">100.00</span>, <span style=\"color: #008080; text-decoration-color: #008080; font-weight: bold\">0.00</span>, <span style=\"color: #008080; text-decoration-color: #008080; font-weight: bold\">438885.00</span>|                        <a href=\"file:///workspaces/urban-climate/src/urban_climate/custom_datasets/geotiff_dataset.py\" target=\"_blank\"><span style=\"color: #7f7f7f; text-decoration-color: #7f7f7f\">geotiff_dataset.py</span></a><span style=\"color: #7f7f7f; text-decoration-color: #7f7f7f\">:</span><a href=\"file:///workspaces/urban-climate/src/urban_climate/custom_datasets/geotiff_dataset.py#122\" target=\"_blank\"><span style=\"color: #7f7f7f; text-decoration-color: #7f7f7f\">122</span></a>\n",
       "<span style=\"color: #7fbfbf; text-decoration-color: #7fbfbf\">                    </span>         | <span style=\"color: #008080; text-decoration-color: #008080; font-weight: bold\">0.00</span>,<span style=\"color: #008080; text-decoration-color: #008080; font-weight: bold\">-100.00</span>, <span style=\"color: #008080; text-decoration-color: #008080; font-weight: bold\">6447715.00</span>|                                     <span style=\"color: #7f7f7f; text-decoration-color: #7f7f7f\">                      </span>\n",
       "<span style=\"color: #7fbfbf; text-decoration-color: #7fbfbf\">                    </span>         | <span style=\"color: #008080; text-decoration-color: #008080; font-weight: bold\">0.00</span>, <span style=\"color: #008080; text-decoration-color: #008080; font-weight: bold\">0.00</span>, <span style=\"color: #008080; text-decoration-color: #008080; font-weight: bold\">1.00</span>|                                             <span style=\"color: #7f7f7f; text-decoration-color: #7f7f7f\">                      </span>\n",
       "</pre>\n"
      ],
      "text/plain": [
       "\u001b[2;36m                   \u001b[0m\u001b[2;36m \u001b[0m\u001b[34mINFO    \u001b[0m Geotransform: | \u001b[1;36m100.00\u001b[0m, \u001b[1;36m0.00\u001b[0m, \u001b[1;36m438885.00\u001b[0m|                        \u001b]8;id=431234;file:///workspaces/urban-climate/src/urban_climate/custom_datasets/geotiff_dataset.py\u001b\\\u001b[2mgeotiff_dataset.py\u001b[0m\u001b]8;;\u001b\\\u001b[2m:\u001b[0m\u001b]8;id=61781;file:///workspaces/urban-climate/src/urban_climate/custom_datasets/geotiff_dataset.py#122\u001b\\\u001b[2m122\u001b[0m\u001b]8;;\u001b\\\n",
       "\u001b[2;36m                    \u001b[0m         | \u001b[1;36m0.00\u001b[0m,\u001b[1;36m-100.00\u001b[0m, \u001b[1;36m6447715.00\u001b[0m|                                     \u001b[2m                      \u001b[0m\n",
       "\u001b[2;36m                    \u001b[0m         | \u001b[1;36m0.00\u001b[0m, \u001b[1;36m0.00\u001b[0m, \u001b[1;36m1.00\u001b[0m|                                             \u001b[2m                      \u001b[0m\n"
      ]
     },
     "metadata": {},
     "output_type": "display_data"
    },
    {
     "data": {
      "text/html": [
       "<pre style=\"white-space:pre;overflow-x:auto;line-height:normal;font-family:Menlo,'DejaVu Sans Mono',consolas,'Courier New',monospace\"><span style=\"color: #7fbfbf; text-decoration-color: #7fbfbf\">                    </span><span style=\"color: #000080; text-decoration-color: #000080\">INFO    </span> Bounds: <span style=\"color: #800080; text-decoration-color: #800080; font-weight: bold\">BoundingBox</span><span style=\"font-weight: bold\">(</span><span style=\"color: #808000; text-decoration-color: #808000\">left</span>=<span style=\"color: #008080; text-decoration-color: #008080; font-weight: bold\">412385.0</span>, <span style=\"color: #808000; text-decoration-color: #808000\">bottom</span>=<span style=\"color: #008080; text-decoration-color: #008080; font-weight: bold\">6406815.0</span>,            <a href=\"file:///workspaces/urban-climate/src/urban_climate/custom_datasets/geotiff_dataset.py\" target=\"_blank\"><span style=\"color: #7f7f7f; text-decoration-color: #7f7f7f\">geotiff_dataset.py</span></a><span style=\"color: #7f7f7f; text-decoration-color: #7f7f7f\">:</span><a href=\"file:///workspaces/urban-climate/src/urban_climate/custom_datasets/geotiff_dataset.py#123\" target=\"_blank\"><span style=\"color: #7f7f7f; text-decoration-color: #7f7f7f\">123</span></a>\n",
       "<span style=\"color: #7fbfbf; text-decoration-color: #7fbfbf\">                    </span>         <span style=\"color: #808000; text-decoration-color: #808000\">right</span>=<span style=\"color: #008080; text-decoration-color: #008080; font-weight: bold\">463285.0</span>, <span style=\"color: #808000; text-decoration-color: #808000\">top</span>=<span style=\"color: #008080; text-decoration-color: #008080; font-weight: bold\">6470815.0</span><span style=\"font-weight: bold\">)</span>                                  <span style=\"color: #7f7f7f; text-decoration-color: #7f7f7f\">                      </span>\n",
       "</pre>\n"
      ],
      "text/plain": [
       "\u001b[2;36m                   \u001b[0m\u001b[2;36m \u001b[0m\u001b[34mINFO    \u001b[0m Bounds: \u001b[1;35mBoundingBox\u001b[0m\u001b[1m(\u001b[0m\u001b[33mleft\u001b[0m=\u001b[1;36m412385\u001b[0m\u001b[1;36m.0\u001b[0m, \u001b[33mbottom\u001b[0m=\u001b[1;36m6406815\u001b[0m\u001b[1;36m.0\u001b[0m,            \u001b]8;id=999014;file:///workspaces/urban-climate/src/urban_climate/custom_datasets/geotiff_dataset.py\u001b\\\u001b[2mgeotiff_dataset.py\u001b[0m\u001b]8;;\u001b\\\u001b[2m:\u001b[0m\u001b]8;id=606612;file:///workspaces/urban-climate/src/urban_climate/custom_datasets/geotiff_dataset.py#123\u001b\\\u001b[2m123\u001b[0m\u001b]8;;\u001b\\\n",
       "\u001b[2;36m                    \u001b[0m         \u001b[33mright\u001b[0m=\u001b[1;36m463285\u001b[0m\u001b[1;36m.0\u001b[0m, \u001b[33mtop\u001b[0m=\u001b[1;36m6470815\u001b[0m\u001b[1;36m.0\u001b[0m\u001b[1m)\u001b[0m                                  \u001b[2m                      \u001b[0m\n"
      ]
     },
     "metadata": {},
     "output_type": "display_data"
    },
    {
     "name": "stdout",
     "output_type": "stream",
     "text": [
      "{'driver': 'GTiff', 'dtype': 'float32', 'nodata': None, 'width': 41, 'height': 32, 'count': 1, 'crs': CRS.from_epsg(32632), 'transform': Affine(100.0, 0.0, 438885.0,\n",
      "       0.0, -100.0, 6447715.0), 'bounds': BoundingBox(left=412385.0, bottom=6406815.0, right=463285.0, top=6470815.0), 'descriptions': ('DTM',), 'creation_time': None}\n"
     ]
    },
    {
     "data": {
      "text/html": [
       "<pre style=\"white-space:pre;overflow-x:auto;line-height:normal;font-family:Menlo,'DejaVu Sans Mono',consolas,'Courier New',monospace\"><span style=\"color: #7fbfbf; text-decoration-color: #7fbfbf\">                    </span><span style=\"color: #000080; text-decoration-color: #000080\">INFO    </span> Saving data to <span style=\"color: #008000; text-decoration-color: #008000\">'test_save'</span> <span style=\"font-weight: bold\">(</span>GeoTIFFDataSet<span style=\"font-weight: bold\">)</span><span style=\"color: #808000; text-decoration-color: #808000\">...</span>                     <a href=\"file:///usr/local/lib/python3.10/dist-packages/kedro/io/data_catalog.py\" target=\"_blank\"><span style=\"color: #7f7f7f; text-decoration-color: #7f7f7f\">data_catalog.py</span></a><span style=\"color: #7f7f7f; text-decoration-color: #7f7f7f\">:</span><a href=\"file:///usr/local/lib/python3.10/dist-packages/kedro/io/data_catalog.py#541\" target=\"_blank\"><span style=\"color: #7f7f7f; text-decoration-color: #7f7f7f\">541</span></a>\n",
       "</pre>\n"
      ],
      "text/plain": [
       "\u001b[2;36m                   \u001b[0m\u001b[2;36m \u001b[0m\u001b[34mINFO    \u001b[0m Saving data to \u001b[32m'test_save'\u001b[0m \u001b[1m(\u001b[0mGeoTIFFDataSet\u001b[1m)\u001b[0m\u001b[33m...\u001b[0m                     \u001b]8;id=303293;file:///usr/local/lib/python3.10/dist-packages/kedro/io/data_catalog.py\u001b\\\u001b[2mdata_catalog.py\u001b[0m\u001b]8;;\u001b\\\u001b[2m:\u001b[0m\u001b]8;id=863041;file:///usr/local/lib/python3.10/dist-packages/kedro/io/data_catalog.py#541\u001b\\\u001b[2m541\u001b[0m\u001b]8;;\u001b\\\n"
      ]
     },
     "metadata": {},
     "output_type": "display_data"
    },
    {
     "data": {
      "text/html": [
       "<pre style=\"white-space:pre;overflow-x:auto;line-height:normal;font-family:Menlo,'DejaVu Sans Mono',consolas,'Courier New',monospace\"><span style=\"color: #7fbfbf; text-decoration-color: #7fbfbf\">                    </span><span style=\"color: #000080; text-decoration-color: #000080\">INFO    </span> Band names: <span style=\"font-weight: bold\">(</span><span style=\"color: #008000; text-decoration-color: #008000\">'DTM'</span>,<span style=\"font-weight: bold\">)</span>                                            <a href=\"file:///workspaces/urban-climate/src/urban_climate/custom_datasets/geotiff_dataset.py\" target=\"_blank\"><span style=\"color: #7f7f7f; text-decoration-color: #7f7f7f\">geotiff_dataset.py</span></a><span style=\"color: #7f7f7f; text-decoration-color: #7f7f7f\">:</span><a href=\"file:///workspaces/urban-climate/src/urban_climate/custom_datasets/geotiff_dataset.py#134\" target=\"_blank\"><span style=\"color: #7f7f7f; text-decoration-color: #7f7f7f\">134</span></a>\n",
       "</pre>\n"
      ],
      "text/plain": [
       "\u001b[2;36m                   \u001b[0m\u001b[2;36m \u001b[0m\u001b[34mINFO    \u001b[0m Band names: \u001b[1m(\u001b[0m\u001b[32m'DTM'\u001b[0m,\u001b[1m)\u001b[0m                                            \u001b]8;id=700935;file:///workspaces/urban-climate/src/urban_climate/custom_datasets/geotiff_dataset.py\u001b\\\u001b[2mgeotiff_dataset.py\u001b[0m\u001b]8;;\u001b\\\u001b[2m:\u001b[0m\u001b]8;id=812037;file:///workspaces/urban-climate/src/urban_climate/custom_datasets/geotiff_dataset.py#134\u001b\\\u001b[2m134\u001b[0m\u001b]8;;\u001b\\\n"
      ]
     },
     "metadata": {},
     "output_type": "display_data"
    },
    {
     "data": {
      "text/html": [
       "<pre style=\"white-space:pre;overflow-x:auto;line-height:normal;font-family:Menlo,'DejaVu Sans Mono',consolas,'Courier New',monospace\"><span style=\"color: #7fbfbf; text-decoration-color: #7fbfbf\">                    </span><span style=\"color: #000080; text-decoration-color: #000080\">INFO    </span> CRS: EPSG:<span style=\"color: #008080; text-decoration-color: #008080; font-weight: bold\">32632</span>                                                 <a href=\"file:///workspaces/urban-climate/src/urban_climate/custom_datasets/geotiff_dataset.py\" target=\"_blank\"><span style=\"color: #7f7f7f; text-decoration-color: #7f7f7f\">geotiff_dataset.py</span></a><span style=\"color: #7f7f7f; text-decoration-color: #7f7f7f\">:</span><a href=\"file:///workspaces/urban-climate/src/urban_climate/custom_datasets/geotiff_dataset.py#135\" target=\"_blank\"><span style=\"color: #7f7f7f; text-decoration-color: #7f7f7f\">135</span></a>\n",
       "</pre>\n"
      ],
      "text/plain": [
       "\u001b[2;36m                   \u001b[0m\u001b[2;36m \u001b[0m\u001b[34mINFO    \u001b[0m CRS: EPSG:\u001b[1;36m32632\u001b[0m                                                 \u001b]8;id=251955;file:///workspaces/urban-climate/src/urban_climate/custom_datasets/geotiff_dataset.py\u001b\\\u001b[2mgeotiff_dataset.py\u001b[0m\u001b]8;;\u001b\\\u001b[2m:\u001b[0m\u001b]8;id=484715;file:///workspaces/urban-climate/src/urban_climate/custom_datasets/geotiff_dataset.py#135\u001b\\\u001b[2m135\u001b[0m\u001b]8;;\u001b\\\n"
      ]
     },
     "metadata": {},
     "output_type": "display_data"
    },
    {
     "data": {
      "text/html": [
       "<pre style=\"white-space:pre;overflow-x:auto;line-height:normal;font-family:Menlo,'DejaVu Sans Mono',consolas,'Courier New',monospace\"><span style=\"color: #7fbfbf; text-decoration-color: #7fbfbf\">                    </span><span style=\"color: #000080; text-decoration-color: #000080\">INFO    </span> Geotransform: | <span style=\"color: #008080; text-decoration-color: #008080; font-weight: bold\">100.00</span>, <span style=\"color: #008080; text-decoration-color: #008080; font-weight: bold\">0.00</span>, <span style=\"color: #008080; text-decoration-color: #008080; font-weight: bold\">438885.00</span>|                        <a href=\"file:///workspaces/urban-climate/src/urban_climate/custom_datasets/geotiff_dataset.py\" target=\"_blank\"><span style=\"color: #7f7f7f; text-decoration-color: #7f7f7f\">geotiff_dataset.py</span></a><span style=\"color: #7f7f7f; text-decoration-color: #7f7f7f\">:</span><a href=\"file:///workspaces/urban-climate/src/urban_climate/custom_datasets/geotiff_dataset.py#136\" target=\"_blank\"><span style=\"color: #7f7f7f; text-decoration-color: #7f7f7f\">136</span></a>\n",
       "<span style=\"color: #7fbfbf; text-decoration-color: #7fbfbf\">                    </span>         | <span style=\"color: #008080; text-decoration-color: #008080; font-weight: bold\">0.00</span>,<span style=\"color: #008080; text-decoration-color: #008080; font-weight: bold\">-100.00</span>, <span style=\"color: #008080; text-decoration-color: #008080; font-weight: bold\">6447715.00</span>|                                     <span style=\"color: #7f7f7f; text-decoration-color: #7f7f7f\">                      </span>\n",
       "<span style=\"color: #7fbfbf; text-decoration-color: #7fbfbf\">                    </span>         | <span style=\"color: #008080; text-decoration-color: #008080; font-weight: bold\">0.00</span>, <span style=\"color: #008080; text-decoration-color: #008080; font-weight: bold\">0.00</span>, <span style=\"color: #008080; text-decoration-color: #008080; font-weight: bold\">1.00</span>|                                             <span style=\"color: #7f7f7f; text-decoration-color: #7f7f7f\">                      </span>\n",
       "</pre>\n"
      ],
      "text/plain": [
       "\u001b[2;36m                   \u001b[0m\u001b[2;36m \u001b[0m\u001b[34mINFO    \u001b[0m Geotransform: | \u001b[1;36m100.00\u001b[0m, \u001b[1;36m0.00\u001b[0m, \u001b[1;36m438885.00\u001b[0m|                        \u001b]8;id=829531;file:///workspaces/urban-climate/src/urban_climate/custom_datasets/geotiff_dataset.py\u001b\\\u001b[2mgeotiff_dataset.py\u001b[0m\u001b]8;;\u001b\\\u001b[2m:\u001b[0m\u001b]8;id=633812;file:///workspaces/urban-climate/src/urban_climate/custom_datasets/geotiff_dataset.py#136\u001b\\\u001b[2m136\u001b[0m\u001b]8;;\u001b\\\n",
       "\u001b[2;36m                    \u001b[0m         | \u001b[1;36m0.00\u001b[0m,\u001b[1;36m-100.00\u001b[0m, \u001b[1;36m6447715.00\u001b[0m|                                     \u001b[2m                      \u001b[0m\n",
       "\u001b[2;36m                    \u001b[0m         | \u001b[1;36m0.00\u001b[0m, \u001b[1;36m0.00\u001b[0m, \u001b[1;36m1.00\u001b[0m|                                             \u001b[2m                      \u001b[0m\n"
      ]
     },
     "metadata": {},
     "output_type": "display_data"
    },
    {
     "data": {
      "text/html": [
       "<pre style=\"white-space:pre;overflow-x:auto;line-height:normal;font-family:Menlo,'DejaVu Sans Mono',consolas,'Courier New',monospace\"><span style=\"color: #7fbfbf; text-decoration-color: #7fbfbf\">                    </span><span style=\"color: #000080; text-decoration-color: #000080\">INFO    </span> Bounds: <span style=\"color: #800080; text-decoration-color: #800080; font-weight: bold\">BoundingBox</span><span style=\"font-weight: bold\">(</span><span style=\"color: #808000; text-decoration-color: #808000\">left</span>=<span style=\"color: #008080; text-decoration-color: #008080; font-weight: bold\">412385.0</span>, <span style=\"color: #808000; text-decoration-color: #808000\">bottom</span>=<span style=\"color: #008080; text-decoration-color: #008080; font-weight: bold\">6406815.0</span>,            <a href=\"file:///workspaces/urban-climate/src/urban_climate/custom_datasets/geotiff_dataset.py\" target=\"_blank\"><span style=\"color: #7f7f7f; text-decoration-color: #7f7f7f\">geotiff_dataset.py</span></a><span style=\"color: #7f7f7f; text-decoration-color: #7f7f7f\">:</span><a href=\"file:///workspaces/urban-climate/src/urban_climate/custom_datasets/geotiff_dataset.py#143\" target=\"_blank\"><span style=\"color: #7f7f7f; text-decoration-color: #7f7f7f\">143</span></a>\n",
       "<span style=\"color: #7fbfbf; text-decoration-color: #7fbfbf\">                    </span>         <span style=\"color: #808000; text-decoration-color: #808000\">right</span>=<span style=\"color: #008080; text-decoration-color: #008080; font-weight: bold\">463285.0</span>, <span style=\"color: #808000; text-decoration-color: #808000\">top</span>=<span style=\"color: #008080; text-decoration-color: #008080; font-weight: bold\">6470815.0</span><span style=\"font-weight: bold\">)</span>                                  <span style=\"color: #7f7f7f; text-decoration-color: #7f7f7f\">                      </span>\n",
       "</pre>\n"
      ],
      "text/plain": [
       "\u001b[2;36m                   \u001b[0m\u001b[2;36m \u001b[0m\u001b[34mINFO    \u001b[0m Bounds: \u001b[1;35mBoundingBox\u001b[0m\u001b[1m(\u001b[0m\u001b[33mleft\u001b[0m=\u001b[1;36m412385\u001b[0m\u001b[1;36m.0\u001b[0m, \u001b[33mbottom\u001b[0m=\u001b[1;36m6406815\u001b[0m\u001b[1;36m.0\u001b[0m,            \u001b]8;id=976596;file:///workspaces/urban-climate/src/urban_climate/custom_datasets/geotiff_dataset.py\u001b\\\u001b[2mgeotiff_dataset.py\u001b[0m\u001b]8;;\u001b\\\u001b[2m:\u001b[0m\u001b]8;id=885815;file:///workspaces/urban-climate/src/urban_climate/custom_datasets/geotiff_dataset.py#143\u001b\\\u001b[2m143\u001b[0m\u001b]8;;\u001b\\\n",
       "\u001b[2;36m                    \u001b[0m         \u001b[33mright\u001b[0m=\u001b[1;36m463285\u001b[0m\u001b[1;36m.0\u001b[0m, \u001b[33mtop\u001b[0m=\u001b[1;36m6470815\u001b[0m\u001b[1;36m.0\u001b[0m\u001b[1m)\u001b[0m                                  \u001b[2m                      \u001b[0m\n"
      ]
     },
     "metadata": {},
     "output_type": "display_data"
    },
    {
     "data": {
      "text/html": [
       "<pre style=\"white-space:pre;overflow-x:auto;line-height:normal;font-family:Menlo,'DejaVu Sans Mono',consolas,'Courier New',monospace\"><span style=\"color: #7fbfbf; text-decoration-color: #7fbfbf\">                    </span><span style=\"color: #000080; text-decoration-color: #000080\">INFO    </span> Creation time: <span style=\"color: #008080; text-decoration-color: #008080; font-weight: bold\">2023</span>-<span style=\"color: #008080; text-decoration-color: #008080; font-weight: bold\">12</span>-<span style=\"color: #008080; text-decoration-color: #008080; font-weight: bold\">02</span> <span style=\"color: #00ff00; text-decoration-color: #00ff00; font-weight: bold\">23:40:24</span>                              <a href=\"file:///workspaces/urban-climate/src/urban_climate/custom_datasets/geotiff_dataset.py\" target=\"_blank\"><span style=\"color: #7f7f7f; text-decoration-color: #7f7f7f\">geotiff_dataset.py</span></a><span style=\"color: #7f7f7f; text-decoration-color: #7f7f7f\">:</span><a href=\"file:///workspaces/urban-climate/src/urban_climate/custom_datasets/geotiff_dataset.py#144\" target=\"_blank\"><span style=\"color: #7f7f7f; text-decoration-color: #7f7f7f\">144</span></a>\n",
       "</pre>\n"
      ],
      "text/plain": [
       "\u001b[2;36m                   \u001b[0m\u001b[2;36m \u001b[0m\u001b[34mINFO    \u001b[0m Creation time: \u001b[1;36m2023\u001b[0m-\u001b[1;36m12\u001b[0m-\u001b[1;36m02\u001b[0m \u001b[1;92m23:40:24\u001b[0m                              \u001b]8;id=72785;file:///workspaces/urban-climate/src/urban_climate/custom_datasets/geotiff_dataset.py\u001b\\\u001b[2mgeotiff_dataset.py\u001b[0m\u001b]8;;\u001b\\\u001b[2m:\u001b[0m\u001b]8;id=79084;file:///workspaces/urban-climate/src/urban_climate/custom_datasets/geotiff_dataset.py#144\u001b\\\u001b[2m144\u001b[0m\u001b]8;;\u001b\\\n"
      ]
     },
     "metadata": {},
     "output_type": "display_data"
    }
   ],
   "source": [
    "# load raster data\n",
    "image = context.catalog.load('terrain')\n",
    "raster, metadata = image \n",
    "\n",
    "print(metadata)\n",
    "context.catalog.save('test_save', data=image)"
   ]
  },
  {
   "cell_type": "code",
   "execution_count": null,
   "metadata": {},
   "outputs": [],
   "source": [
    "#%kedro viz"
   ]
  }
 ],
 "metadata": {
  "kernelspec": {
   "display_name": "kedro-spaceflight",
   "language": "python",
   "name": "python3"
  },
  "language_info": {
   "codemirror_mode": {
    "name": "ipython",
    "version": 3
   },
   "file_extension": ".py",
   "mimetype": "text/x-python",
   "name": "python",
   "nbconvert_exporter": "python",
   "pygments_lexer": "ipython3",
   "version": "3.10.12"
  },
  "orig_nbformat": 4
 },
 "nbformat": 4,
 "nbformat_minor": 2
}
