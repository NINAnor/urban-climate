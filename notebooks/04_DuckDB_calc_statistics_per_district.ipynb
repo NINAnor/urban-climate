{
 "cells": [
  {
   "cell_type": "markdown",
   "metadata": {},
   "source": [
    "<table class=\"ee-notebook-buttons\" align=\"left\">\n",
    "    <td><a target=\"_blank\"  href=\"https://github.com/ac-willeke/urban-climate\"><img width=32px src=\"https://www.tensorflow.org/images/GitHub-Mark-32px.png\" style=\"filter: invert(100%)\"/> View source on GitHub</a></td>\n",
    "    <td><a target=\"_blank\"  href=\"https://colab.research.google.com/github/NINAnor/mapper-soilCondition/blob/main/src/data/GEE_display_data.ipynb\"><img src=\"https://www.tensorflow.org/images/colab_logo_32px.png\" /> Run in Google Colab</a></td>\n",
    "</table>"
   ]
  },
  {
   "cell_type": "markdown",
   "metadata": {},
   "source": [
    "# Caclulate statistics per district using DuckDB\n",
    "\n",
    "**Author**: Willeke A'Campo\n",
    "\n",
    "**Description:** This notebooks shows how to calculate the Ecosystem Service statistics per district using DuckDB. The results are stored in a new table in the database and exported to GeoJSON.\n",
    "\n",
    "**Documentation:** "
   ]
  },
  {
   "cell_type": "markdown",
   "metadata": {},
   "source": [
    "### Data conversion | GeoJSON to GeoParquet   "
   ]
  },
  {
   "cell_type": "code",
   "execution_count": null,
   "metadata": {},
   "outputs": [],
   "source": [
    "import leafmap \n",
    "import geopandas as gpd\n",
    "\n",
    "# Read the geojson data \n",
    "municipality = \"kristiansand\"\n",
    "raw_path = r\"/workspaces/urban-climate/data/01_raw\"\n",
    "v_study_area = gpd.read_file(raw_path + \"/study_area.geojson\")\n",
    "v_districts = gpd.read_file(raw_path + \"/districts.geojson\")\n",
    "v_bldg = gpd.read_file(raw_path + \"/buildings.geojson\")\n",
    "v_res_bldg = gpd.read_file(raw_path + \"/residential_buildings.geojson\")\n",
    "v_open_space = gpd.read_file(raw_path + \"/open_space.geojson\")\n",
    "v_public_os = gpd.read_file(raw_path + \"/public_open_space.geojson\")\n",
    "v_private_os = gpd.read_file(raw_path + \"/private_open_space.geojson\")\n",
    "v_crowns = gpd.read_file(raw_path + \"/crowns.geojson\")\n",
    "\n",
    "# Add files to dictionary\n",
    "gdf_vectors = {\n",
    "    \"study_area\": v_study_area,\n",
    "    \"districts\": v_districts,\n",
    "    \"buildings\": v_bldg,\n",
    "    \"residential_buildings\": v_res_bldg,\n",
    "    \"open_space\": v_open_space,\n",
    "    \"public_open_space\": v_public_os,\n",
    "    \"private_open_space\": v_private_os,\n",
    "    \"crowns\": v_crowns\n",
    "}"
   ]
  },
  {
   "cell_type": "code",
   "execution_count": null,
   "metadata": {},
   "outputs": [],
   "source": [
    "# Convert GeoDataFrame to Parquet\n",
    "for key, gdf in gdf_vectors.items():\n",
    "    gdf.to_parquet(\n",
    "        path = raw_path + \"/\" + key + \".parquet\",\n",
    "        index = None, \n",
    "        compression = \"snappy\"\n",
    "    )\n",
    "    \n",
    "parquet_dict = {\n",
    "    \"study_area\": raw_path + \"/study_area.parquet\",\n",
    "    \"districts\": raw_path + \"/districts.parquet\",\n",
    "    \"buildings\": raw_path + \"/buildings.parquet\",\n",
    "    \"residential_buildings\": raw_path + \"/residential_buildings.parquet\",\n",
    "    \"open_space\": raw_path + \"/open_space.parquet\",\n",
    "    \"public_open_space\": raw_path + \"/public_open_space.parquet\",\n",
    "    \"private_open_space\": raw_path + \"/private_open_space.parquet\",\n",
    "    \"crowns\": raw_path + \"/crowns.parquet\"\n",
    "}"
   ]
  },
  {
   "cell_type": "code",
   "execution_count": null,
   "metadata": {},
   "outputs": [],
   "source": [
    "# Create a map \n",
    "gdf = leafmap.read_parquet(parquet_dict[\"study_area\"], return_type = gdf, src_crs = \"EPSG:25832\")\n",
    "leafmap.view_vector(gdf, get_fill_color=[0, 0, 255, 128])"
   ]
  },
  {
   "cell_type": "markdown",
   "metadata": {},
   "source": [
    "### DuckDB Connection\n",
    "\n",
    "You can use the following commands to load your data into DuckDB database\n",
    "- `con.sql` executes a SQL query writes it to a DuckDB database \n",
    "- `con.execute` executes a SQL query and returns the result as a duckdb.DuckDBPyResult object\n",
    "   - con.execut(\"CREATE TABLE ...\") to create a new table\n",
    "   - con.execute(\"INSERT INTO ...\") to insert data into a table\n",
    "   - con.execute(\"COPY ... FROM ...\") to load data from a file into a table\n",
    "- `gdf.to_sql` to write a GeoDataFrame to a table in the DuckDB database\n",
    "\n",
    "con.execute(\"\"\"\n",
    "COPY table_name \n",
    "FROM 'path_to_your_file.parquet' \n",
    "WITH (FORMAT 'PARQUET')\n",
    "\"\"\")"
   ]
  },
  {
   "cell_type": "code",
   "execution_count": null,
   "metadata": {},
   "outputs": [],
   "source": [
    "import duckdb\n",
    "\n",
    "con = duckdb.connect(database=\":memory:\", read_only=False)\n",
    "con.install_extension(\"spatial\")\n",
    "con.load_extension(\"spatial\")\n",
    "\n",
    "# Create a table for parquet file \n",
    "for key, path in parquet_dict.items():\n",
    "    con.sql(f\"SELECT * EXCLUDE geometry, ST_GeomFromWKB(geometry) FROM '{path}'\")\n",
    "\n",
    "# Example of how to load a GeoDataFrame into DuckDB\n",
    "#gdf.to_sql('table_name', con, if_exists='replace', index=False)"
   ]
  },
  {
   "cell_type": "markdown",
   "metadata": {},
   "source": [
    "**Create a new Table with Tree Crown Center Points**"
   ]
  },
  {
   "cell_type": "code",
   "execution_count": null,
   "metadata": {},
   "outputs": [],
   "source": [
    "crowns_xy = con.execute(\"SELECT ST_X(ST_Centroid(geometry)), ST_Y(ST_Centroid(geometry)) FROM crowns\").fetchdf()"
   ]
  },
  {
   "cell_type": "markdown",
   "metadata": {},
   "source": [
    "**Split open space, private open space and public open space by district**"
   ]
  },
  {
   "cell_type": "code",
   "execution_count": null,
   "metadata": {},
   "outputs": [],
   "source": [
    "# create new table split_open_space \n",
    "# with open space split by district boundaries\n",
    "con.execute(\n",
    "    \"\"\"\n",
    "    CREATE TABLE split_open_space AS \n",
    "    SELECT\n",
    "        districts.grunnkretsnummer,\n",
    "        ST_Intersection(districts.geometry, open_space.geometry) AS geom\n",
    "    FROM \n",
    "        districts, open_space\n",
    "    WHERE\n",
    "        ST_Intersects(districts.geom, open_space.geom)\n",
    "    \"\"\"\n",
    "    )\n",
    "\n",
    "# create new table split_buildings\n",
    "# with buildings split by district boundaries\n",
    "con.execute(\n",
    "    \"\"\"\n",
    "    CREATE TABLE split_buildings AS \n",
    "    SELECT\n",
    "        districts.grunnkretsnummer,\n",
    "        ST_Intersection(districts.geometry, buildings.geometry) AS geom\n",
    "    FROM \n",
    "        districts, buildings\n",
    "    WHERE\n",
    "        ST_Intersects(districts.geom, buildings.geom)\n",
    "    \"\"\"\n",
    "    )\n",
    "\n",
    "# create new table split_res_buildings\n",
    "# with residential buildings split by district boundaries\n",
    "con.execute(\n",
    "    \"\"\"\n",
    "    CREATE TABLE split_res_buildings AS \n",
    "    SELECT\n",
    "        districts.grunnkretsnummer,\n",
    "        ST_Intersection(districts.geometry, residential_buildings.geometry) AS geom\n",
    "    FROM \n",
    "        districts, residential_buildings\n",
    "    WHERE\n",
    "        ST_Intersects(districts.geom, residential_buildings.geom)\n",
    "    \"\"\"\n",
    "    )"
   ]
  },
  {
   "cell_type": "markdown",
   "metadata": {},
   "source": [
    "### Generate Columns with Count Statistics\n",
    "\n",
    "| Name | Alias | Description | Type |  Unit | \n",
    "| --- | --- | --- | --- | --- |\n",
    "| n_trees | Antall trær | Number of trees in the district | INT |\n",
    "| n_bldg | Antall bygninger | Number of buildings in the district | INT |\n",
    "| n_res_bldg | Antall boliger | Number of residential buildings in the district | INT |\n",
    "| n_res_bldg_near_gs | Antall boliger nær grøntområde (300 m) | Number of residential buildings near green space (300 m) | INT |\n",
    "| n_trees_near_bldg | Antall trær nær boliger (15 m) | Number of trees near residential buildings (15 m) | INT |\n",
    "| n_viewshed | Antall viewshed piksler | Number of viewshed pixels that intersect with the building edge | INT |\n",
    "\n"
   ]
  },
  {
   "cell_type": "code",
   "execution_count": null,
   "metadata": {},
   "outputs": [],
   "source": [
    "# add count columsn to district table \n",
    "\n",
    "# add count columns: n_trees, n_bldg, n_res_bldg, n_res_bldg_near_gs, n_trees_near_bldg\n",
    "con.execute(\n",
    "    \"\"\"\n",
    "    ALTER TABLE districts\n",
    "    ADD COLUMN n_trees INTEGER,\n",
    "    ADD COLUMN n_bldg INTEGER,\n",
    "    ADD COLUMN n_res_bldg INTEGER,\n",
    "    ADD COLUMN n_res_bldg_near_gs INTEGER,\n",
    "    ADD COLUMN n_trees_near_bldg INTEGER\n",
    "    \"\"\"\n",
    "    )\n",
    "\n",
    "# calculate count per district using geometry intersection\n",
    "con.execute(\n",
    "    \"\"\"\n",
    "    UPDATE districts SET\n",
    "    n_trees = (SELECT COUNT(*) FROM crowns_xy WHERE ST_Within(geom, districts.geom)),\n",
    "    n_bldg = (SELECT COUNT(*) FROM split_buildings WHERE ST_Within(geom, districts.geom)),\n",
    "    n_res_bldg = (SELECT COUNT(*) FROM split_res_buildings WHERE ST_Within(geom, districts.geom)),\n",
    "    n_res_bldg_near_gs = (SELECT COUNT(*) FROM split_res_buildings WHERE ST_DWithin(geom, (SELECT geom FROM crowns_xy WHERE ST_Within(geom, districts.geom)), 300)),\n",
    "    n_trees_near_bldg = (SELECT COUNT(*) FROM crowns_xy WHERE ST_DWithin(geom, (SELECT geom FROM split_buildings WHERE ST_Within(geom, districts.geom)), 15))\n",
    "    \"\"\"\n",
    "    )\n",
    "\n",
    "\n",
    "\n",
    "\n",
    "\n"
   ]
  },
  {
   "cell_type": "markdown",
   "metadata": {},
   "source": [
    "### Generate Columns with Area Statistics\n",
    "\n",
    "| Name | Alias | Description | Type |  Unit |\n",
    "| --- | --- | --- | --- | --- |\n",
    "| a_district | Grunnkretsareal | Area of the district | FLOAT | m2 |\n",
    "| a_open_space | Åpent område | Area of open space | FLOAT | m2 |\n",
    "| a_private_space | Privat område | Area of private space | FLOAT | m2 |\n",
    "| a_public_space | Offentlig område | Area of public space | FLOAT | m2 |\n",
    "| a_green_space | Grøntområde | Area of green space | FLOAT | m2 |\n",
    "| a_crown | Kroneareal | Crown coverage area within the district | FLOAT | m2 |\n",
    "| a_crown_public | Kroneareal i offentlig område | Crown coverage area within public space | FLOAT | m2 |\n",
    "| a_crown_private | Kroneareal i privat område | Crown coverage area within private space | FLOAT | m2 |\n"
   ]
  },
  {
   "cell_type": "code",
   "execution_count": null,
   "metadata": {},
   "outputs": [],
   "source": [
    "\n",
    "\n",
    "# Assuming you have already loaded your tables into DuckDB\n",
    "# You can use con.execute(\"CREATE TABLE ...\") and con.execute(\"COPY ... FROM ...\") to load your data\n",
    "\n",
    "# Update district_polygons table\n",
    "con.execute(\"\"\"\n",
    "    UPDATE district_polygons SET\n",
    "        n_trees = (SELECT COUNT(*) FROM tree_crown_polygons WHERE ST_Within(geom, district_polygons.geom)),\n",
    "        n_building = (SELECT COUNT(*) FROM building_polygons WHERE ST_Within(geom, district_polygons.geom)),\n",
    "        n_res_bldg = (SELECT COUNT(*) FROM residential_building_polygons WHERE ST_Within(geom, district_polygons.geom)),\n",
    "        n_res_bldg_green_space = (SELECT COUNT(*) FROM residential_building_polygons WHERE ST_DWithin(geom, (SELECT geom FROM green_area_polygons), 300)),\n",
    "        a_district = ST_Area(geom),\n",
    "        area_open_space = (SELECT SUM(ST_Area(geom)) FROM open_area_polygon WHERE ST_Within(geom, district_polygons.geom)),\n",
    "        area_private_space = (SELECT SUM(ST_Area(geom)) FROM private_public_area_polygons WHERE ST_Within(geom, district_polygons.geom) AND type = 'private'),\n",
    "        area_public_space = (SELECT SUM(ST_Area(geom)) FROM private_public_area_polygons WHERE ST_Within(geom, district_polygons.geom) AND type = 'public'),\n",
    "        area_green_space = (SELECT SUM(ST_Area(geom)) FROM green_area_polygons WHERE ST_Within(geom, district_polygons.geom)),\n",
    "        area_crown_coverage = (SELECT SUM(ST_Area(geom)) FROM tree_crown_polygons WHERE ST_Within(geom, district_polygons.geom)),\n",
    "        area_crown_coverage_public_space = (SELECT SUM(ST_Area(geom)) FROM tree_crown_polygons WHERE ST_Within(geom, (SELECT geom FROM private_public_area_polygons WHERE type = 'public')))\n",
    "\"\"\")"
   ]
  }
 ],
 "metadata": {
  "language_info": {
   "name": "python"
  }
 },
 "nbformat": 4,
 "nbformat_minor": 2
}
