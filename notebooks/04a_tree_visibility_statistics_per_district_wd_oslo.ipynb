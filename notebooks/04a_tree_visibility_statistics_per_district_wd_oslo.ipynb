{
 "cells": [
  {
   "cell_type": "markdown",
   "metadata": {},
   "source": [
    "# Caclulate tree visibility statistics per district\n",
    "\n",
    "[![colab](https://colab.research.google.com/assets/colab-badge.svg)](https://colab.research.google.com/github/ac-willeke/urban-climate/blob/main/notebooks/01_FROST_extract_climate_data.ipynb) [![github](https://img.shields.io/badge/GitHub-View%20on%20GitHub-blue?logo=github)](https://github.com/ac-willeke/)\n",
    "\n",
    "**Author**: Willeke A'Campo\n",
    "\n",
    "**Description:** This notebooks shows how to calculate the Ecosystem Service statistics for tree visibility and impact per district using DuckDB. The results are stored in a new table in the database and exported to GeoJSON.\n",
    "\n",
    "**Documentation:** "
   ]
  },
  {
   "cell_type": "markdown",
   "metadata": {},
   "source": [
    "### Data conversion | GeoJSON to GeoParquet   "
   ]
  },
  {
   "cell_type": "code",
   "execution_count": 1,
   "metadata": {},
   "outputs": [
    {
     "name": "stderr",
     "output_type": "stream",
     "text": [
      "/usr/local/lib/python3.10/dist-packages/numpy/lib/scimath.py:46: RuntimeWarning: divide by zero encountered in log\n",
      "  _ln2 = nx.log(2.0)\n"
     ]
    }
   ],
   "source": [
    "import geopandas as gpd\n",
    "from shapely.geometry import Point\n",
    "from shapely.wkb import loads\n",
    "import pyarrow\n",
    "import os\n",
    "import leafmap\n",
    "import os\n",
    "import duckdb\n",
    "import pandas as pd\n",
    "\n",
    "# TODO move to kedro pipeline\n",
    "municipality = \"oslo\"\n",
    "raw_dir = r\"/workspaces/urban-climate/data/01_raw\"\n",
    "interim_dir = r\"/workspaces/urban-climate/data/02_intermediate\"\n",
    "reporting_dir = r\"/workspaces/urban-climate/data/08_reporting/\"\n",
    "\n",
    "# Define the table names\n",
    "file_names = [\n",
    "    f\"{municipality}_study_area\", \n",
    "    f\"{municipality}_districts\",\n",
    "    f\"{municipality}_bldg\",\n",
    "    f\"{municipality}_res_bldg\",\n",
    "    f\"{municipality}_green_space\",\n",
    "    f\"{municipality}_open_space\",\n",
    "    f\"{municipality}_public_open_space\",\n",
    "    f\"{municipality}_private_open_space\",\n",
    "    f\"{municipality}_tree_crowns\"\n",
    "    ]\n",
    "\n",
    "table_names = [\n",
    "    \"study_area\", \"districts\", \"bldg\", \"res_bldg\", \"green_space\",\n",
    "    \"open_space\", \"public_open_space\", \"private_open_space\", \"tree_crowns\"\n",
    "    ]\n"
   ]
  },
  {
   "cell_type": "code",
   "execution_count": 2,
   "metadata": {},
   "outputs": [],
   "source": [
    "\n",
    "# Define the parquet_dict\n",
    "parquet_dict = {\n",
    "    name: os.path.join(interim_dir, f\"{name}.parquet\") \n",
    "    for name in file_names}\n",
    "\n",
    "# Check if the parquet files exist, if not convert  to parquet\n",
    "for key in parquet_dict.keys():\n",
    "    if os.path.exists(parquet_dict[key]):\n",
    "        continue\n",
    "    else:\n",
    "        # Define the gdf_dict\n",
    "        gdf_dict = {\n",
    "            name: gpd.read_file(os.path.join(raw_dir, f\"{name}.geojson\")) \n",
    "            for name in file_names}\n",
    "\n",
    "        # Convert GeoDataFrame to Parquet\n",
    "        for key, gdf in gdf_dict.items():\n",
    "            gdf.to_parquet(\n",
    "                path = interim_dir + \"/\" + key + \".parquet\",\n",
    "                index = None, \n",
    "                compression = \"snappy\"\n",
    "            )"
   ]
  },
  {
   "cell_type": "code",
   "execution_count": 3,
   "metadata": {},
   "outputs": [],
   "source": [
    "#gdf = gpd.read_file(os.path.join(raw_dir, \"shp\", f\"{municipality}_public_open_space.shp\"))\n",
    "#gdf.to_parquet(\n",
    "    #path = interim_dir + \"/\" + f\"{municipality}_public_open_space\" + \".parquet\",\n",
    "    #index = None, \n",
    "    #compression = \"snappy\"\n",
    "#)"
   ]
  },
  {
   "cell_type": "code",
   "execution_count": 4,
   "metadata": {},
   "outputs": [
    {
     "data": {
      "application/vnd.jupyter.widget-view+json": {
       "model_id": "37aee1f123a8476190ecbeddb1d226d4",
       "version_major": 2,
       "version_minor": 0
      },
      "text/plain": [
       "FloatProgress(value=0.0, layout=Layout(width='auto'), style=ProgressStyle(bar_color='black'))"
      ]
     },
     "metadata": {},
     "output_type": "display_data"
    },
    {
     "name": "stdout",
     "output_type": "stream",
     "text": [
      "[('study_area',), ('districts',), ('bldg',), ('res_bldg',), ('green_space',), ('open_space',), ('public_open_space',), ('private_open_space',), ('tree_crowns',)]\n"
     ]
    }
   ],
   "source": [
    "# Create a connection to the DuckDB database\n",
    "con = duckdb.connect(database=\":memory:\", read_only=False)\n",
    "con.install_extension(\"spatial\")\n",
    "con.load_extension(\"spatial\")\n",
    "\n",
    "# Create a table for each parquet file or GeoDataFrame\n",
    "for key,table in zip(parquet_dict.keys(), table_names):\n",
    "    con.execute(\n",
    "        f\"\"\"\n",
    "        CREATE TABLE {table} \n",
    "        AS SELECT *, ST_GeomFromWKB(geometry) \n",
    "        FROM parquet_scan('{parquet_dict[key]}')\n",
    "        \"\"\"\n",
    "        )\n",
    "    \n",
    "\n",
    "# Fetch and print all table names\n",
    "result = con.execute(\n",
    "    \"\"\"\n",
    "    SELECT table_name \n",
    "    FROM information_schema.tables \n",
    "    WHERE table_schema = 'main'\n",
    "    \"\"\"\n",
    "    )\n",
    "\n",
    "print(result.fetchall())"
   ]
  },
  {
   "cell_type": "markdown",
   "metadata": {},
   "source": [
    "**Create a new Table with Tree Crown Center Points**"
   ]
  },
  {
   "cell_type": "code",
   "execution_count": 5,
   "metadata": {},
   "outputs": [],
   "source": [
    "# Check if the 'crowns' table exists\n",
    "table_exists = \"tree_crowns\" in [\n",
    "    row[0]\n",
    "    for row in con.execute(\n",
    "        \"\"\"\n",
    "        SELECT table_name \n",
    "        FROM information_schema.tables \n",
    "        WHERE table_schema = 'main'\n",
    "        \"\"\"\n",
    "    ).fetchall()\n",
    "]\n",
    "\n",
    "if table_exists:\n",
    "    # convert dtype to DuckDB GEOMETRY\n",
    "    result = con.execute(\n",
    "        \"\"\"\n",
    "        SELECT \n",
    "        ST_X(ST_Centroid(ST_GeomFromWKB(geometry))), \n",
    "        ST_Y(ST_Centroid(ST_GeomFromWKB(geometry))) \n",
    "        FROM tree_crowns\"\"\"\n",
    "        )\n",
    "    # xy_crowns to pd\n",
    "    df = pd.DataFrame(result.fetchall(), columns=[\"X\", \"Y\"])\n",
    "    \n",
    "    xy_crowns = gpd.GeoDataFrame(\n",
    "        df,\n",
    "        geometry= gpd.points_from_xy(df.X, df.Y)\n",
    "        )\n",
    "    xy_crowns.crs = \"EPSG:25832\"\n",
    "\n",
    "\n",
    "    # Create a new table in DuckDB\n",
    "    con.execute(\n",
    "        \"\"\"\n",
    "        CREATE TABLE tree_crowns_xy AS\n",
    "        SELECT \n",
    "        ST_X(ST_Centroid(ST_GeomFromWKB(geometry))) AS X, \n",
    "        ST_Y(ST_Centroid(ST_GeomFromWKB(geometry))) AS Y,\n",
    "        ST_Point(ST_X(ST_Centroid(ST_GeomFromWKB(geometry))), ST_Y(ST_Centroid(ST_GeomFromWKB(geometry)))) AS geometry\n",
    "        FROM tree_crowns\"\"\"\n",
    "    )"
   ]
  },
  {
   "cell_type": "markdown",
   "metadata": {},
   "source": [
    "**Map study area and Tree Crown Center Points (10%-sample)**"
   ]
  },
  {
   "cell_type": "code",
   "execution_count": 6,
   "metadata": {},
   "outputs": [
    {
     "name": "stdout",
     "output_type": "stream",
     "text": [
      "Map the tree crown center points (10% sample).\n",
      "                    X             Y                   geometry\n",
      "349265  607147.627212  6.646218e+06  POINT (10.91765 59.93943)\n",
      "58924   597707.327961  6.643856e+06  POINT (10.74768 59.92058)\n"
     ]
    }
   ],
   "source": [
    "# add layers to gdf for mapping\n",
    "gdf_study_area = leafmap.read_parquet(\n",
    "    parquet_dict[f\"{municipality}_study_area\"], \n",
    "    return_type='gdf', \n",
    "    src_crs=\"EPSG:25832\", \n",
    "    dst_crs=\"EPSG:4326\"\n",
    "    )\n",
    "\n",
    "# convert xy_crowns to wgs84\n",
    "xy_crowns_sample = xy_crowns.sample(frac=0.05)\n",
    "trees_xy = xy_crowns_sample.to_crs(\"EPSG:4326\")\n",
    "points_geojson = trees_xy.__geo_interface__\n",
    "print(\"Map the tree crown center points (10% sample).\")\n",
    "print(trees_xy.head(2))\n",
    "\n",
    "# Calculate the center of the study_area GeoDataFrame\n",
    "center = gdf_study_area.geometry.unary_union.centroid\n",
    "\n",
    "# --------------------------------------------------\n",
    "# INIT MAP\n",
    "# --------------------------------------------------\n",
    "map = leafmap.Map()\n",
    "# center\n",
    "map.set_center(center.x, center.y, zoom=13)\n",
    "# add Basemap\n",
    "map.add_basemap(\"CartoDB.Positron\")\n",
    "\n",
    "# add study area as vector layer\n",
    "map.add_gdf(\n",
    "        gdf_study_area, \n",
    "        layer_name=\"study_area\", \n",
    "        get_fill_color=[0, 0, 255, 128]\n",
    "        )\n",
    "\n",
    "map.add_gdf(\n",
    "    trees_xy,\n",
    "    layer_name =\"trees\",\n",
    "    color= \"black\"\n",
    ")\n",
    "\n",
    "#map"
   ]
  },
  {
   "cell_type": "markdown",
   "metadata": {},
   "source": [
    "### Database Connection | DuckDB"
   ]
  },
  {
   "cell_type": "code",
   "execution_count": 7,
   "metadata": {},
   "outputs": [],
   "source": [
    "%%capture\n",
    "columns = con.execute(\"PRAGMA table_info(districts)\").fetchall()\n",
    "for column in columns:\n",
    "    print(column[1])\n"
   ]
  },
  {
   "cell_type": "markdown",
   "metadata": {},
   "source": [
    "**Split open space, buildings and tree crowns by district**"
   ]
  },
  {
   "cell_type": "code",
   "execution_count": 8,
   "metadata": {},
   "outputs": [
    {
     "ename": "",
     "evalue": "",
     "output_type": "error",
     "traceback": [
      "\u001b[1;31mThe Kernel crashed while executing code in the the current cell or a previous cell. Please review the code in the cell(s) to identify a possible cause of the failure. Click <a href='https://aka.ms/vscodeJupyterKernelCrash'>here</a> for more info. View Jupyter <a href='command:jupyter.viewOutput'>log</a> for further details."
     ]
    }
   ],
   "source": [
    "%%capture\n",
    "# create new table split_open_space \n",
    "# with open space split by district boundaries\n",
    "con.execute(\n",
    "    \"\"\"\n",
    "    CREATE TABLE split_open_space AS \n",
    "    SELECT\n",
    "        districts.grunnkretsnummer,\n",
    "        ST_Intersection(ST_GeomFromWKB(districts.geometry), ST_GeomFromWKB(open_space.geometry)) AS geom\n",
    "    FROM \n",
    "        districts, open_space\n",
    "    WHERE\n",
    "        ST_Intersects(ST_GeomFromWKB(districts.geometry), ST_GeomFromWKB(open_space.geometry));\n",
    "    \"\"\"\n",
    "    )"
   ]
  },
  {
   "cell_type": "code",
   "execution_count": null,
   "metadata": {},
   "outputs": [],
   "source": [
    "%%capture\n",
    "# create new table split_private_space\n",
    "# with public space split by district boundaries\n",
    "con.execute(\n",
    "    \"\"\"\n",
    "    CREATE TABLE split_private_space AS \n",
    "    SELECT\n",
    "        districts.grunnkretsnummer,\n",
    "        ST_Intersection(ST_GeomFromWKB(districts.geometry), ST_GeomFromWKB(private_open_space.geometry)) AS geom\n",
    "    FROM \n",
    "        districts, private_open_space\n",
    "    WHERE\n",
    "        ST_Intersects(ST_GeomFromWKB(districts.geometry), ST_GeomFromWKB(private_open_space.geometry));\n",
    "    \"\"\"\n",
    "    )"
   ]
  },
  {
   "cell_type": "code",
   "execution_count": null,
   "metadata": {},
   "outputs": [],
   "source": [
    "%%capture\n",
    "# create new table split_public_space\n",
    "# with private space split by district boundaries\n",
    "con.execute(\n",
    "    \"\"\"\n",
    "    CREATE TABLE split_public_space AS \n",
    "    SELECT\n",
    "        districts.grunnkretsnummer,\n",
    "        ST_Intersection(ST_GeomFromWKB(districts.geometry), ST_GeomFromWKB(public_open_space.geometry)) AS geom\n",
    "    FROM \n",
    "        districts, public_open_space\n",
    "    WHERE\n",
    "        ST_Intersects(ST_GeomFromWKB(districts.geometry), ST_GeomFromWKB(public_open_space.geometry));\n",
    "    \"\"\"\n",
    "    )"
   ]
  },
  {
   "cell_type": "code",
   "execution_count": null,
   "metadata": {},
   "outputs": [],
   "source": [
    "%%capture\n",
    "# create new table split_buildings\n",
    "# with buildings split by district boundaries\n",
    "con.execute(\n",
    "    \"\"\"\n",
    "    CREATE TABLE split_bldg AS \n",
    "    SELECT\n",
    "        districts.grunnkretsnummer,\n",
    "        ST_Intersection(ST_GeomFromWKB(districts.geometry), ST_GeomFromWKB(bldg.geometry)) AS geom\n",
    "    FROM \n",
    "        districts, bldg\n",
    "    WHERE\n",
    "        ST_Intersects(ST_GeomFromWKB(districts.geometry), ST_GeomFromWKB(bldg.geometry));\n",
    "    \"\"\"\n",
    "    )"
   ]
  },
  {
   "cell_type": "code",
   "execution_count": null,
   "metadata": {},
   "outputs": [],
   "source": [
    "%%capture\n",
    "# create new table split_res_bldg\n",
    "# with buildings split by district boundaries\n",
    "con.execute(\n",
    "    \"\"\"\n",
    "    CREATE TABLE split_res_bldg AS \n",
    "    SELECT\n",
    "        districts.grunnkretsnummer,\n",
    "        ST_Intersection(ST_GeomFromWKB(districts.geometry), ST_GeomFromWKB(res_bldg.geometry)) AS geom\n",
    "    FROM \n",
    "        districts, res_bldg\n",
    "    WHERE\n",
    "        ST_Intersects(ST_GeomFromWKB(districts.geometry), ST_GeomFromWKB(res_bldg.geometry));\n",
    "    \"\"\"\n",
    "    )"
   ]
  },
  {
   "cell_type": "code",
   "execution_count": null,
   "metadata": {},
   "outputs": [],
   "source": [
    "%%capture\n",
    "# create new table split_tree_crowns\n",
    "# with tree crowns split by district boundaries\n",
    "con.execute(\n",
    "    \"\"\"\n",
    "    CREATE TABLE split_tree_crowns AS \n",
    "    SELECT\n",
    "        districts.grunnkretsnummer,\n",
    "        ST_Intersection(ST_GeomFromWKB(districts.geometry), ST_GeomFromWKB(tree_crowns.geometry)) AS geom\n",
    "    FROM \n",
    "        districts, tree_crowns\n",
    "    WHERE\n",
    "        ST_Intersects(ST_GeomFromWKB(districts.geometry), ST_GeomFromWKB(tree_crowns.geometry));\n",
    "    \"\"\"\n",
    "    )"
   ]
  },
  {
   "cell_type": "code",
   "execution_count": null,
   "metadata": {},
   "outputs": [],
   "source": [
    "%%capture\n",
    "# print columns split_open_space\n",
    "columns = con.execute(\"PRAGMA table_info(split_open_space)\").fetchall()\n",
    "for column in columns:\n",
    "    print(column[1])\n",
    "    \n",
    "# Query to fetch all table names\n",
    "tables = con.execute(\"SELECT name FROM sqlite_master WHERE type='table'\").fetchall()\n",
    "\n",
    "# Print the first row of each table\n",
    "for table in tables:\n",
    "    first_row = con.execute(f\"SELECT * FROM {table[0]} LIMIT 1\").fetchone()\n",
    "    print(f\"First row of {table[0]}: {first_row}\")"
   ]
  },
  {
   "cell_type": "markdown",
   "metadata": {},
   "source": [
    "### Generate Columns with Count Statistics\n",
    "\n",
    "| Name | Alias | Description | Type |  Unit | \n",
    "| --- | --- | --- | --- | --- |\n",
    "| n_trees | Antall trær | Number of trees in the district | INT |\n",
    "| n_bldg | Antall bygninger | Number of buildings in the district | INT |\n",
    "| n_res_bldg | Antall boliger | Number of residential buildings in the district | INT |\n",
    "| n_res_bldg_near_gs | Antall boliger nær grøntområde (300 m) | Number of residential buildings near green space (300 m) | INT |\n",
    "| n_trees_near_rbldg | Antall trær nær boliger (15 m) | Number of trees near residential buildings (15 m) | INT |\n",
    "| n_viewshed | Antall viewshed piksler | Number of viewshed pixels that intersect with the building edge | INT |\n",
    "\n"
   ]
  },
  {
   "cell_type": "markdown",
   "metadata": {},
   "source": [
    "**Add columns to districts table**"
   ]
  },
  {
   "cell_type": "code",
   "execution_count": null,
   "metadata": {},
   "outputs": [],
   "source": [
    "# update districts\n",
    "# add count columns: n_trees, n_bldg, n_res_bldg, n_res_bldg_near_gs, n_trees_near_rbldg\n",
    "con.execute(\"ALTER TABLE districts ADD COLUMN n_trees INTEGER\")\n",
    "con.execute(\"ALTER TABLE districts ADD COLUMN n_bldg INTEGER\")\n",
    "con.execute(\"ALTER TABLE districts ADD COLUMN n_res_bldg INTEGER\")\n",
    "con.execute(\"ALTER TABLE districts ADD COLUMN n_res_bldg_near_gs INTEGER\")\n",
    "con.execute(\"ALTER TABLE districts ADD COLUMN perc_near_gs INTEGER\")\n",
    "con.execute(\"ALTER TABLE districts ADD COLUMN n_trees_near_rbldg INTEGER\")\n",
    "con.execute(\"ALTER TABLE districts ADD COLUMN perc_near_rbldg INTEGER\")"
   ]
  },
  {
   "cell_type": "code",
   "execution_count": null,
   "metadata": {},
   "outputs": [],
   "source": [
    "%%capture\n",
    "# print columns districts\n",
    "columns = con.execute(\"PRAGMA table_info(split_bldg)\").fetchall()\n",
    "for column in columns:\n",
    "    print(column[1])"
   ]
  },
  {
   "cell_type": "markdown",
   "metadata": {},
   "source": [
    "**Calculate COUNT attributes**"
   ]
  },
  {
   "cell_type": "code",
   "execution_count": null,
   "metadata": {},
   "outputs": [],
   "source": [
    "# COUNT number of trees per district\n",
    "n_trees = con.execute(\n",
    "    \"\"\"\n",
    "    SELECT districts.grunnkretsnummer, COUNT(*) \n",
    "    FROM tree_crowns_xy \n",
    "    JOIN districts ON ST_Within(tree_crowns_xy.geometry, ST_GeomFromWKB(districts.geometry))\n",
    "    GROUP BY districts.grunnkretsnummer\n",
    "    \"\"\"\n",
    "    ).fetchall()\n",
    "\n",
    "# COUNT number of buildings per district\n",
    "n_bldg = con.execute(\n",
    "    \"\"\"\n",
    "    SELECT districts.grunnkretsnummer, COUNT(*) \n",
    "    FROM split_bldg \n",
    "    JOIN districts ON ST_Within(split_bldg.geom, ST_GeomFromWKB(districts.geometry))\n",
    "    GROUP BY districts.grunnkretsnummer\n",
    "    \"\"\"\n",
    "    ).fetchall()\n",
    "\n",
    "# COUNT number of residential buildings per district \n",
    "n_res_bldg = con.execute(\n",
    "    \"\"\"\n",
    "    SELECT districts.grunnkretsnummer, COUNT(*) \n",
    "    FROM split_res_bldg \n",
    "    JOIN districts ON ST_Within(split_res_bldg.geom, ST_GeomFromWKB(districts.geometry))\n",
    "    GROUP BY districts.grunnkretsnummer\n",
    "    \"\"\"\n",
    "    ).fetchall()\n",
    "\n",
    "# COUNT number of res buildings WITHIN 300m distance of green space\n",
    "n_res_bldg_near_gs = con.execute(\n",
    "    \"\"\"\n",
    "    SELECT districts.grunnkretsnummer, COUNT(*) \n",
    "    FROM res_bldg \n",
    "    JOIN districts ON ST_Within(ST_GeomFromWKB(res_bldg.geometry), ST_GeomFromWKB(districts.geometry))\n",
    "    WHERE res_bldg.geometry IS NOT NULL AND districts.geometry IS NOT NULL AND EXISTS (\n",
    "        SELECT 1\n",
    "        FROM green_space\n",
    "        WHERE green_space.geometry IS NOT NULL AND ST_DWithin(ST_GeomFromWKB(res_bldg.geometry), ST_GeomFromWKB(green_space.geometry), 300)\n",
    "    )\n",
    "    GROUP BY districts.grunnkretsnummer\n",
    "    \"\"\"\n",
    "    ).fetchall()\n",
    "\n",
    "# COUNT number of trees crowns WITHIN 15m distance of res buildings\n",
    "n_trees_near_rbldg = con.execute(\n",
    "    \"\"\"\n",
    "    SELECT districts.grunnkretsnummer, COUNT(*) \n",
    "    FROM tree_crowns\n",
    "    JOIN districts ON ST_Within(ST_GeomFromWKB(tree_crowns.geometry), ST_GeomFromWKB(districts.geometry))\n",
    "    WHERE EXISTS (\n",
    "        SELECT 1\n",
    "        FROM res_bldg\n",
    "        WHERE ST_DWithin(ST_GeomFromWKB(tree_crowns.geometry), ST_GeomFromWKB(res_bldg.geometry), 15)\n",
    "        AND ST_Within(ST_GeomFromWKB(res_bldg.geometry), ST_GeomFromWKB(districts.geometry))\n",
    "    )\n",
    "    GROUP BY districts.grunnkretsnummer\n",
    "    \"\"\"\n",
    "    ).fetchall()\n",
    "\n",
    "# Update districts table\n",
    "for id, count in n_trees:\n",
    "    con.execute(f\"UPDATE districts SET n_trees = {count} WHERE grunnkretsnummer = {id}\")\n",
    "\n",
    "for id, count in n_bldg:\n",
    "    con.execute(f\"UPDATE districts SET n_bldg = {count} WHERE grunnkretsnummer = {id}\")\n",
    "\n",
    "for id, count in n_res_bldg:\n",
    "    con.execute(f\"UPDATE districts SET n_res_bldg = {count} WHERE grunnkretsnummer = {id}\")\n",
    "\n",
    "for id, count in n_res_bldg_near_gs:\n",
    "    con.execute(f\"UPDATE districts SET n_res_bldg_near_gs = {count} WHERE grunnkretsnummer = {id}\")\n",
    "\n",
    "for id, count in n_trees_near_rbldg:\n",
    "    con.execute(f\"UPDATE districts SET n_trees_near_rbldg = {count} WHERE grunnkretsnummer = {id}\")\n",
    "    \n",
    "# print columns districts\n",
    "columns = con.execute(\"PRAGMA table_info(districts)\").fetchall()\n",
    "for column in columns:\n",
    "    print(column[1])"
   ]
  },
  {
   "cell_type": "code",
   "execution_count": null,
   "metadata": {},
   "outputs": [],
   "source": [
    "# if NAN set to 0\n",
    "con.execute(\n",
    "    \"\"\"\n",
    "    UPDATE districts\n",
    "    SET n_res_bldg_near_gs = COALESCE(n_res_bldg_near_gs, 0)\n",
    "    \"\"\"\n",
    ")\n",
    "\n",
    "con.execute(\n",
    "    \"\"\"\n",
    "    UPDATE districts\n",
    "    SET n_bldg = COALESCE(n_bldg, 0)\n",
    "    \"\"\"\n",
    ")\n",
    "\n",
    "con.execute(\n",
    "    \"\"\"\n",
    "    UPDATE districts\n",
    "    SET n_res_bldg = COALESCE(n_res_bldg, 0)\n",
    "    \"\"\"\n",
    ")\n",
    "\n",
    "con.execute(\n",
    "    \"\"\"\n",
    "    UPDATE districts\n",
    "    SET n_trees_near_rbldg = COALESCE(n_trees_near_rbldg, 0)\n",
    "    \"\"\"\n",
    ")\n",
    "# normalize perc_near_gs\n",
    "con.execute(\n",
    "    \"\"\"\n",
    "    UPDATE districts\n",
    "    SET perc_near_gs = (n_res_bldg_near_gs / n_res_bldg) * 100\n",
    "    \"\"\"\n",
    ")\n",
    "\n",
    "# normalize perc_near_rbldg\n",
    "con.execute(\n",
    "    \"\"\"\n",
    "    UPDATE districts\n",
    "    SET perc_near_rbldg = (n_trees_near_rbldg / n_trees) * 100\n",
    "    \"\"\"\n",
    ")"
   ]
  },
  {
   "cell_type": "markdown",
   "metadata": {},
   "source": [
    "### Generate Columns with Area Statistics\n",
    "\n",
    "| Name | Alias | Description | Type |  Unit |\n",
    "| --- | --- | --- | --- | --- |\n",
    "| a_district | Grunnkretsareal | Area of the district | FLOAT | m2 |\n",
    "| a_open_space | Åpent område | Area of open space | FLOAT | m2 |\n",
    "| a_private_space | Privat område | Area of private space | FLOAT | m2 |\n",
    "| a_public_space | Offentlig område | Area of public space | FLOAT | m2 |\n",
    "| a_crown | Kroneareal | Crown coverage area within the district | FLOAT | m2 |\n",
    "| perc_crown | Trekronedekningsgrad (%) | Tree crown coverage % | FLOAT | % |\n"
   ]
  },
  {
   "cell_type": "markdown",
   "metadata": {},
   "source": [
    "**Add columns to districts table**"
   ]
  },
  {
   "cell_type": "code",
   "execution_count": null,
   "metadata": {},
   "outputs": [],
   "source": [
    "# update districts\n",
    "# add area columns: a_open_space, a_private_space, a_public_space, a_green_space, a_crown, a_crown_public, a_crown_private\n",
    "con.execute(\"ALTER TABLE districts ADD COLUMN a_open_space FLOAT\")\n",
    "con.execute(\"ALTER TABLE districts ADD COLUMN a_private_space FLOAT\")\n",
    "con.execute(\"ALTER TABLE districts ADD COLUMN a_public_space FLOAT\")\n",
    "con.execute(\"ALTER TABLE districts ADD COLUMN a_crown FLOAT\")\n",
    "con.execute(\"ALTER TABLE districts ADD COLUMN perc_crown FLOAT\")"
   ]
  },
  {
   "cell_type": "markdown",
   "metadata": {},
   "source": [
    "**Caluclate AREA attributes**"
   ]
  },
  {
   "cell_type": "code",
   "execution_count": null,
   "metadata": {},
   "outputs": [],
   "source": [
    "# AREA of open space per district\n",
    "# calculate the overlapping area of open space with district X, A etc. \n",
    "con.execute(\n",
    "    \"\"\"\n",
    "    UPDATE districts\n",
    "    SET a_open_space = (\n",
    "        SELECT SUM(ST_Area(ST_Intersection(ST_GeomFromWKB(districts.geometry), split_open_space.geom)))\n",
    "        FROM split_open_space\n",
    "        WHERE ST_Intersects(ST_GeomFromWKB(districts.geometry), split_open_space.geom)\n",
    "    )\n",
    "    \"\"\"\n",
    ")\n",
    "\n",
    "# AREA of private open space per district\n",
    "# calculate the overlapping area of private open space with district X, A etc.\n",
    "con.execute(\n",
    "    \"\"\"\n",
    "    UPDATE districts\n",
    "    SET a_private_space = (\n",
    "        SELECT SUM(ST_Area(ST_Intersection(ST_GeomFromWKB(districts.geometry), split_private_space.geom)))\n",
    "        FROM split_private_space\n",
    "        WHERE ST_Intersects(ST_GeomFromWKB(districts.geometry), split_private_space.geom)\n",
    "    )\n",
    "    \"\"\"\n",
    ")\n",
    "\n",
    "# AREA of public open space per district\n",
    "# calculate the overlapping area of public open space with district X, A etc.\n",
    "con.execute(\n",
    "    \"\"\"\n",
    "    UPDATE districts\n",
    "    SET a_public_space = (\n",
    "        SELECT SUM(ST_Area(ST_Intersection(ST_GeomFromWKB(districts.geometry), split_public_space.geom)))\n",
    "        FROM split_public_space\n",
    "        WHERE ST_Intersects(ST_GeomFromWKB(districts.geometry), split_public_space.geom)\n",
    "    )\n",
    "    \"\"\"\n",
    ")\n",
    "\n",
    "# AREA of tree crowns per district\n",
    "# calculate the overlapping area of tree crowns with district X, A etc.\n",
    "con.execute(\n",
    "    \"\"\"\n",
    "    UPDATE districts\n",
    "    SET a_crown = (\n",
    "        SELECT SUM(ST_Area(ST_Intersection(ST_GeomFromWKB(districts.geometry), split_tree_crowns.geom)))\n",
    "        FROM split_tree_crowns\n",
    "        WHERE ST_Intersects(ST_GeomFromWKB(districts.geometry), split_tree_crowns.geom)\n",
    "    )\n",
    "    \"\"\"\n",
    ")\n",
    "\n",
    "# PERCENTAGE of tree crown coverage per district \n",
    "con.execute(\n",
    "    \"\"\"\n",
    "    UPDATE districts\n",
    "    SET perc_crown = (a_crown / a_clipped) * 100\n",
    "    \"\"\"\n",
    ")"
   ]
  },
  {
   "cell_type": "markdown",
   "metadata": {},
   "source": [
    "**Export to dataframe**"
   ]
  },
  {
   "cell_type": "code",
   "execution_count": null,
   "metadata": {},
   "outputs": [],
   "source": [
    "# Export districts to DataFrame\n",
    "df = pd.read_sql(\"SELECT * FROM districts\", con)\n",
    "\n",
    "# Convert geometry column from WKB to shapely geometry\n",
    "df['geometry'] = df['geometry'].apply(loads, hex=True)\n",
    "\n",
    "# Convert DataFrame to GeoDataFrame\n",
    "gdf = gpd.GeoDataFrame(df, geometry='geometry')\n",
    "gdf_sorted = gdf.sort_values(by='grunnkretsnummer', ascending=True)\n",
    "gdf_sorted = gdf_sorted.round(2)\n",
    "\n",
    "# Define the %-bins and labels\n",
    "labels = [\"no data\", \"0-25%\", \"25-50%\", \"50-75%\", \"75-100%\"]\n",
    "bins = pd.IntervalIndex.from_tuples([(-0.01, 25), (25, 50), (50, 75), (75, 100)])\n",
    "dict = {\n",
    "    \"nan\":\"no data\", \n",
    "    \"(-0.01, 25.0]\": \"0-25%\", \n",
    "    \"(25.0, 50.0]\": \"25-50%\", \n",
    "    \"(50.0, 75.0]\": \"50-75%\", \n",
    "    \"(75.0, 100.0]\": \"75-100%\"\n",
    "    }\n",
    "\n",
    "# Near Residential Buildings % Categories\n",
    "gdf_sorted['bldg_bins'] = pd.cut(gdf_sorted['perc_near_rbldg'], bins)\n",
    "gdf_sorted['bldg_bins'] = gdf_sorted['bldg_bins'].astype(str)\n",
    "gdf_sorted['labels_near_rbldg'] = gdf_sorted['bldg_bins'].map(dict)\n",
    "\n",
    "# Near Green Space % Categories\n",
    "gdf_sorted['gs_bins'] = pd.cut(gdf_sorted['perc_near_gs'], bins)\n",
    "gdf_sorted['gs_bins'] = gdf_sorted['gs_bins'].astype(str)\n",
    "gdf_sorted['labels_near_gs'] = gdf_sorted['gs_bins'].map(dict)\n",
    "\n",
    "# Crown Coverate % Categories\n",
    "gdf_sorted['crown_bins'] = pd.cut(gdf_sorted['perc_crown'], bins)\n",
    "gdf_sorted['crown_bins'] = gdf_sorted['crown_bins'].astype(str)\n",
    "gdf_sorted['labels_perc_crown'] = gdf_sorted['crown_bins'].map(dict)\n",
    "\n",
    "gdf_sorted.drop(columns=['bldg_bins', 'gs_bins', 'crown_bins'], inplace=True)\n",
    "\n",
    "# display col \"kommunenavn\",\"grunnkrestnummer\", \"grunnkretsnavn\" n_bldg, n_res_bldg, n_res_bldg_near_gs, n_trees_near_rbldg, a_open_space, a_private_space, a_public_space, a_crown, perc_crown\n",
    "display(gdf_sorted[[\n",
    "    \"kommunenavn\",\"grunnkretsnummer\", \"grunnkretsnavn\", \n",
    "    \"n_trees\", \"n_bldg\", \"n_res_bldg\", \n",
    "    \"n_res_bldg_near_gs\", \"perc_near_gs\",\"labels_near_gs\",\n",
    "    \"n_trees_near_rbldg\", \"perc_near_rbldg\", \"labels_near_rbldg\",\n",
    "    \"a_open_space\", \"a_private_space\", \"a_public_space\", \"a_crown\", \n",
    "    \"perc_crown\", \"labels_perc_crown\"\n",
    "    ]]\n",
    "        )\n",
    "gdf.crs = \"EPSG:25832\"\n",
    "gdf_sorted.crs = \"EPSG:25832\"\n",
    "\n",
    "\n",
    "gdf_mapping = gdf.to_crs(\"EPSG:4326\")"
   ]
  },
  {
   "cell_type": "code",
   "execution_count": null,
   "metadata": {},
   "outputs": [],
   "source": [
    "%%capture\n",
    "print(gdf_sorted.columns)\n",
    "#drop duckdb geom col\n",
    "gdf_sorted.drop(columns=['st_geomfromwkb(geometry)'], inplace=True)\n",
    "\n",
    "# sort columns \n",
    "new_order = ['OBJECTID', 'fylkesnummer', 'fylkesnavn', 'kommunenummer',\n",
    "       'kommunenavn', 'delomradenummer', 'delomradenavn', 'grunnkretsnummer',\n",
    "       'grunnkretsnavn', 'kilde_admin', 'kilde_befolkning', 'id_befolkning',\n",
    "       'year_pop_stat', 'pop_total', 'pop_elderly', 'a_district', 'a_unit',\n",
    "       'a_clipped', 'n_trees', 'n_bldg', 'n_res_bldg',\n",
    "       'n_res_bldg_near_gs', 'perc_near_gs', 'labels_near_gs',\n",
    "       'n_trees_near_rbldg', 'perc_near_rbldg', 'labels_near_rbldg',\n",
    "       'a_open_space', 'a_private_space', 'a_public_space',\n",
    "       'a_crown', 'perc_crown','labels_perc_crown',  \n",
    "       'SHAPE_Length', 'SHAPE_Area', 'geometry']\n",
    "\n",
    "# Reorder the columns\n",
    "gdf_sorted = gdf_sorted[new_order]\n",
    "print(gdf_sorted.columns)"
   ]
  },
  {
   "cell_type": "markdown",
   "metadata": {},
   "source": [
    "**Export to Parquet, GeoJSON and CSV format**"
   ]
  },
  {
   "cell_type": "code",
   "execution_count": null,
   "metadata": {},
   "outputs": [],
   "source": [
    "# Export GDF to file \n",
    "filepath = os.path.join(reporting_dir, f\"{municipality}_district_treeVis_stat\")\n",
    "\n",
    "# Write to .parquet\n",
    "gdf_sorted.to_parquet(os.path.join(filepath + '.parquet'))\n",
    "\n",
    "# Write to .geojson\n",
    "gdf_sorted.to_file(os.path.join(filepath + '.geojson'), driver='GeoJSON')\n",
    "\n",
    "# Write to .csv\n",
    "gdf_sorted.to_csv(os.path.join(filepath + '.csv'))"
   ]
  }
 ],
 "metadata": {
  "kernelspec": {
   "display_name": "Python 3",
   "language": "python",
   "name": "python3"
  },
  "language_info": {
   "codemirror_mode": {
    "name": "ipython",
    "version": 3
   },
   "file_extension": ".py",
   "mimetype": "text/x-python",
   "name": "python",
   "nbconvert_exporter": "python",
   "pygments_lexer": "ipython3",
   "version": "3.10.12"
  }
 },
 "nbformat": 4,
 "nbformat_minor": 2
}
